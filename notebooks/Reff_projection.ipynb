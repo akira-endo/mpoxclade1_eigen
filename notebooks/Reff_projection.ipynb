{
 "cells": [
  {
   "cell_type": "code",
   "execution_count": 1,
   "id": "d80de355",
   "metadata": {},
   "outputs": [
    {
     "name": "stderr",
     "output_type": "stream",
     "text": [
      "\u001b[32m\u001b[1m  Activating\u001b[22m\u001b[39m project at `~/work`\n"
     ]
    }
   ],
   "source": [
    "using Pkg\n",
    "Pkg.activate(\"../\")"
   ]
  },
  {
   "cell_type": "code",
   "execution_count": 1,
   "id": "1645ee8a-39bc-4cf2-9cfe-a007858bfd05",
   "metadata": {
    "scrolled": true
   },
   "outputs": [],
   "source": [
    "#Pkg.instantiate()"
   ]
  },
  {
   "cell_type": "code",
   "execution_count": 3,
   "id": "2ff66f87",
   "metadata": {
    "scrolled": true
   },
   "outputs": [
    {
     "name": "stderr",
     "output_type": "stream",
     "text": [
      "\u001b[36m\u001b[1m[ \u001b[22m\u001b[39m\u001b[36m\u001b[1mInfo: \u001b[22m\u001b[39mPrecompiling RCall [6f49c342-dc21-5d91-9882-a32aef131414]\n"
     ]
    },
    {
     "data": {
      "text/plain": [
       "output_validate (generic function with 1 method)"
      ]
     },
     "execution_count": 3,
     "metadata": {},
     "output_type": "execute_result"
    }
   ],
   "source": [
    "# load functions\n",
    "include(\"../src/eigen.jl\");\n",
    "include(\"../src/eigen_setup.jl\");\n",
    "include(\"../src/eigen_output.jl\")"
   ]
  },
  {
   "cell_type": "code",
   "execution_count": 4,
   "id": "4aa7e2bd",
   "metadata": {},
   "outputs": [
    {
     "data": {
      "text/plain": [
       "Plots.GRBackend()"
      ]
     },
     "execution_count": 4,
     "metadata": {},
     "output_type": "execute_result"
    }
   ],
   "source": [
    "gr(fontfamily=\"Helvetica\",foreground_color_legend = nothing,background_color_legend = nothing, titlefontsize=11, tickfontsize=10, legendfontsize=8,labelfontsize=10,grid=true, tick_direction=:out,size=(400,300))"
   ]
  },
  {
   "cell_type": "code",
   "execution_count": 5,
   "id": "999191aa",
   "metadata": {},
   "outputs": [
    {
     "data": {
      "image/svg+xml": [
       "<?xml version=\"1.0\" encoding=\"utf-8\"?>\n",
       "<svg xmlns=\"http://www.w3.org/2000/svg\" xmlns:xlink=\"http://www.w3.org/1999/xlink\" width=\"400\" height=\"300\" viewBox=\"0 0 1600 1200\">\n",
       "<defs>\n",
       "  <clipPath id=\"clip990\">\n",
       "    <rect x=\"0\" y=\"0\" width=\"1600\" height=\"1200\"/>\n",
       "  </clipPath>\n",
       "</defs>\n",
       "<path clip-path=\"url(#clip990)\" d=\"M0 1200 L1600 1200 L1600 0 L0 0  Z\" fill=\"#ffffff\" fill-rule=\"evenodd\" fill-opacity=\"1\"/>\n",
       "<defs>\n",
       "  <clipPath id=\"clip991\">\n",
       "    <rect x=\"320\" y=\"0\" width=\"1121\" height=\"1121\"/>\n",
       "  </clipPath>\n",
       "</defs>\n",
       "<path clip-path=\"url(#clip990)\" d=\"M225.528 1019.66 L1552.76 1019.66 L1552.76 114.864 L225.528 114.864  Z\" fill=\"#ffffff\" fill-rule=\"evenodd\" fill-opacity=\"1\"/>\n",
       "<defs>\n",
       "  <clipPath id=\"clip992\">\n",
       "    <rect x=\"225\" y=\"114\" width=\"1328\" height=\"906\"/>\n",
       "  </clipPath>\n",
       "</defs>\n",
       "<polyline clip-path=\"url(#clip992)\" style=\"stroke:#000000; stroke-linecap:round; stroke-linejoin:round; stroke-width:2; stroke-opacity:0.1; fill:none\" points=\"263.091,1019.66 263.091,114.864 \"/>\n",
       "<polyline clip-path=\"url(#clip992)\" style=\"stroke:#000000; stroke-linecap:round; stroke-linejoin:round; stroke-width:2; stroke-opacity:0.1; fill:none\" points=\"471.775,1019.66 471.775,114.864 \"/>\n",
       "<polyline clip-path=\"url(#clip992)\" style=\"stroke:#000000; stroke-linecap:round; stroke-linejoin:round; stroke-width:2; stroke-opacity:0.1; fill:none\" points=\"680.459,1019.66 680.459,114.864 \"/>\n",
       "<polyline clip-path=\"url(#clip992)\" style=\"stroke:#000000; stroke-linecap:round; stroke-linejoin:round; stroke-width:2; stroke-opacity:0.1; fill:none\" points=\"889.142,1019.66 889.142,114.864 \"/>\n",
       "<polyline clip-path=\"url(#clip992)\" style=\"stroke:#000000; stroke-linecap:round; stroke-linejoin:round; stroke-width:2; stroke-opacity:0.1; fill:none\" points=\"1097.83,1019.66 1097.83,114.864 \"/>\n",
       "<polyline clip-path=\"url(#clip992)\" style=\"stroke:#000000; stroke-linecap:round; stroke-linejoin:round; stroke-width:2; stroke-opacity:0.1; fill:none\" points=\"1306.51,1019.66 1306.51,114.864 \"/>\n",
       "<polyline clip-path=\"url(#clip992)\" style=\"stroke:#000000; stroke-linecap:round; stroke-linejoin:round; stroke-width:2; stroke-opacity:0.1; fill:none\" points=\"1515.19,1019.66 1515.19,114.864 \"/>\n",
       "<polyline clip-path=\"url(#clip990)\" style=\"stroke:#000000; stroke-linecap:round; stroke-linejoin:round; stroke-width:4; stroke-opacity:1; fill:none\" points=\"225.528,1019.66 1552.76,1019.66 \"/>\n",
       "<polyline clip-path=\"url(#clip990)\" style=\"stroke:#000000; stroke-linecap:round; stroke-linejoin:round; stroke-width:4; stroke-opacity:1; fill:none\" points=\"263.091,1019.66 263.091,1038.56 \"/>\n",
       "<polyline clip-path=\"url(#clip990)\" style=\"stroke:#000000; stroke-linecap:round; stroke-linejoin:round; stroke-width:4; stroke-opacity:1; fill:none\" points=\"471.775,1019.66 471.775,1038.56 \"/>\n",
       "<polyline clip-path=\"url(#clip990)\" style=\"stroke:#000000; stroke-linecap:round; stroke-linejoin:round; stroke-width:4; stroke-opacity:1; fill:none\" points=\"680.459,1019.66 680.459,1038.56 \"/>\n",
       "<polyline clip-path=\"url(#clip990)\" style=\"stroke:#000000; stroke-linecap:round; stroke-linejoin:round; stroke-width:4; stroke-opacity:1; fill:none\" points=\"889.142,1019.66 889.142,1038.56 \"/>\n",
       "<polyline clip-path=\"url(#clip990)\" style=\"stroke:#000000; stroke-linecap:round; stroke-linejoin:round; stroke-width:4; stroke-opacity:1; fill:none\" points=\"1097.83,1019.66 1097.83,1038.56 \"/>\n",
       "<polyline clip-path=\"url(#clip990)\" style=\"stroke:#000000; stroke-linecap:round; stroke-linejoin:round; stroke-width:4; stroke-opacity:1; fill:none\" points=\"1306.51,1019.66 1306.51,1038.56 \"/>\n",
       "<polyline clip-path=\"url(#clip990)\" style=\"stroke:#000000; stroke-linecap:round; stroke-linejoin:round; stroke-width:4; stroke-opacity:1; fill:none\" points=\"1515.19,1019.66 1515.19,1038.56 \"/>\n",
       "<g clip-path=\"url(#clip990)\">\n",
       "<text style=\"fill:#000000; fill-opacity:1; font-family:Arial,Helvetica Neue,Helvetica,sans-serif; font-size:53px; text-anchor:middle;\" transform=\"rotate(0, 263.091, 1086.66)\" x=\"263.091\" y=\"1086.66\">0–4</text>\n",
       "</g>\n",
       "<g clip-path=\"url(#clip990)\">\n",
       "<text style=\"fill:#000000; fill-opacity:1; font-family:Arial,Helvetica Neue,Helvetica,sans-serif; font-size:53px; text-anchor:middle;\" transform=\"rotate(0, 471.775, 1086.66)\" x=\"471.775\" y=\"1086.66\">5–9</text>\n",
       "</g>\n",
       "<g clip-path=\"url(#clip990)\">\n",
       "<text style=\"fill:#000000; fill-opacity:1; font-family:Arial,Helvetica Neue,Helvetica,sans-serif; font-size:53px; text-anchor:middle;\" transform=\"rotate(0, 680.459, 1086.66)\" x=\"680.459\" y=\"1086.66\">10–19</text>\n",
       "</g>\n",
       "<g clip-path=\"url(#clip990)\">\n",
       "<text style=\"fill:#000000; fill-opacity:1; font-family:Arial,Helvetica Neue,Helvetica,sans-serif; font-size:53px; text-anchor:middle;\" transform=\"rotate(0, 889.142, 1086.66)\" x=\"889.142\" y=\"1086.66\">20–29</text>\n",
       "</g>\n",
       "<g clip-path=\"url(#clip990)\">\n",
       "<text style=\"fill:#000000; fill-opacity:1; font-family:Arial,Helvetica Neue,Helvetica,sans-serif; font-size:53px; text-anchor:middle;\" transform=\"rotate(0, 1097.83, 1086.66)\" x=\"1097.83\" y=\"1086.66\">30–39</text>\n",
       "</g>\n",
       "<g clip-path=\"url(#clip990)\">\n",
       "<text style=\"fill:#000000; fill-opacity:1; font-family:Arial,Helvetica Neue,Helvetica,sans-serif; font-size:53px; text-anchor:middle;\" transform=\"rotate(0, 1306.51, 1086.66)\" x=\"1306.51\" y=\"1086.66\">40–49</text>\n",
       "</g>\n",
       "<g clip-path=\"url(#clip990)\">\n",
       "<text style=\"fill:#000000; fill-opacity:1; font-family:Arial,Helvetica Neue,Helvetica,sans-serif; font-size:53px; text-anchor:middle;\" transform=\"rotate(0, 1515.19, 1086.66)\" x=\"1515.19\" y=\"1086.66\">50–</text>\n",
       "</g>\n",
       "<g clip-path=\"url(#clip990)\">\n",
       "<text style=\"fill:#000000; fill-opacity:1; font-family:Arial,Helvetica Neue,Helvetica,sans-serif; font-size:59px; text-anchor:middle;\" transform=\"rotate(0, 889.142, 1154.53)\" x=\"889.142\" y=\"1154.53\">age</text>\n",
       "</g>\n",
       "<polyline clip-path=\"url(#clip992)\" style=\"stroke:#000000; stroke-linecap:round; stroke-linejoin:round; stroke-width:2; stroke-opacity:0.1; fill:none\" points=\"225.528,1019.66 1552.76,1019.66 \"/>\n",
       "<polyline clip-path=\"url(#clip992)\" style=\"stroke:#000000; stroke-linecap:round; stroke-linejoin:round; stroke-width:2; stroke-opacity:0.1; fill:none\" points=\"225.528,793.464 1552.76,793.464 \"/>\n",
       "<polyline clip-path=\"url(#clip992)\" style=\"stroke:#000000; stroke-linecap:round; stroke-linejoin:round; stroke-width:2; stroke-opacity:0.1; fill:none\" points=\"225.528,567.264 1552.76,567.264 \"/>\n",
       "<polyline clip-path=\"url(#clip992)\" style=\"stroke:#000000; stroke-linecap:round; stroke-linejoin:round; stroke-width:2; stroke-opacity:0.1; fill:none\" points=\"225.528,341.064 1552.76,341.064 \"/>\n",
       "<polyline clip-path=\"url(#clip992)\" style=\"stroke:#000000; stroke-linecap:round; stroke-linejoin:round; stroke-width:2; stroke-opacity:0.1; fill:none\" points=\"225.528,114.864 1552.76,114.864 \"/>\n",
       "<polyline clip-path=\"url(#clip990)\" style=\"stroke:#000000; stroke-linecap:round; stroke-linejoin:round; stroke-width:4; stroke-opacity:1; fill:none\" points=\"225.528,1019.66 225.528,114.864 \"/>\n",
       "<polyline clip-path=\"url(#clip990)\" style=\"stroke:#000000; stroke-linecap:round; stroke-linejoin:round; stroke-width:4; stroke-opacity:1; fill:none\" points=\"225.528,1019.66 206.631,1019.66 \"/>\n",
       "<polyline clip-path=\"url(#clip990)\" style=\"stroke:#000000; stroke-linecap:round; stroke-linejoin:round; stroke-width:4; stroke-opacity:1; fill:none\" points=\"225.528,793.464 206.631,793.464 \"/>\n",
       "<polyline clip-path=\"url(#clip990)\" style=\"stroke:#000000; stroke-linecap:round; stroke-linejoin:round; stroke-width:4; stroke-opacity:1; fill:none\" points=\"225.528,567.264 206.631,567.264 \"/>\n",
       "<polyline clip-path=\"url(#clip990)\" style=\"stroke:#000000; stroke-linecap:round; stroke-linejoin:round; stroke-width:4; stroke-opacity:1; fill:none\" points=\"225.528,341.064 206.631,341.064 \"/>\n",
       "<polyline clip-path=\"url(#clip990)\" style=\"stroke:#000000; stroke-linecap:round; stroke-linejoin:round; stroke-width:4; stroke-opacity:1; fill:none\" points=\"225.528,114.864 206.631,114.864 \"/>\n",
       "<g clip-path=\"url(#clip990)\">\n",
       "<text style=\"fill:#000000; fill-opacity:1; font-family:Arial,Helvetica Neue,Helvetica,sans-serif; font-size:59px; text-anchor:middle;\" transform=\"rotate(0, 147.712, 1041.16)\" x=\"147.712\" y=\"1041.16\">0.0</text>\n",
       "</g>\n",
       "<g clip-path=\"url(#clip990)\">\n",
       "<text style=\"fill:#000000; fill-opacity:1; font-family:Arial,Helvetica Neue,Helvetica,sans-serif; font-size:59px; text-anchor:middle;\" transform=\"rotate(0, 147.712, 814.964)\" x=\"147.712\" y=\"814.964\">0.1</text>\n",
       "</g>\n",
       "<g clip-path=\"url(#clip990)\">\n",
       "<text style=\"fill:#000000; fill-opacity:1; font-family:Arial,Helvetica Neue,Helvetica,sans-serif; font-size:59px; text-anchor:middle;\" transform=\"rotate(0, 147.712, 588.764)\" x=\"147.712\" y=\"588.764\">0.2</text>\n",
       "</g>\n",
       "<g clip-path=\"url(#clip990)\">\n",
       "<text style=\"fill:#000000; fill-opacity:1; font-family:Arial,Helvetica Neue,Helvetica,sans-serif; font-size:59px; text-anchor:middle;\" transform=\"rotate(0, 147.712, 362.564)\" x=\"147.712\" y=\"362.564\">0.3</text>\n",
       "</g>\n",
       "<g clip-path=\"url(#clip990)\">\n",
       "<text style=\"fill:#000000; fill-opacity:1; font-family:Arial,Helvetica Neue,Helvetica,sans-serif; font-size:59px; text-anchor:middle;\" transform=\"rotate(0, 147.712, 136.364)\" x=\"147.712\" y=\"136.364\">0.4</text>\n",
       "</g>\n",
       "<g clip-path=\"url(#clip990)\">\n",
       "<text style=\"fill:#000000; fill-opacity:1; font-family:Arial,Helvetica Neue,Helvetica,sans-serif; font-size:59px; text-anchor:middle;\" transform=\"rotate(-90, 82.6215, 567.264)\" x=\"82.6215\" y=\"567.264\">proportion</text>\n",
       "</g>\n",
       "<g clip-path=\"url(#clip990)\">\n",
       "<text style=\"fill:#000000; fill-opacity:1; font-family:Arial,Helvetica Neue,Helvetica,sans-serif; font-size:66px; text-anchor:middle;\" transform=\"rotate(0, 889.142, 57.6)\" x=\"889.142\" y=\"57.6\">empirical matrix (Zimbabwe)</text>\n",
       "</g>\n",
       "<circle clip-path=\"url(#clip992)\" cx=\"263.091\" cy=\"550.369\" r=\"14.4\" fill=\"#000000\" fill-rule=\"evenodd\" fill-opacity=\"1\" stroke=\"none\"/>\n",
       "<circle clip-path=\"url(#clip992)\" cx=\"471.775\" cy=\"719.315\" r=\"14.4\" fill=\"#000000\" fill-rule=\"evenodd\" fill-opacity=\"1\" stroke=\"none\"/>\n",
       "<circle clip-path=\"url(#clip992)\" cx=\"680.459\" cy=\"494.054\" r=\"14.4\" fill=\"#000000\" fill-rule=\"evenodd\" fill-opacity=\"1\" stroke=\"none\"/>\n",
       "<circle clip-path=\"url(#clip992)\" cx=\"889.142\" cy=\"578.527\" r=\"14.4\" fill=\"#000000\" fill-rule=\"evenodd\" fill-opacity=\"1\" stroke=\"none\"/>\n",
       "<circle clip-path=\"url(#clip992)\" cx=\"1097.83\" cy=\"714.622\" r=\"14.4\" fill=\"#000000\" fill-rule=\"evenodd\" fill-opacity=\"1\" stroke=\"none\"/>\n",
       "<circle clip-path=\"url(#clip992)\" cx=\"1306.51\" cy=\"850.717\" r=\"14.4\" fill=\"#000000\" fill-rule=\"evenodd\" fill-opacity=\"1\" stroke=\"none\"/>\n",
       "<circle clip-path=\"url(#clip992)\" cx=\"1515.19\" cy=\"968.041\" r=\"14.4\" fill=\"#000000\" fill-rule=\"evenodd\" fill-opacity=\"1\" stroke=\"none\"/>\n",
       "<polyline clip-path=\"url(#clip992)\" style=\"stroke:#000000; stroke-linecap:round; stroke-linejoin:round; stroke-width:4; stroke-opacity:1; fill:none\" points=\"263.091,630.042 263.091,467.856 \"/>\n",
       "<polyline clip-path=\"url(#clip992)\" style=\"stroke:#000000; stroke-linecap:round; stroke-linejoin:round; stroke-width:4; stroke-opacity:1; fill:none\" points=\"471.775,782.107 471.775,647.28 \"/>\n",
       "<polyline clip-path=\"url(#clip992)\" style=\"stroke:#000000; stroke-linecap:round; stroke-linejoin:round; stroke-width:4; stroke-opacity:1; fill:none\" points=\"680.459,580.461 680.459,410.432 \"/>\n",
       "<polyline clip-path=\"url(#clip992)\" style=\"stroke:#000000; stroke-linecap:round; stroke-linejoin:round; stroke-width:4; stroke-opacity:1; fill:none\" points=\"889.142,657.035 889.142,499.677 \"/>\n",
       "<polyline clip-path=\"url(#clip992)\" style=\"stroke:#000000; stroke-linecap:round; stroke-linejoin:round; stroke-width:4; stroke-opacity:1; fill:none\" points=\"1097.83,777.947 1097.83,642.198 \"/>\n",
       "<polyline clip-path=\"url(#clip992)\" style=\"stroke:#000000; stroke-linecap:round; stroke-linejoin:round; stroke-width:4; stroke-opacity:1; fill:none\" points=\"1306.51,898.288 1306.51,792.892 \"/>\n",
       "<polyline clip-path=\"url(#clip992)\" style=\"stroke:#000000; stroke-linecap:round; stroke-linejoin:round; stroke-width:4; stroke-opacity:1; fill:none\" points=\"1515.19,991.096 1515.19,928.954 \"/>\n",
       "<circle clip-path=\"url(#clip992)\" style=\"fill:#000000; stroke:none; fill-opacity:1\" cx=\"263.091\" cy=\"630.042\" r=\"2\"/>\n",
       "<circle clip-path=\"url(#clip992)\" style=\"fill:#000000; stroke:none; fill-opacity:1\" cx=\"263.091\" cy=\"467.856\" r=\"2\"/>\n",
       "<circle clip-path=\"url(#clip992)\" style=\"fill:#000000; stroke:none; fill-opacity:1\" cx=\"471.775\" cy=\"782.107\" r=\"2\"/>\n",
       "<circle clip-path=\"url(#clip992)\" style=\"fill:#000000; stroke:none; fill-opacity:1\" cx=\"471.775\" cy=\"647.28\" r=\"2\"/>\n",
       "<circle clip-path=\"url(#clip992)\" style=\"fill:#000000; stroke:none; fill-opacity:1\" cx=\"680.459\" cy=\"580.461\" r=\"2\"/>\n",
       "<circle clip-path=\"url(#clip992)\" style=\"fill:#000000; stroke:none; fill-opacity:1\" cx=\"680.459\" cy=\"410.432\" r=\"2\"/>\n",
       "<circle clip-path=\"url(#clip992)\" style=\"fill:#000000; stroke:none; fill-opacity:1\" cx=\"889.142\" cy=\"657.035\" r=\"2\"/>\n",
       "<circle clip-path=\"url(#clip992)\" style=\"fill:#000000; stroke:none; fill-opacity:1\" cx=\"889.142\" cy=\"499.677\" r=\"2\"/>\n",
       "<circle clip-path=\"url(#clip992)\" style=\"fill:#000000; stroke:none; fill-opacity:1\" cx=\"1097.83\" cy=\"777.947\" r=\"2\"/>\n",
       "<circle clip-path=\"url(#clip992)\" style=\"fill:#000000; stroke:none; fill-opacity:1\" cx=\"1097.83\" cy=\"642.198\" r=\"2\"/>\n",
       "<circle clip-path=\"url(#clip992)\" style=\"fill:#000000; stroke:none; fill-opacity:1\" cx=\"1306.51\" cy=\"898.288\" r=\"2\"/>\n",
       "<circle clip-path=\"url(#clip992)\" style=\"fill:#000000; stroke:none; fill-opacity:1\" cx=\"1306.51\" cy=\"792.892\" r=\"2\"/>\n",
       "<circle clip-path=\"url(#clip992)\" style=\"fill:#000000; stroke:none; fill-opacity:1\" cx=\"1515.19\" cy=\"991.096\" r=\"2\"/>\n",
       "<circle clip-path=\"url(#clip992)\" style=\"fill:#000000; stroke:none; fill-opacity:1\" cx=\"1515.19\" cy=\"928.954\" r=\"2\"/>\n",
       "<circle clip-path=\"url(#clip992)\" style=\"fill:#e26f46; stroke:none; fill-opacity:1\" cx=\"263.091\" cy=\"550.369\" r=\"2\"/>\n",
       "<circle clip-path=\"url(#clip992)\" style=\"fill:#e26f46; stroke:none; fill-opacity:1\" cx=\"471.775\" cy=\"719.315\" r=\"2\"/>\n",
       "<circle clip-path=\"url(#clip992)\" style=\"fill:#e26f46; stroke:none; fill-opacity:1\" cx=\"680.459\" cy=\"494.054\" r=\"2\"/>\n",
       "<circle clip-path=\"url(#clip992)\" style=\"fill:#e26f46; stroke:none; fill-opacity:1\" cx=\"889.142\" cy=\"578.527\" r=\"2\"/>\n",
       "<circle clip-path=\"url(#clip992)\" style=\"fill:#e26f46; stroke:none; fill-opacity:1\" cx=\"1097.83\" cy=\"714.622\" r=\"2\"/>\n",
       "<circle clip-path=\"url(#clip992)\" style=\"fill:#e26f46; stroke:none; fill-opacity:1\" cx=\"1306.51\" cy=\"850.717\" r=\"2\"/>\n",
       "<circle clip-path=\"url(#clip992)\" style=\"fill:#e26f46; stroke:none; fill-opacity:1\" cx=\"1515.19\" cy=\"968.041\" r=\"2\"/>\n",
       "<polyline clip-path=\"url(#clip992)\" style=\"stroke:#009af9; stroke-linecap:round; stroke-linejoin:round; stroke-width:4; stroke-opacity:1; fill:none\" points=\"263.091,541.343 471.775,683.963 680.459,479.497 889.142,592.12 1097.83,746.086 1306.51,866.48 1515.19,966.156 \"/>\n",
       "<polyline clip-path=\"url(#clip992)\" style=\"stroke:#009af9; stroke-linecap:round; stroke-linejoin:round; stroke-width:4; stroke-opacity:1; fill:none\" stroke-dasharray=\"16, 10\" points=\"263.091,539.698 471.775,661.429 680.459,487.426 889.142,590.054 1097.83,763.428 1306.51,869.677 1515.19,963.933 \"/>\n",
       "<polyline clip-path=\"url(#clip992)\" style=\"stroke:#e26f46; stroke-linecap:round; stroke-linejoin:round; stroke-width:4; stroke-opacity:1; fill:none\" points=\"263.091,547.39 471.775,711.334 680.459,517.855 889.142,546.172 1097.83,717.248 1306.51,870.362 1515.19,965.284 \"/>\n",
       "<polyline clip-path=\"url(#clip992)\" style=\"stroke:#e26f46; stroke-linecap:round; stroke-linejoin:round; stroke-width:4; stroke-opacity:1; fill:none\" stroke-dasharray=\"16, 10\" points=\"263.091,546.845 471.775,701.045 680.459,538.666 889.142,534.478 1097.83,713.352 1306.51,876.669 1515.19,964.59 \"/>\n",
       "<path clip-path=\"url(#clip990)\" d=\"M240.275 402.554 L977.509 402.554 L977.509 100.756 L240.275 100.756  Z\" fill=\"#000000\" fill-rule=\"evenodd\" fill-opacity=\"0\"/>\n",
       "<polyline clip-path=\"url(#clip990)\" style=\"stroke:#000000; stroke-linecap:round; stroke-linejoin:round; stroke-width:4; stroke-opacity:0; fill:none\" points=\"240.275,402.554 977.509,402.554 977.509,100.756 240.275,100.756 240.275,402.554 \"/>\n",
       "<circle clip-path=\"url(#clip990)\" cx=\"299.263\" cy=\"151.056\" r=\"20.48\" fill=\"#000000\" fill-rule=\"evenodd\" fill-opacity=\"1\" stroke=\"none\"/>\n",
       "<g clip-path=\"url(#clip990)\">\n",
       "<text style=\"fill:#000000; fill-opacity:1; font-family:Arial,Helvetica Neue,Helvetica,sans-serif; font-size:48px; text-anchor:start;\" transform=\"rotate(0, 358.251, 168.556)\" x=\"358.251\" y=\"168.556\">Observed cases (confirmed)</text>\n",
       "</g>\n",
       "<polyline clip-path=\"url(#clip990)\" style=\"stroke:#009af9; stroke-linecap:round; stroke-linejoin:round; stroke-width:4; stroke-opacity:1; fill:none\" points=\"255.022,201.355 343.504,201.355 \"/>\n",
       "<g clip-path=\"url(#clip990)\">\n",
       "<text style=\"fill:#000000; fill-opacity:1; font-family:Arial,Helvetica Neue,Helvetica,sans-serif; font-size:48px; text-anchor:start;\" transform=\"rotate(0, 358.251, 218.855)\" x=\"358.251\" y=\"218.855\">all contacts</text>\n",
       "</g>\n",
       "<polyline clip-path=\"url(#clip990)\" style=\"stroke:#009af9; stroke-linecap:round; stroke-linejoin:round; stroke-width:4; stroke-opacity:1; fill:none\" stroke-dasharray=\"16, 10\" points=\"255.022,251.655 343.504,251.655 \"/>\n",
       "<g clip-path=\"url(#clip990)\">\n",
       "<text style=\"fill:#000000; fill-opacity:1; font-family:Arial,Helvetica Neue,Helvetica,sans-serif; font-size:48px; text-anchor:start;\" transform=\"rotate(0, 358.251, 269.155)\" x=\"358.251\" y=\"269.155\">physical only</text>\n",
       "</g>\n",
       "<polyline clip-path=\"url(#clip990)\" style=\"stroke:#e26f46; stroke-linecap:round; stroke-linejoin:round; stroke-width:4; stroke-opacity:1; fill:none\" points=\"255.022,301.955 343.504,301.955 \"/>\n",
       "<g clip-path=\"url(#clip990)\">\n",
       "<text style=\"fill:#000000; fill-opacity:1; font-family:Arial,Helvetica Neue,Helvetica,sans-serif; font-size:48px; text-anchor:start;\" transform=\"rotate(0, 358.251, 319.455)\" x=\"358.251\" y=\"319.455\">at home</text>\n",
       "</g>\n",
       "<polyline clip-path=\"url(#clip990)\" style=\"stroke:#e26f46; stroke-linecap:round; stroke-linejoin:round; stroke-width:4; stroke-opacity:1; fill:none\" stroke-dasharray=\"16, 10\" points=\"255.022,352.255 343.504,352.255 \"/>\n",
       "<g clip-path=\"url(#clip990)\">\n",
       "<text style=\"fill:#000000; fill-opacity:1; font-family:Arial,Helvetica Neue,Helvetica,sans-serif; font-size:48px; text-anchor:start;\" transform=\"rotate(0, 358.251, 369.755)\" x=\"358.251\" y=\"369.755\">physical &amp; home</text>\n",
       "</g>\n",
       "</svg>\n"
      ]
     },
     "metadata": {},
     "output_type": "display_data"
    },
    {
     "data": {
      "image/svg+xml": [
       "<?xml version=\"1.0\" encoding=\"utf-8\"?>\n",
       "<svg xmlns=\"http://www.w3.org/2000/svg\" xmlns:xlink=\"http://www.w3.org/1999/xlink\" width=\"400\" height=\"300\" viewBox=\"0 0 1600 1200\">\n",
       "<defs>\n",
       "  <clipPath id=\"clip030\">\n",
       "    <rect x=\"0\" y=\"0\" width=\"1600\" height=\"1200\"/>\n",
       "  </clipPath>\n",
       "</defs>\n",
       "<path clip-path=\"url(#clip030)\" d=\"M0 1200 L1600 1200 L1600 0 L0 0  Z\" fill=\"#ffffff\" fill-rule=\"evenodd\" fill-opacity=\"1\"/>\n",
       "<defs>\n",
       "  <clipPath id=\"clip031\">\n",
       "    <rect x=\"320\" y=\"0\" width=\"1121\" height=\"1121\"/>\n",
       "  </clipPath>\n",
       "</defs>\n",
       "<path clip-path=\"url(#clip030)\" d=\"M225.528 1019.66 L1552.76 1019.66 L1552.76 114.864 L225.528 114.864  Z\" fill=\"#ffffff\" fill-rule=\"evenodd\" fill-opacity=\"1\"/>\n",
       "<defs>\n",
       "  <clipPath id=\"clip032\">\n",
       "    <rect x=\"225\" y=\"114\" width=\"1328\" height=\"906\"/>\n",
       "  </clipPath>\n",
       "</defs>\n",
       "<polyline clip-path=\"url(#clip032)\" style=\"stroke:#000000; stroke-linecap:round; stroke-linejoin:round; stroke-width:2; stroke-opacity:0.1; fill:none\" points=\"263.091,1019.66 263.091,114.864 \"/>\n",
       "<polyline clip-path=\"url(#clip032)\" style=\"stroke:#000000; stroke-linecap:round; stroke-linejoin:round; stroke-width:2; stroke-opacity:0.1; fill:none\" points=\"471.775,1019.66 471.775,114.864 \"/>\n",
       "<polyline clip-path=\"url(#clip032)\" style=\"stroke:#000000; stroke-linecap:round; stroke-linejoin:round; stroke-width:2; stroke-opacity:0.1; fill:none\" points=\"680.459,1019.66 680.459,114.864 \"/>\n",
       "<polyline clip-path=\"url(#clip032)\" style=\"stroke:#000000; stroke-linecap:round; stroke-linejoin:round; stroke-width:2; stroke-opacity:0.1; fill:none\" points=\"889.142,1019.66 889.142,114.864 \"/>\n",
       "<polyline clip-path=\"url(#clip032)\" style=\"stroke:#000000; stroke-linecap:round; stroke-linejoin:round; stroke-width:2; stroke-opacity:0.1; fill:none\" points=\"1097.83,1019.66 1097.83,114.864 \"/>\n",
       "<polyline clip-path=\"url(#clip032)\" style=\"stroke:#000000; stroke-linecap:round; stroke-linejoin:round; stroke-width:2; stroke-opacity:0.1; fill:none\" points=\"1306.51,1019.66 1306.51,114.864 \"/>\n",
       "<polyline clip-path=\"url(#clip032)\" style=\"stroke:#000000; stroke-linecap:round; stroke-linejoin:round; stroke-width:2; stroke-opacity:0.1; fill:none\" points=\"1515.19,1019.66 1515.19,114.864 \"/>\n",
       "<polyline clip-path=\"url(#clip030)\" style=\"stroke:#000000; stroke-linecap:round; stroke-linejoin:round; stroke-width:4; stroke-opacity:1; fill:none\" points=\"225.528,1019.66 1552.76,1019.66 \"/>\n",
       "<polyline clip-path=\"url(#clip030)\" style=\"stroke:#000000; stroke-linecap:round; stroke-linejoin:round; stroke-width:4; stroke-opacity:1; fill:none\" points=\"263.091,1019.66 263.091,1038.56 \"/>\n",
       "<polyline clip-path=\"url(#clip030)\" style=\"stroke:#000000; stroke-linecap:round; stroke-linejoin:round; stroke-width:4; stroke-opacity:1; fill:none\" points=\"471.775,1019.66 471.775,1038.56 \"/>\n",
       "<polyline clip-path=\"url(#clip030)\" style=\"stroke:#000000; stroke-linecap:round; stroke-linejoin:round; stroke-width:4; stroke-opacity:1; fill:none\" points=\"680.459,1019.66 680.459,1038.56 \"/>\n",
       "<polyline clip-path=\"url(#clip030)\" style=\"stroke:#000000; stroke-linecap:round; stroke-linejoin:round; stroke-width:4; stroke-opacity:1; fill:none\" points=\"889.142,1019.66 889.142,1038.56 \"/>\n",
       "<polyline clip-path=\"url(#clip030)\" style=\"stroke:#000000; stroke-linecap:round; stroke-linejoin:round; stroke-width:4; stroke-opacity:1; fill:none\" points=\"1097.83,1019.66 1097.83,1038.56 \"/>\n",
       "<polyline clip-path=\"url(#clip030)\" style=\"stroke:#000000; stroke-linecap:round; stroke-linejoin:round; stroke-width:4; stroke-opacity:1; fill:none\" points=\"1306.51,1019.66 1306.51,1038.56 \"/>\n",
       "<polyline clip-path=\"url(#clip030)\" style=\"stroke:#000000; stroke-linecap:round; stroke-linejoin:round; stroke-width:4; stroke-opacity:1; fill:none\" points=\"1515.19,1019.66 1515.19,1038.56 \"/>\n",
       "<g clip-path=\"url(#clip030)\">\n",
       "<text style=\"fill:#000000; fill-opacity:1; font-family:Arial,Helvetica Neue,Helvetica,sans-serif; font-size:53px; text-anchor:middle;\" transform=\"rotate(0, 263.091, 1086.66)\" x=\"263.091\" y=\"1086.66\">0–4</text>\n",
       "</g>\n",
       "<g clip-path=\"url(#clip030)\">\n",
       "<text style=\"fill:#000000; fill-opacity:1; font-family:Arial,Helvetica Neue,Helvetica,sans-serif; font-size:53px; text-anchor:middle;\" transform=\"rotate(0, 471.775, 1086.66)\" x=\"471.775\" y=\"1086.66\">5–9</text>\n",
       "</g>\n",
       "<g clip-path=\"url(#clip030)\">\n",
       "<text style=\"fill:#000000; fill-opacity:1; font-family:Arial,Helvetica Neue,Helvetica,sans-serif; font-size:53px; text-anchor:middle;\" transform=\"rotate(0, 680.459, 1086.66)\" x=\"680.459\" y=\"1086.66\">10–19</text>\n",
       "</g>\n",
       "<g clip-path=\"url(#clip030)\">\n",
       "<text style=\"fill:#000000; fill-opacity:1; font-family:Arial,Helvetica Neue,Helvetica,sans-serif; font-size:53px; text-anchor:middle;\" transform=\"rotate(0, 889.142, 1086.66)\" x=\"889.142\" y=\"1086.66\">20–29</text>\n",
       "</g>\n",
       "<g clip-path=\"url(#clip030)\">\n",
       "<text style=\"fill:#000000; fill-opacity:1; font-family:Arial,Helvetica Neue,Helvetica,sans-serif; font-size:53px; text-anchor:middle;\" transform=\"rotate(0, 1097.83, 1086.66)\" x=\"1097.83\" y=\"1086.66\">30–39</text>\n",
       "</g>\n",
       "<g clip-path=\"url(#clip030)\">\n",
       "<text style=\"fill:#000000; fill-opacity:1; font-family:Arial,Helvetica Neue,Helvetica,sans-serif; font-size:53px; text-anchor:middle;\" transform=\"rotate(0, 1306.51, 1086.66)\" x=\"1306.51\" y=\"1086.66\">40–49</text>\n",
       "</g>\n",
       "<g clip-path=\"url(#clip030)\">\n",
       "<text style=\"fill:#000000; fill-opacity:1; font-family:Arial,Helvetica Neue,Helvetica,sans-serif; font-size:53px; text-anchor:middle;\" transform=\"rotate(0, 1515.19, 1086.66)\" x=\"1515.19\" y=\"1086.66\">50–</text>\n",
       "</g>\n",
       "<g clip-path=\"url(#clip030)\">\n",
       "<text style=\"fill:#000000; fill-opacity:1; font-family:Arial,Helvetica Neue,Helvetica,sans-serif; font-size:59px; text-anchor:middle;\" transform=\"rotate(0, 889.142, 1154.53)\" x=\"889.142\" y=\"1154.53\">age</text>\n",
       "</g>\n",
       "<polyline clip-path=\"url(#clip032)\" style=\"stroke:#000000; stroke-linecap:round; stroke-linejoin:round; stroke-width:2; stroke-opacity:0.1; fill:none\" points=\"225.528,1019.66 1552.76,1019.66 \"/>\n",
       "<polyline clip-path=\"url(#clip032)\" style=\"stroke:#000000; stroke-linecap:round; stroke-linejoin:round; stroke-width:2; stroke-opacity:0.1; fill:none\" points=\"225.528,793.464 1552.76,793.464 \"/>\n",
       "<polyline clip-path=\"url(#clip032)\" style=\"stroke:#000000; stroke-linecap:round; stroke-linejoin:round; stroke-width:2; stroke-opacity:0.1; fill:none\" points=\"225.528,567.264 1552.76,567.264 \"/>\n",
       "<polyline clip-path=\"url(#clip032)\" style=\"stroke:#000000; stroke-linecap:round; stroke-linejoin:round; stroke-width:2; stroke-opacity:0.1; fill:none\" points=\"225.528,341.064 1552.76,341.064 \"/>\n",
       "<polyline clip-path=\"url(#clip032)\" style=\"stroke:#000000; stroke-linecap:round; stroke-linejoin:round; stroke-width:2; stroke-opacity:0.1; fill:none\" points=\"225.528,114.864 1552.76,114.864 \"/>\n",
       "<polyline clip-path=\"url(#clip030)\" style=\"stroke:#000000; stroke-linecap:round; stroke-linejoin:round; stroke-width:4; stroke-opacity:1; fill:none\" points=\"225.528,1019.66 225.528,114.864 \"/>\n",
       "<polyline clip-path=\"url(#clip030)\" style=\"stroke:#000000; stroke-linecap:round; stroke-linejoin:round; stroke-width:4; stroke-opacity:1; fill:none\" points=\"225.528,1019.66 206.631,1019.66 \"/>\n",
       "<polyline clip-path=\"url(#clip030)\" style=\"stroke:#000000; stroke-linecap:round; stroke-linejoin:round; stroke-width:4; stroke-opacity:1; fill:none\" points=\"225.528,793.464 206.631,793.464 \"/>\n",
       "<polyline clip-path=\"url(#clip030)\" style=\"stroke:#000000; stroke-linecap:round; stroke-linejoin:round; stroke-width:4; stroke-opacity:1; fill:none\" points=\"225.528,567.264 206.631,567.264 \"/>\n",
       "<polyline clip-path=\"url(#clip030)\" style=\"stroke:#000000; stroke-linecap:round; stroke-linejoin:round; stroke-width:4; stroke-opacity:1; fill:none\" points=\"225.528,341.064 206.631,341.064 \"/>\n",
       "<polyline clip-path=\"url(#clip030)\" style=\"stroke:#000000; stroke-linecap:round; stroke-linejoin:round; stroke-width:4; stroke-opacity:1; fill:none\" points=\"225.528,114.864 206.631,114.864 \"/>\n",
       "<g clip-path=\"url(#clip030)\">\n",
       "<text style=\"fill:#000000; fill-opacity:1; font-family:Arial,Helvetica Neue,Helvetica,sans-serif; font-size:59px; text-anchor:middle;\" transform=\"rotate(0, 147.712, 1041.16)\" x=\"147.712\" y=\"1041.16\">0.0</text>\n",
       "</g>\n",
       "<g clip-path=\"url(#clip030)\">\n",
       "<text style=\"fill:#000000; fill-opacity:1; font-family:Arial,Helvetica Neue,Helvetica,sans-serif; font-size:59px; text-anchor:middle;\" transform=\"rotate(0, 147.712, 814.964)\" x=\"147.712\" y=\"814.964\">0.1</text>\n",
       "</g>\n",
       "<g clip-path=\"url(#clip030)\">\n",
       "<text style=\"fill:#000000; fill-opacity:1; font-family:Arial,Helvetica Neue,Helvetica,sans-serif; font-size:59px; text-anchor:middle;\" transform=\"rotate(0, 147.712, 588.764)\" x=\"147.712\" y=\"588.764\">0.2</text>\n",
       "</g>\n",
       "<g clip-path=\"url(#clip030)\">\n",
       "<text style=\"fill:#000000; fill-opacity:1; font-family:Arial,Helvetica Neue,Helvetica,sans-serif; font-size:59px; text-anchor:middle;\" transform=\"rotate(0, 147.712, 362.564)\" x=\"147.712\" y=\"362.564\">0.3</text>\n",
       "</g>\n",
       "<g clip-path=\"url(#clip030)\">\n",
       "<text style=\"fill:#000000; fill-opacity:1; font-family:Arial,Helvetica Neue,Helvetica,sans-serif; font-size:59px; text-anchor:middle;\" transform=\"rotate(0, 147.712, 136.364)\" x=\"147.712\" y=\"136.364\">0.4</text>\n",
       "</g>\n",
       "<g clip-path=\"url(#clip030)\">\n",
       "<text style=\"fill:#000000; fill-opacity:1; font-family:Arial,Helvetica Neue,Helvetica,sans-serif; font-size:59px; text-anchor:middle;\" transform=\"rotate(-90, 82.6215, 567.264)\" x=\"82.6215\" y=\"567.264\">proportion</text>\n",
       "</g>\n",
       "<g clip-path=\"url(#clip030)\">\n",
       "<text style=\"fill:#000000; fill-opacity:1; font-family:Arial,Helvetica Neue,Helvetica,sans-serif; font-size:66px; text-anchor:middle;\" transform=\"rotate(0, 889.142, 57.6)\" x=\"889.142\" y=\"57.6\">synthetic matrix (DRC)</text>\n",
       "</g>\n",
       "<circle clip-path=\"url(#clip032)\" cx=\"263.091\" cy=\"550.369\" r=\"14.4\" fill=\"#000000\" fill-rule=\"evenodd\" fill-opacity=\"1\" stroke=\"none\"/>\n",
       "<circle clip-path=\"url(#clip032)\" cx=\"471.775\" cy=\"719.315\" r=\"14.4\" fill=\"#000000\" fill-rule=\"evenodd\" fill-opacity=\"1\" stroke=\"none\"/>\n",
       "<circle clip-path=\"url(#clip032)\" cx=\"680.459\" cy=\"494.054\" r=\"14.4\" fill=\"#000000\" fill-rule=\"evenodd\" fill-opacity=\"1\" stroke=\"none\"/>\n",
       "<circle clip-path=\"url(#clip032)\" cx=\"889.142\" cy=\"578.527\" r=\"14.4\" fill=\"#000000\" fill-rule=\"evenodd\" fill-opacity=\"1\" stroke=\"none\"/>\n",
       "<circle clip-path=\"url(#clip032)\" cx=\"1097.83\" cy=\"714.622\" r=\"14.4\" fill=\"#000000\" fill-rule=\"evenodd\" fill-opacity=\"1\" stroke=\"none\"/>\n",
       "<circle clip-path=\"url(#clip032)\" cx=\"1306.51\" cy=\"850.717\" r=\"14.4\" fill=\"#000000\" fill-rule=\"evenodd\" fill-opacity=\"1\" stroke=\"none\"/>\n",
       "<circle clip-path=\"url(#clip032)\" cx=\"1515.19\" cy=\"968.041\" r=\"14.4\" fill=\"#000000\" fill-rule=\"evenodd\" fill-opacity=\"1\" stroke=\"none\"/>\n",
       "<polyline clip-path=\"url(#clip032)\" style=\"stroke:#000000; stroke-linecap:round; stroke-linejoin:round; stroke-width:4; stroke-opacity:1; fill:none\" points=\"263.091,630.042 263.091,467.856 \"/>\n",
       "<polyline clip-path=\"url(#clip032)\" style=\"stroke:#000000; stroke-linecap:round; stroke-linejoin:round; stroke-width:4; stroke-opacity:1; fill:none\" points=\"471.775,782.107 471.775,647.28 \"/>\n",
       "<polyline clip-path=\"url(#clip032)\" style=\"stroke:#000000; stroke-linecap:round; stroke-linejoin:round; stroke-width:4; stroke-opacity:1; fill:none\" points=\"680.459,580.461 680.459,410.432 \"/>\n",
       "<polyline clip-path=\"url(#clip032)\" style=\"stroke:#000000; stroke-linecap:round; stroke-linejoin:round; stroke-width:4; stroke-opacity:1; fill:none\" points=\"889.142,657.035 889.142,499.677 \"/>\n",
       "<polyline clip-path=\"url(#clip032)\" style=\"stroke:#000000; stroke-linecap:round; stroke-linejoin:round; stroke-width:4; stroke-opacity:1; fill:none\" points=\"1097.83,777.947 1097.83,642.198 \"/>\n",
       "<polyline clip-path=\"url(#clip032)\" style=\"stroke:#000000; stroke-linecap:round; stroke-linejoin:round; stroke-width:4; stroke-opacity:1; fill:none\" points=\"1306.51,898.288 1306.51,792.892 \"/>\n",
       "<polyline clip-path=\"url(#clip032)\" style=\"stroke:#000000; stroke-linecap:round; stroke-linejoin:round; stroke-width:4; stroke-opacity:1; fill:none\" points=\"1515.19,991.096 1515.19,928.954 \"/>\n",
       "<circle clip-path=\"url(#clip032)\" style=\"fill:#000000; stroke:none; fill-opacity:1\" cx=\"263.091\" cy=\"630.042\" r=\"2\"/>\n",
       "<circle clip-path=\"url(#clip032)\" style=\"fill:#000000; stroke:none; fill-opacity:1\" cx=\"263.091\" cy=\"467.856\" r=\"2\"/>\n",
       "<circle clip-path=\"url(#clip032)\" style=\"fill:#000000; stroke:none; fill-opacity:1\" cx=\"471.775\" cy=\"782.107\" r=\"2\"/>\n",
       "<circle clip-path=\"url(#clip032)\" style=\"fill:#000000; stroke:none; fill-opacity:1\" cx=\"471.775\" cy=\"647.28\" r=\"2\"/>\n",
       "<circle clip-path=\"url(#clip032)\" style=\"fill:#000000; stroke:none; fill-opacity:1\" cx=\"680.459\" cy=\"580.461\" r=\"2\"/>\n",
       "<circle clip-path=\"url(#clip032)\" style=\"fill:#000000; stroke:none; fill-opacity:1\" cx=\"680.459\" cy=\"410.432\" r=\"2\"/>\n",
       "<circle clip-path=\"url(#clip032)\" style=\"fill:#000000; stroke:none; fill-opacity:1\" cx=\"889.142\" cy=\"657.035\" r=\"2\"/>\n",
       "<circle clip-path=\"url(#clip032)\" style=\"fill:#000000; stroke:none; fill-opacity:1\" cx=\"889.142\" cy=\"499.677\" r=\"2\"/>\n",
       "<circle clip-path=\"url(#clip032)\" style=\"fill:#000000; stroke:none; fill-opacity:1\" cx=\"1097.83\" cy=\"777.947\" r=\"2\"/>\n",
       "<circle clip-path=\"url(#clip032)\" style=\"fill:#000000; stroke:none; fill-opacity:1\" cx=\"1097.83\" cy=\"642.198\" r=\"2\"/>\n",
       "<circle clip-path=\"url(#clip032)\" style=\"fill:#000000; stroke:none; fill-opacity:1\" cx=\"1306.51\" cy=\"898.288\" r=\"2\"/>\n",
       "<circle clip-path=\"url(#clip032)\" style=\"fill:#000000; stroke:none; fill-opacity:1\" cx=\"1306.51\" cy=\"792.892\" r=\"2\"/>\n",
       "<circle clip-path=\"url(#clip032)\" style=\"fill:#000000; stroke:none; fill-opacity:1\" cx=\"1515.19\" cy=\"991.096\" r=\"2\"/>\n",
       "<circle clip-path=\"url(#clip032)\" style=\"fill:#000000; stroke:none; fill-opacity:1\" cx=\"1515.19\" cy=\"928.954\" r=\"2\"/>\n",
       "<circle clip-path=\"url(#clip032)\" style=\"fill:#e26f46; stroke:none; fill-opacity:1\" cx=\"263.091\" cy=\"550.369\" r=\"2\"/>\n",
       "<circle clip-path=\"url(#clip032)\" style=\"fill:#e26f46; stroke:none; fill-opacity:1\" cx=\"471.775\" cy=\"719.315\" r=\"2\"/>\n",
       "<circle clip-path=\"url(#clip032)\" style=\"fill:#e26f46; stroke:none; fill-opacity:1\" cx=\"680.459\" cy=\"494.054\" r=\"2\"/>\n",
       "<circle clip-path=\"url(#clip032)\" style=\"fill:#e26f46; stroke:none; fill-opacity:1\" cx=\"889.142\" cy=\"578.527\" r=\"2\"/>\n",
       "<circle clip-path=\"url(#clip032)\" style=\"fill:#e26f46; stroke:none; fill-opacity:1\" cx=\"1097.83\" cy=\"714.622\" r=\"2\"/>\n",
       "<circle clip-path=\"url(#clip032)\" style=\"fill:#e26f46; stroke:none; fill-opacity:1\" cx=\"1306.51\" cy=\"850.717\" r=\"2\"/>\n",
       "<circle clip-path=\"url(#clip032)\" style=\"fill:#e26f46; stroke:none; fill-opacity:1\" cx=\"1515.19\" cy=\"968.041\" r=\"2\"/>\n",
       "<polyline clip-path=\"url(#clip032)\" style=\"stroke:#4169e1; stroke-linecap:round; stroke-linejoin:round; stroke-width:4; stroke-opacity:1; fill:none\" points=\"263.091,513.398 471.775,650.094 680.459,366.314 889.142,727.109 1097.83,774.879 1306.51,892.051 1515.19,951.8 \"/>\n",
       "<polyline clip-path=\"url(#clip032)\" style=\"stroke:#b22222; stroke-linecap:round; stroke-linejoin:round; stroke-width:4; stroke-opacity:1; fill:none\" points=\"263.091,539.317 471.775,617.654 680.459,468.719 889.142,700.691 1097.83,713.962 1306.51,875.023 1515.19,960.28 \"/>\n",
       "<path clip-path=\"url(#clip030)\" d=\"M240.275 301.955 L977.509 301.955 L977.509 100.756 L240.275 100.756  Z\" fill=\"#000000\" fill-rule=\"evenodd\" fill-opacity=\"0\"/>\n",
       "<polyline clip-path=\"url(#clip030)\" style=\"stroke:#000000; stroke-linecap:round; stroke-linejoin:round; stroke-width:4; stroke-opacity:0; fill:none\" points=\"240.275,301.955 977.509,301.955 977.509,100.756 240.275,100.756 240.275,301.955 \"/>\n",
       "<circle clip-path=\"url(#clip030)\" cx=\"299.263\" cy=\"151.056\" r=\"20.48\" fill=\"#000000\" fill-rule=\"evenodd\" fill-opacity=\"1\" stroke=\"none\"/>\n",
       "<g clip-path=\"url(#clip030)\">\n",
       "<text style=\"fill:#000000; fill-opacity:1; font-family:Arial,Helvetica Neue,Helvetica,sans-serif; font-size:48px; text-anchor:start;\" transform=\"rotate(0, 358.251, 168.556)\" x=\"358.251\" y=\"168.556\">Observed cases (confirmed)</text>\n",
       "</g>\n",
       "<polyline clip-path=\"url(#clip030)\" style=\"stroke:#4169e1; stroke-linecap:round; stroke-linejoin:round; stroke-width:4; stroke-opacity:1; fill:none\" points=\"255.022,201.355 343.504,201.355 \"/>\n",
       "<g clip-path=\"url(#clip030)\">\n",
       "<text style=\"fill:#000000; fill-opacity:1; font-family:Arial,Helvetica Neue,Helvetica,sans-serif; font-size:48px; text-anchor:start;\" transform=\"rotate(0, 358.251, 218.855)\" x=\"358.251\" y=\"218.855\">all contacts</text>\n",
       "</g>\n",
       "<polyline clip-path=\"url(#clip030)\" style=\"stroke:#b22222; stroke-linecap:round; stroke-linejoin:round; stroke-width:4; stroke-opacity:1; fill:none\" points=\"255.022,251.655 343.504,251.655 \"/>\n",
       "<g clip-path=\"url(#clip030)\">\n",
       "<text style=\"fill:#000000; fill-opacity:1; font-family:Arial,Helvetica Neue,Helvetica,sans-serif; font-size:48px; text-anchor:start;\" transform=\"rotate(0, 358.251, 269.155)\" x=\"358.251\" y=\"269.155\">at home</text>\n",
       "</g>\n",
       "</svg>\n"
      ]
     },
     "metadata": {},
     "output_type": "display_data"
    }
   ],
   "source": [
    "endemicplot = plot(plot(drc_endemic_ag),ylim=(0,0.35),xtickfontsize=9)\n",
    "\n",
    "endemic2015_24_fit = output_fit(\n",
    "    [tshuapa_h2hag,drc_endemic_ag];\n",
    "    zmb_skeleton = [zmb2015,zmb2024],\n",
    "    drc_skeleton = [drc2015,drc2024],\n",
    "    dataplots = endemicplot\n",
    "    );\n",
    "zmb2015_24_fit = endemic2015_24_fit.zmb_fit\n",
    "drc2015_24_fit = endemic2015_24_fit.drc_fit;"
   ]
  },
  {
   "cell_type": "code",
   "execution_count": 6,
   "id": "0e036219",
   "metadata": {},
   "outputs": [
    {
     "data": {
      "text/plain": [
       "(:all, :phys, :home, :physhome)"
      ]
     },
     "execution_count": 6,
     "metadata": {},
     "output_type": "execute_result"
    }
   ],
   "source": [
    "keys(zmb2015_24_fit)"
   ]
  },
  {
   "cell_type": "code",
   "execution_count": 7,
   "id": "e8c24a6f",
   "metadata": {},
   "outputs": [
    {
     "data": {
      "text/plain": [
       "10.634354444643712"
      ]
     },
     "execution_count": 7,
     "metadata": {},
     "output_type": "execute_result"
    }
   ],
   "source": [
    "dominanteigval(zmb2015_24_fit.all[2]) # [2] is ContactMatrix for 2024 data "
   ]
  },
  {
   "cell_type": "code",
   "execution_count": 8,
   "id": "89b0e4f3",
   "metadata": {},
   "outputs": [
    {
     "data": {
      "text/plain": [
       "1-element Vector{Vector{Union{Float64, Array{Float64, 0}}}}:\n",
       " [fill(2.140710798352012), fill(1.0), fill(1.0), fill(1.0), fill(1.0), fill(0.6287660256973691), fill(0.257532051394738)]"
      ]
     },
     "execution_count": 8,
     "metadata": {},
     "output_type": "execute_result"
    }
   ],
   "source": [
    "zmb2015_24_fit.all[2].susceptibility"
   ]
  },
  {
   "cell_type": "code",
   "execution_count": 9,
   "id": "06edd602",
   "metadata": {},
   "outputs": [
    {
     "data": {
      "text/plain": [
       "Dict{Symbol, Union{Float64, Array{Float64, 0}}} with 4 entries:\n",
       "  :s_infant   => fill(2.14071)\n",
       "  :s_vax      => fill(0.257532)\n",
       "  :s_baseline => fill(1.0)\n",
       "  :s_partvax  => fill(0.628766)"
      ]
     },
     "execution_count": 9,
     "metadata": {},
     "output_type": "execute_result"
    }
   ],
   "source": [
    "zmb2015_24_fit.all[2].parameters"
   ]
  },
  {
   "cell_type": "code",
   "execution_count": 10,
   "id": "de4ba9b5",
   "metadata": {},
   "outputs": [],
   "source": [
    "# add new parameters for the group just under partially vaccinated\n",
    "for cm_vec in zmb2015_24_fit\n",
    "    for cm in cm_vec\n",
    "        cm.parameters[:s_postvax]=fill(0.5)\n",
    "        cm.susceptibility[1][end-2]=cm.parameters[:s_postvax]\n",
    "    end\n",
    "end "
   ]
  },
  {
   "cell_type": "code",
   "execution_count": 11,
   "id": "fa283df0",
   "metadata": {},
   "outputs": [
    {
     "data": {
      "text/plain": [
       "Dict{Symbol, Union{Float64, Array{Float64, 0}}} with 5 entries:\n",
       "  :s_infant   => fill(2.14071)\n",
       "  :s_vax      => fill(0.257532)\n",
       "  :s_postvax  => fill(0.5)\n",
       "  :s_baseline => fill(1.0)\n",
       "  :s_partvax  => fill(0.628766)"
      ]
     },
     "execution_count": 11,
     "metadata": {},
     "output_type": "execute_result"
    }
   ],
   "source": [
    "zmb2015_24_fit.all[2].parameters"
   ]
  },
  {
   "cell_type": "code",
   "execution_count": 12,
   "id": "a6cc1164",
   "metadata": {},
   "outputs": [
    {
     "data": {
      "text/plain": [
       "1-element Vector{Vector{Union{Float64, Array{Float64, 0}}}}:\n",
       " [fill(2.140710798352012), fill(1.0), fill(1.0), fill(1.0), fill(0.5), fill(0.6287660256973691), fill(0.257532051394738)]"
      ]
     },
     "execution_count": 12,
     "metadata": {},
     "output_type": "execute_result"
    }
   ],
   "source": [
    "zmb2015_24_fit.all[2].susceptibility"
   ]
  },
  {
   "cell_type": "code",
   "execution_count": 13,
   "id": "ba12cce8",
   "metadata": {},
   "outputs": [
    {
     "data": {
      "text/plain": [
       "0-dimensional Array{Float64, 0}:\n",
       "1.0"
      ]
     },
     "execution_count": 13,
     "metadata": {},
     "output_type": "execute_result"
    }
   ],
   "source": [
    "zmb2015_24_fit.all[2].parameters[:s_postvax].=1"
   ]
  },
  {
   "cell_type": "code",
   "execution_count": 14,
   "id": "43ca0e89",
   "metadata": {},
   "outputs": [
    {
     "data": {
      "text/plain": [
       "1-element Vector{Vector{Union{Float64, Array{Float64, 0}}}}:\n",
       " [fill(2.140710798352012), fill(1.0), fill(1.0), fill(1.0), fill(1.0), fill(0.6287660256973691), fill(0.257532051394738)]"
      ]
     },
     "execution_count": 14,
     "metadata": {},
     "output_type": "execute_result"
    }
   ],
   "source": [
    "zmb2015_24_fit.all[2].susceptibility"
   ]
  },
  {
   "cell_type": "code",
   "execution_count": 15,
   "id": "bcf0345c",
   "metadata": {},
   "outputs": [
    {
     "data": {
      "text/plain": [
       "Dict{Symbol, Union{Float64, Array{Float64, 0}}} with 5 entries:\n",
       "  :s_infant   => fill(2.14071)\n",
       "  :s_vax      => fill(0.257532)\n",
       "  :s_postvax  => fill(1.0)\n",
       "  :s_baseline => fill(1.0)\n",
       "  :s_partvax  => fill(0.628766)"
      ]
     },
     "execution_count": 15,
     "metadata": {},
     "output_type": "execute_result"
    }
   ],
   "source": [
    "zmb2015_24_fit.all[2].parameters"
   ]
  },
  {
   "cell_type": "code",
   "execution_count": 16,
   "id": "fb1e5ad4-119c-4f03-abaf-85d411800cdd",
   "metadata": {},
   "outputs": [
    {
     "data": {
      "text/plain": [
       "7-element Vector{Union{Float64, Array{Float64, 0}}}:\n",
       " fill(2.140710798352012)\n",
       " fill(1.0)\n",
       " fill(1.0)\n",
       " fill(1.0)\n",
       " fill(1.0)\n",
       " fill(0.6287660256973691)\n",
       " fill(0.257532051394738)"
      ]
     },
     "execution_count": 16,
     "metadata": {},
     "output_type": "execute_result"
    }
   ],
   "source": [
    "zmb2015_24_fit.all[2].susceptibility[1]"
   ]
  },
  {
   "cell_type": "markdown",
   "id": "0101d8ac-2fef-4ed0-98ba-e00524fcd6f9",
   "metadata": {},
   "source": [
    "### DRC"
   ]
  },
  {
   "cell_type": "code",
   "execution_count": 17,
   "id": "fbad2fce-651d-4bc6-9972-ab6970b4e0ea",
   "metadata": {},
   "outputs": [],
   "source": [
    "include(\"../src/Reff_projection_utils.jl\");"
   ]
  },
  {
   "cell_type": "code",
   "execution_count": 18,
   "id": "ac04fddc-d0d3-4407-aa86-3601c203e014",
   "metadata": {},
   "outputs": [
    {
     "name": "stdout",
     "output_type": "stream",
     "text": [
      "For s_infant = 1.5, s_vax = 0.22:\n",
      "Dict{Int64, Vector}(2030 => [fill(1.5), fill(1.0), fill(1.0), fill(1.0), fill(1.0), fill(1.0), fill(0.22)], 2020 => [fill(1.5), fill(1.0), fill(1.0), fill(1.0), fill(1.0), fill(0.22), fill(0.22)], 2024 => [fill(1.5), fill(1.0), fill(1.0), fill(1.0), fill(1.0), fill(0.61), fill(0.22)], 2010 => [fill(1.5), fill(1.0), fill(1.0), fill(1.0), fill(0.22), fill(0.22), fill(0.22)], 2015 => [fill(1.5), fill(1.0), fill(1.0), fill(1.0), fill(0.61), fill(0.22), fill(0.22)])\n",
      "For s_infant = 1.9, s_vax = 0.28:\n",
      "Dict{Int64, Vector}(2030 => [fill(1.9), fill(1.0), fill(1.0), fill(1.0), fill(1.0), fill(1.0), fill(0.28)], 2020 => [fill(1.9), fill(1.0), fill(1.0), fill(1.0), fill(1.0), fill(0.28), fill(0.28)], 2024 => [fill(1.9), fill(1.0), fill(1.0), fill(1.0), fill(1.0), fill(0.64), fill(0.28)], 2010 => [fill(1.9), fill(1.0), fill(1.0), fill(1.0), fill(0.28), fill(0.28), fill(0.28)], 2015 => [fill(1.9), fill(1.0), fill(1.0), fill(1.0), fill(0.64), fill(0.28), fill(0.28)])\n",
      "For s_infant = 2.2, s_vax = 0.26:\n",
      "Dict{Int64, Vector}(2030 => [fill(2.2), fill(1.0), fill(1.0), fill(1.0), fill(1.0), fill(1.0), fill(0.26)], 2020 => [fill(2.2), fill(1.0), fill(1.0), fill(1.0), fill(1.0), fill(0.26), fill(0.26)], 2024 => [fill(2.2), fill(1.0), fill(1.0), fill(1.0), fill(1.0), fill(0.63), fill(0.26)], 2010 => [fill(2.2), fill(1.0), fill(1.0), fill(1.0), fill(0.26), fill(0.26), fill(0.26)], 2015 => [fill(2.2), fill(1.0), fill(1.0), fill(1.0), fill(0.63), fill(0.26), fill(0.26)])\n",
      "For s_infant = 1.3, s_vax = 0.23:\n",
      "Dict{Int64, Vector}(2030 => [fill(1.3), fill(1.0), fill(1.0), fill(1.0), fill(1.0), fill(1.0), fill(0.23)], 2020 => [fill(1.3), fill(1.0), fill(1.0), fill(1.0), fill(1.0), fill(0.23), fill(0.23)], 2024 => [fill(1.3), fill(1.0), fill(1.0), fill(1.0), fill(1.0), fill(0.615), fill(0.23)], 2010 => [fill(1.3), fill(1.0), fill(1.0), fill(1.0), fill(0.23), fill(0.23), fill(0.23)], 2015 => [fill(1.3), fill(1.0), fill(1.0), fill(1.0), fill(0.615), fill(0.23), fill(0.23)])\n"
     ]
    }
   ],
   "source": [
    "years = [2010, 2015, 2020, 2024, 2030]\n",
    "s_infant_values = [2.2, 1.9, 1.5, 1.3]\n",
    "s_vax_values = [0.26, 0.28, 0.22, 0.23]\n",
    "\n",
    "all_susceptibilities = Dict{Tuple{Float64, Float64}, Dict}()\n",
    "# get the correct combination of susceptibility by age group\n",
    "for (s_infant, s_vax) in zip(s_infant_values, s_vax_values)\n",
    "    s_partvax = (1 + s_vax) / 2  \n",
    "    susceptibilities = create_susceptibilities_for_years(years, s_infant, s_partvax, s_vax)\n",
    "    all_susceptibilities[(s_infant, s_vax)] = susceptibilities\n",
    "end\n",
    "\n",
    "for (key, susceptibilities) in all_susceptibilities\n",
    "    println(\"For s_infant = $(key[1]), s_vax = $(key[2]):\")\n",
    "    println(susceptibilities)\n",
    "end"
   ]
  },
  {
   "cell_type": "code",
   "execution_count": 19,
   "id": "54e335cc-a7bb-4e2d-9dce-5b8847a67e80",
   "metadata": {},
   "outputs": [],
   "source": [
    "dominant_eigvals_all = []\n",
    "dominant_eigvals_phys = []\n",
    "dominant_eigvals_home = []\n",
    "dominant_eigvals_physhome = []\n",
    "include(\"../src/Reff_projection_setup.jl\")"
   ]
  },
  {
   "cell_type": "code",
   "execution_count": 20,
   "id": "25fb4e9f-7620-4f90-84e8-73862b3afacb",
   "metadata": {},
   "outputs": [
    {
     "name": "stdout",
     "output_type": "stream",
     "text": [
      "Dominant Eigenvalues: Any[9.260633673263502, 9.62557295980762, 10.007588485731324, 10.679415971591101, 11.377118212024397]\n",
      "Used combination: s_infant = 2.2, s_vax = 0.26\n"
     ]
    }
   ],
   "source": [
    "# all contact\n",
    "println(\"Dominant Eigenvalues: \", dominant_eigvals_all)\n",
    "println(\"Used combination: s_infant = $(first_key[1]), s_vax = $(first_key[2])\")"
   ]
  },
  {
   "cell_type": "code",
   "execution_count": 21,
   "id": "37c42822-ad40-4476-9cbd-557a0d9c3b83",
   "metadata": {},
   "outputs": [
    {
     "name": "stdout",
     "output_type": "stream",
     "text": [
      "Dominant Eigenvalues: Any[5.9585836377594985, 6.150132717318949, 6.352054879355397, 6.718843675957542, 7.11447550100882]\n",
      "Used combination: s_infant = 1.9, s_vax = 0.28\n"
     ]
    }
   ],
   "source": [
    "# physical contact\n",
    "println(\"Dominant Eigenvalues: \", dominant_eigvals_phys)\n",
    "println(\"Used combination: s_infant = $(second_key[1]), s_vax = $(second_key[2])\")"
   ]
  },
  {
   "cell_type": "code",
   "execution_count": 22,
   "id": "0b5ea948-7435-4550-b63d-ed943a095bce",
   "metadata": {},
   "outputs": [
    {
     "name": "stdout",
     "output_type": "stream",
     "text": [
      "Dominant Eigenvalues: Any[4.313060885944405, 4.547424418286475, 4.790177926432802, 5.121758056752923, 5.4581711811573]\n",
      "Used combination: s_infant = 1.5, s_vax = 0.22\n"
     ]
    }
   ],
   "source": [
    "# home contact\n",
    "println(\"Dominant Eigenvalues: \", dominant_eigvals_home)\n",
    "println(\"Used combination: s_infant = $(third_key[1]), s_vax = $(third_key[2])\")"
   ]
  },
  {
   "cell_type": "code",
   "execution_count": 23,
   "id": "398fa945-d12b-4b3e-a2d2-b078d88629cc",
   "metadata": {},
   "outputs": [
    {
     "name": "stdout",
     "output_type": "stream",
     "text": [
      "Dominant Eigenvalues: Any[2.9628586977230724, 3.115201610673074, 3.27690844344731, 3.468121876468929, 3.667818047363289]\n",
      "Used combination: s_infant = 1.3, s_vax = 0.23\n"
     ]
    }
   ],
   "source": [
    "# physical home contact\n",
    "println(\"Dominant Eigenvalues: \", dominant_eigvals_physhome)\n",
    "println(\"Used combination: s_infant = $(forth_key[1]), s_vax = $(forth_key[2])\")"
   ]
  },
  {
   "cell_type": "code",
   "execution_count": 24,
   "id": "7decc070-5886-43fb-8257-533afd966841",
   "metadata": {},
   "outputs": [
    {
     "name": "stdout",
     "output_type": "stream",
     "text": [
      "Weighted averages: Any[5.7110299551278265, 5.9392198853934595, 6.178462120952873, 6.56778202153174, 6.9762117131235115]\n"
     ]
    }
   ],
   "source": [
    "# R0 projection with community cotacts only\n",
    "# model weights\n",
    "w1 = 0.22\n",
    "w2 = 0.38\n",
    "w3 = 0.21\n",
    "w4 = 0.17\n",
    "\n",
    "# model averaging\n",
    "weighted_avg = []\n",
    "for i in 1:length(dominant_eigvals_all)\n",
    "    weighted_value = w1 * dominant_eigvals_all[i] + w2 * dominant_eigvals_phys[i] + w3 * dominant_eigvals_home[i] + w4 * dominant_eigvals_physhome[i]\n",
    "    push!(weighted_avg, weighted_value)\n",
    "end\n",
    "println(\"Weighted averages: \", weighted_avg)"
   ]
  },
  {
   "cell_type": "code",
   "execution_count": 25,
   "id": "232d9f53-385f-4d22-9d35-92956fbbcc6c",
   "metadata": {},
   "outputs": [
    {
     "name": "stdout",
     "output_type": "stream",
     "text": [
      "R₀: [0.7884948955538756, 0.82, 0.853031043966092, 0.9067826013481978, 0.9631725571955836]\n",
      "β: 0.13806527049396772\n"
     ]
    }
   ],
   "source": [
    "β=0.82/weighted_avg[2]\n",
    "R₀ = [x * β for x in weighted_avg]\n",
    "println(\"R₀: \", R₀)\n",
    "println(\"β: \", β)"
   ]
  },
  {
   "cell_type": "code",
   "execution_count": 26,
   "id": "13890881-2bbb-4850-9798-1f511e9b12ef",
   "metadata": {},
   "outputs": [
    {
     "name": "stdout",
     "output_type": "stream",
     "text": [
      "Weighted averages (sexual): Any[5.754160563987271, 5.984694129576325, 6.226363900217201, 11.066114602596066, 11.754448355869357]\n"
     ]
    }
   ],
   "source": [
    "# Nouth and South Kivu (community+sexual contact)\n",
    "s1 = 1 - 0.39\n",
    "s2 = 1 - 0.4\n",
    "s3 = 1 - 0.42\n",
    "s4 = 1 - 0.42\n",
    "weighted_avg_sexual_nskivu = model_averaging_sexual(s1, s2, s3, s4, dominant_eigvals_all, dominant_eigvals_phys, dominant_eigvals_home, dominant_eigvals_physhome)\n",
    "println(\"Weighted averages (sexual): \", weighted_avg_sexual_nskivu)"
   ]
  },
  {
   "cell_type": "code",
   "execution_count": 27,
   "id": "b8a9eb65-93a3-4bd2-a46b-7089fc0d99f6",
   "metadata": {},
   "outputs": [
    {
     "name": "stdout",
     "output_type": "stream",
     "text": [
      "sR₀: [0.7944497347326244, 0.826278413823616, 0.8596446160773638, 1.527846105924672, 1.6228810917604768]\n",
      "sβ: 0.13806527049396772\n"
     ]
    }
   ],
   "source": [
    "sR₀_kivu = [x * β for x in weighted_avg_sexual_nskivu]\n",
    "println(\"sR₀: \", sR₀_kivu)\n",
    "println(\"sβ: \", β)"
   ]
  },
  {
   "cell_type": "code",
   "execution_count": 28,
   "id": "35e052e5-b22b-4bf6-a742-33e792ad9628",
   "metadata": {
    "scrolled": true
   },
   "outputs": [
    {
     "data": {
      "image/svg+xml": [
       "<?xml version=\"1.0\" encoding=\"utf-8\"?>\n",
       "<svg xmlns=\"http://www.w3.org/2000/svg\" xmlns:xlink=\"http://www.w3.org/1999/xlink\" width=\"400\" height=\"300\" viewBox=\"0 0 1600 1200\">\n",
       "<defs>\n",
       "  <clipPath id=\"clip070\">\n",
       "    <rect x=\"0\" y=\"0\" width=\"1600\" height=\"1200\"/>\n",
       "  </clipPath>\n",
       "</defs>\n",
       "<path clip-path=\"url(#clip070)\" d=\"M0 1200 L1600 1200 L1600 0 L0 0  Z\" fill=\"#ffffff\" fill-rule=\"evenodd\" fill-opacity=\"1\"/>\n",
       "<defs>\n",
       "  <clipPath id=\"clip071\">\n",
       "    <rect x=\"320\" y=\"0\" width=\"1121\" height=\"1121\"/>\n",
       "  </clipPath>\n",
       "</defs>\n",
       "<path clip-path=\"url(#clip070)\" d=\"M225.528 1014.95 L1552.76 1014.95 L1552.76 114.864 L225.528 114.864  Z\" fill=\"#ffffff\" fill-rule=\"evenodd\" fill-opacity=\"1\"/>\n",
       "<defs>\n",
       "  <clipPath id=\"clip072\">\n",
       "    <rect x=\"225\" y=\"114\" width=\"1328\" height=\"901\"/>\n",
       "  </clipPath>\n",
       "</defs>\n",
       "<polyline clip-path=\"url(#clip072)\" style=\"stroke:#000000; stroke-linecap:round; stroke-linejoin:round; stroke-width:2; stroke-opacity:0.1; fill:none\" points=\"263.091,1014.95 263.091,114.864 \"/>\n",
       "<polyline clip-path=\"url(#clip072)\" style=\"stroke:#000000; stroke-linecap:round; stroke-linejoin:round; stroke-width:2; stroke-opacity:0.1; fill:none\" points=\"576.117,1014.95 576.117,114.864 \"/>\n",
       "<polyline clip-path=\"url(#clip072)\" style=\"stroke:#000000; stroke-linecap:round; stroke-linejoin:round; stroke-width:2; stroke-opacity:0.1; fill:none\" points=\"889.142,1014.95 889.142,114.864 \"/>\n",
       "<polyline clip-path=\"url(#clip072)\" style=\"stroke:#000000; stroke-linecap:round; stroke-linejoin:round; stroke-width:2; stroke-opacity:0.1; fill:none\" points=\"1202.17,1014.95 1202.17,114.864 \"/>\n",
       "<polyline clip-path=\"url(#clip072)\" style=\"stroke:#000000; stroke-linecap:round; stroke-linejoin:round; stroke-width:2; stroke-opacity:0.1; fill:none\" points=\"1515.19,1014.95 1515.19,114.864 \"/>\n",
       "<polyline clip-path=\"url(#clip070)\" style=\"stroke:#000000; stroke-linecap:round; stroke-linejoin:round; stroke-width:4; stroke-opacity:1; fill:none\" points=\"225.528,1014.95 1552.76,1014.95 \"/>\n",
       "<polyline clip-path=\"url(#clip070)\" style=\"stroke:#000000; stroke-linecap:round; stroke-linejoin:round; stroke-width:4; stroke-opacity:1; fill:none\" points=\"263.091,1014.95 263.091,1033.85 \"/>\n",
       "<polyline clip-path=\"url(#clip070)\" style=\"stroke:#000000; stroke-linecap:round; stroke-linejoin:round; stroke-width:4; stroke-opacity:1; fill:none\" points=\"576.117,1014.95 576.117,1033.85 \"/>\n",
       "<polyline clip-path=\"url(#clip070)\" style=\"stroke:#000000; stroke-linecap:round; stroke-linejoin:round; stroke-width:4; stroke-opacity:1; fill:none\" points=\"889.142,1014.95 889.142,1033.85 \"/>\n",
       "<polyline clip-path=\"url(#clip070)\" style=\"stroke:#000000; stroke-linecap:round; stroke-linejoin:round; stroke-width:4; stroke-opacity:1; fill:none\" points=\"1202.17,1014.95 1202.17,1033.85 \"/>\n",
       "<polyline clip-path=\"url(#clip070)\" style=\"stroke:#000000; stroke-linecap:round; stroke-linejoin:round; stroke-width:4; stroke-opacity:1; fill:none\" points=\"1515.19,1014.95 1515.19,1033.85 \"/>\n",
       "<g clip-path=\"url(#clip070)\">\n",
       "<text style=\"fill:#000000; fill-opacity:1; font-family:Arial,Helvetica Neue,Helvetica,sans-serif; font-size:59px; text-anchor:middle;\" transform=\"rotate(0, 263.091, 1087.09)\" x=\"263.091\" y=\"1087.09\">2010</text>\n",
       "</g>\n",
       "<g clip-path=\"url(#clip070)\">\n",
       "<text style=\"fill:#000000; fill-opacity:1; font-family:Arial,Helvetica Neue,Helvetica,sans-serif; font-size:59px; text-anchor:middle;\" transform=\"rotate(0, 576.117, 1087.09)\" x=\"576.117\" y=\"1087.09\">2015</text>\n",
       "</g>\n",
       "<g clip-path=\"url(#clip070)\">\n",
       "<text style=\"fill:#000000; fill-opacity:1; font-family:Arial,Helvetica Neue,Helvetica,sans-serif; font-size:59px; text-anchor:middle;\" transform=\"rotate(0, 889.142, 1087.09)\" x=\"889.142\" y=\"1087.09\">2020</text>\n",
       "</g>\n",
       "<g clip-path=\"url(#clip070)\">\n",
       "<text style=\"fill:#000000; fill-opacity:1; font-family:Arial,Helvetica Neue,Helvetica,sans-serif; font-size:59px; text-anchor:middle;\" transform=\"rotate(0, 1202.17, 1087.09)\" x=\"1202.17\" y=\"1087.09\">2025</text>\n",
       "</g>\n",
       "<g clip-path=\"url(#clip070)\">\n",
       "<text style=\"fill:#000000; fill-opacity:1; font-family:Arial,Helvetica Neue,Helvetica,sans-serif; font-size:59px; text-anchor:middle;\" transform=\"rotate(0, 1515.19, 1087.09)\" x=\"1515.19\" y=\"1087.09\">2030</text>\n",
       "</g>\n",
       "<g clip-path=\"url(#clip070)\">\n",
       "<text style=\"fill:#000000; fill-opacity:1; font-family:Arial,Helvetica Neue,Helvetica,sans-serif; font-size:59px; text-anchor:middle;\" transform=\"rotate(0, 889.142, 1156.1)\" x=\"889.142\" y=\"1156.1\">Year</text>\n",
       "</g>\n",
       "<polyline clip-path=\"url(#clip072)\" style=\"stroke:#000000; stroke-linecap:round; stroke-linejoin:round; stroke-width:2; stroke-opacity:0.1; fill:none\" points=\"225.528,1014.95 1552.76,1014.95 \"/>\n",
       "<polyline clip-path=\"url(#clip072)\" style=\"stroke:#000000; stroke-linecap:round; stroke-linejoin:round; stroke-width:2; stroke-opacity:0.1; fill:none\" points=\"225.528,737.637 1552.76,737.637 \"/>\n",
       "<polyline clip-path=\"url(#clip072)\" style=\"stroke:#000000; stroke-linecap:round; stroke-linejoin:round; stroke-width:2; stroke-opacity:0.1; fill:none\" points=\"225.528,460.327 1552.76,460.327 \"/>\n",
       "<polyline clip-path=\"url(#clip072)\" style=\"stroke:#000000; stroke-linecap:round; stroke-linejoin:round; stroke-width:2; stroke-opacity:0.1; fill:none\" points=\"225.528,183.016 1552.76,183.016 \"/>\n",
       "<polyline clip-path=\"url(#clip070)\" style=\"stroke:#000000; stroke-linecap:round; stroke-linejoin:round; stroke-width:4; stroke-opacity:1; fill:none\" points=\"225.528,1014.95 225.528,114.864 \"/>\n",
       "<polyline clip-path=\"url(#clip070)\" style=\"stroke:#000000; stroke-linecap:round; stroke-linejoin:round; stroke-width:4; stroke-opacity:1; fill:none\" points=\"225.528,1014.95 206.631,1014.95 \"/>\n",
       "<polyline clip-path=\"url(#clip070)\" style=\"stroke:#000000; stroke-linecap:round; stroke-linejoin:round; stroke-width:4; stroke-opacity:1; fill:none\" points=\"225.528,737.637 206.631,737.637 \"/>\n",
       "<polyline clip-path=\"url(#clip070)\" style=\"stroke:#000000; stroke-linecap:round; stroke-linejoin:round; stroke-width:4; stroke-opacity:1; fill:none\" points=\"225.528,460.327 206.631,460.327 \"/>\n",
       "<polyline clip-path=\"url(#clip070)\" style=\"stroke:#000000; stroke-linecap:round; stroke-linejoin:round; stroke-width:4; stroke-opacity:1; fill:none\" points=\"225.528,183.016 206.631,183.016 \"/>\n",
       "<g clip-path=\"url(#clip070)\">\n",
       "<text style=\"fill:#000000; fill-opacity:1; font-family:Arial,Helvetica Neue,Helvetica,sans-serif; font-size:59px; text-anchor:middle;\" transform=\"rotate(0, 147.712, 1036.45)\" x=\"147.712\" y=\"1036.45\">0.0</text>\n",
       "</g>\n",
       "<g clip-path=\"url(#clip070)\">\n",
       "<text style=\"fill:#000000; fill-opacity:1; font-family:Arial,Helvetica Neue,Helvetica,sans-serif; font-size:59px; text-anchor:middle;\" transform=\"rotate(0, 147.712, 759.137)\" x=\"147.712\" y=\"759.137\">0.5</text>\n",
       "</g>\n",
       "<g clip-path=\"url(#clip070)\">\n",
       "<text style=\"fill:#000000; fill-opacity:1; font-family:Arial,Helvetica Neue,Helvetica,sans-serif; font-size:59px; text-anchor:middle;\" transform=\"rotate(0, 147.712, 481.827)\" x=\"147.712\" y=\"481.827\">1.0</text>\n",
       "</g>\n",
       "<g clip-path=\"url(#clip070)\">\n",
       "<text style=\"fill:#000000; fill-opacity:1; font-family:Arial,Helvetica Neue,Helvetica,sans-serif; font-size:59px; text-anchor:middle;\" transform=\"rotate(0, 147.712, 204.516)\" x=\"147.712\" y=\"204.516\">1.5</text>\n",
       "</g>\n",
       "<g clip-path=\"url(#clip070)\">\n",
       "<text style=\"fill:#000000; fill-opacity:1; font-family:Arial,Helvetica Neue,Helvetica,sans-serif; font-size:59px; text-anchor:middle;\" transform=\"rotate(-90, 82.6215, 564.906)\" x=\"82.6215\" y=\"564.906\">R₀</text>\n",
       "</g>\n",
       "<g clip-path=\"url(#clip070)\">\n",
       "<text style=\"fill:#000000; fill-opacity:1; font-family:Arial,Helvetica Neue,Helvetica,sans-serif; font-size:66px; text-anchor:middle;\" transform=\"rotate(0, 889.142, 57.6)\" x=\"889.142\" y=\"57.6\">Nouth and South Kivu</text>\n",
       "</g>\n",
       "<polyline clip-path=\"url(#clip072)\" style=\"stroke:#009af9; stroke-linecap:round; stroke-linejoin:round; stroke-width:4; stroke-opacity:1; fill:none\" points=\"263.091,577.632 576.117,560.159 889.142,541.839 1139.56,512.027 1515.19,480.752 \"/>\n",
       "<polyline clip-path=\"url(#clip072)\" style=\"stroke:#e26f46; stroke-linecap:round; stroke-linejoin:round; stroke-width:4; stroke-opacity:1; fill:none\" points=\"1139.56,167.572 1515.19,114.864 \"/>\n",
       "<polyline clip-path=\"url(#clip072)\" style=\"stroke:#000000; stroke-linecap:round; stroke-linejoin:round; stroke-width:4; stroke-opacity:1; fill:none\" points=\"576.117,576.797 576.117,543.52 \"/>\n",
       "<circle clip-path=\"url(#clip072)\" cx=\"576.117\" cy=\"560.159\" r=\"10.8\" fill=\"#000000\" fill-rule=\"evenodd\" fill-opacity=\"1\" stroke=\"none\"/>\n",
       "<polyline clip-path=\"url(#clip072)\" style=\"stroke:#000000; stroke-linecap:round; stroke-linejoin:round; stroke-width:4; stroke-opacity:1; fill:none\" stroke-dasharray=\"16, 8, 2, 8\" points=\"-1101.7,460.327 2879.98,460.327 \"/>\n",
       "<path clip-path=\"url(#clip070)\" d=\"M269.769 295.766 L1025.78 295.766 L1025.78 144.867 L269.769 144.867  Z\" fill=\"#000000\" fill-rule=\"evenodd\" fill-opacity=\"0\"/>\n",
       "<polyline clip-path=\"url(#clip070)\" style=\"stroke:#000000; stroke-linecap:round; stroke-linejoin:round; stroke-width:4; stroke-opacity:0; fill:none\" points=\"269.769,295.766 1025.78,295.766 1025.78,144.867 269.769,144.867 269.769,295.766 \"/>\n",
       "<polyline clip-path=\"url(#clip070)\" style=\"stroke:#009af9; stroke-linecap:round; stroke-linejoin:round; stroke-width:4; stroke-opacity:1; fill:none\" points=\"284.516,195.166 372.998,195.166 \"/>\n",
       "<g clip-path=\"url(#clip070)\">\n",
       "<text style=\"fill:#000000; fill-opacity:1; font-family:Arial,Helvetica Neue,Helvetica,sans-serif; font-size:48px; text-anchor:start;\" transform=\"rotate(0, 387.745, 212.666)\" x=\"387.745\" y=\"212.666\">community contacts</text>\n",
       "</g>\n",
       "<polyline clip-path=\"url(#clip070)\" style=\"stroke:#e26f46; stroke-linecap:round; stroke-linejoin:round; stroke-width:4; stroke-opacity:1; fill:none\" points=\"284.516,245.466 372.998,245.466 \"/>\n",
       "<g clip-path=\"url(#clip070)\">\n",
       "<text style=\"fill:#000000; fill-opacity:1; font-family:Arial,Helvetica Neue,Helvetica,sans-serif; font-size:48px; text-anchor:start;\" transform=\"rotate(0, 387.745, 262.966)\" x=\"387.745\" y=\"262.966\">community &amp; sexual contacts</text>\n",
       "</g>\n",
       "</svg>\n"
      ]
     },
     "execution_count": 28,
     "metadata": {},
     "output_type": "execute_result"
    }
   ],
   "source": [
    "nskivu_plot=plot(years, R₀, xlabel=\"Year\", ylabel=\"R₀\", label=\"community contacts\", ylim=(0,:auto), title=\"Nouth and South Kivu\")\n",
    "plot!([2024, 2030], [sR₀_kivu[4], sR₀_kivu[5]], label=\"community & sexual contacts\")\n",
    "plot!([2015, 2015], [0.79, 0.85], color=:black, label=nothing)\n",
    "scatter!([2015], [0.82], color=:black, marker=:circle, markersize=3, markerstrokewidth=0, label=nothing)\n",
    "hline!([1], color=:black, linestyle=:dashdot, label=\"\")"
   ]
  },
  {
   "cell_type": "markdown",
   "id": "2bc74624-2e72-47b1-ab0b-f23a616c70c3",
   "metadata": {},
   "source": [
    "### Burundi"
   ]
  },
  {
   "cell_type": "code",
   "execution_count": 29,
   "id": "c5aac742-2ad0-4547-8777-7d47ab38649d",
   "metadata": {},
   "outputs": [
    {
     "name": "stdout",
     "output_type": "stream",
     "text": [
      "For s_infant = 1.5, s_vax = 0.45400000000000007:\n",
      "Dict{Int64, Vector}(2030 => [fill(1.5), fill(1.0), fill(1.0), fill(1.0), fill(1.0), fill(1.0), fill(0.45400000000000007)], 2020 => [fill(1.5), fill(1.0), fill(1.0), fill(1.0), fill(1.0), fill(0.45400000000000007), fill(0.45400000000000007)], 2024 => [fill(1.5), fill(1.0), fill(1.0), fill(1.0), fill(1.0), fill(0.7270000000000001), fill(0.45400000000000007)], 2010 => [fill(1.5), fill(1.0), fill(1.0), fill(1.0), fill(0.45400000000000007), fill(0.45400000000000007), fill(0.45400000000000007)], 2015 => [fill(1.5), fill(1.0), fill(1.0), fill(1.0), fill(0.7270000000000001), fill(0.45400000000000007), fill(0.45400000000000007)])\n",
      "For s_infant = 1.9, s_vax = 0.496:\n",
      "Dict{Int64, Vector}(2030 => [fill(1.9), fill(1.0), fill(1.0), fill(1.0), fill(1.0), fill(1.0), fill(0.496)], 2020 => [fill(1.9), fill(1.0), fill(1.0), fill(1.0), fill(1.0), fill(0.496), fill(0.496)], 2024 => [fill(1.9), fill(1.0), fill(1.0), fill(1.0), fill(1.0), fill(0.748), fill(0.496)], 2010 => [fill(1.9), fill(1.0), fill(1.0), fill(1.0), fill(0.496), fill(0.496), fill(0.496)], 2015 => [fill(1.9), fill(1.0), fill(1.0), fill(1.0), fill(0.748), fill(0.496), fill(0.496)])\n",
      "For s_infant = 1.3, s_vax = 0.4610000000000001:\n",
      "Dict{Int64, Vector}(2030 => [fill(1.3), fill(1.0), fill(1.0), fill(1.0), fill(1.0), fill(1.0), fill(0.4610000000000001)], 2020 => [fill(1.3), fill(1.0), fill(1.0), fill(1.0), fill(1.0), fill(0.4610000000000001), fill(0.4610000000000001)], 2024 => [fill(1.3), fill(1.0), fill(1.0), fill(1.0), fill(1.0), fill(0.7305), fill(0.4610000000000001)], 2010 => [fill(1.3), fill(1.0), fill(1.0), fill(1.0), fill(0.4610000000000001), fill(0.4610000000000001), fill(0.4610000000000001)], 2015 => [fill(1.3), fill(1.0), fill(1.0), fill(1.0), fill(0.7305), fill(0.4610000000000001), fill(0.4610000000000001)])\n",
      "For s_infant = 2.2, s_vax = 0.482:\n",
      "Dict{Int64, Vector}(2030 => [fill(2.2), fill(1.0), fill(1.0), fill(1.0), fill(1.0), fill(1.0), fill(0.482)], 2020 => [fill(2.2), fill(1.0), fill(1.0), fill(1.0), fill(1.0), fill(0.482), fill(0.482)], 2024 => [fill(2.2), fill(1.0), fill(1.0), fill(1.0), fill(1.0), fill(0.741), fill(0.482)], 2010 => [fill(2.2), fill(1.0), fill(1.0), fill(1.0), fill(0.482), fill(0.482), fill(0.482)], 2015 => [fill(2.2), fill(1.0), fill(1.0), fill(1.0), fill(0.741), fill(0.482), fill(0.482)])\n"
     ]
    }
   ],
   "source": [
    "years = [2010, 2015, 2020, 2024, 2030]\n",
    "s_infant_values = [2.2, 1.9, 1.5, 1.3]\n",
    "s_vax_values = 1　.- 0.7 .* (1 .- [0.26, 0.28, 0.22, 0.23])\n",
    "\n",
    "all_susceptibilities = Dict{Tuple{Float64, Float64}, Dict}()\n",
    "# get the correct combination of susceptibility by age group\n",
    "for (s_infant, s_vax) in zip(s_infant_values, s_vax_values)\n",
    "    s_partvax = (1 + s_vax)/2   \n",
    "    susceptibilities = create_susceptibilities_for_years(years, s_infant, s_partvax, s_vax)\n",
    "    all_susceptibilities[(s_infant, s_vax)] = susceptibilities\n",
    "end\n",
    "\n",
    "for (key, susceptibilities) in all_susceptibilities\n",
    "    println(\"For s_infant = $(key[1]), s_vax = $(key[2]):\")\n",
    "    println(susceptibilities)\n",
    "end"
   ]
  },
  {
   "cell_type": "code",
   "execution_count": 30,
   "id": "13cdc293-5cc3-44e0-9572-16ab85414369",
   "metadata": {},
   "outputs": [],
   "source": [
    "dominant_eigvals_all = []\n",
    "dominant_eigvals_phys = []\n",
    "dominant_eigvals_home = []\n",
    "dominant_eigvals_physhome = []\n",
    "include(\"../src/Reff_projection_setup.jl\")"
   ]
  },
  {
   "cell_type": "code",
   "execution_count": 31,
   "id": "c06e3513-f177-484e-b243-bed56aab8ea0",
   "metadata": {},
   "outputs": [
    {
     "name": "stdout",
     "output_type": "stream",
     "text": [
      "Dominant Eigenvalues: Any[10.090490585609786, 10.373325030354428, 10.663280775230339, 11.149049856684275, 11.645852650291452]\n",
      "Used combination: s_infant = 2.2, s_vax = 0.482\n"
     ]
    }
   ],
   "source": [
    "println(\"Dominant Eigenvalues: \", dominant_eigvals_all)\n",
    "println(\"Used combination: s_infant = $(first_key[1]), s_vax = $(first_key[2])\")"
   ]
  },
  {
   "cell_type": "code",
   "execution_count": 32,
   "id": "f0a5eb9a-0104-4119-831a-1b05e40a9104",
   "metadata": {},
   "outputs": [
    {
     "name": "stdout",
     "output_type": "stream",
     "text": [
      "Dominant Eigenvalues: Any[6.40537437513781, 6.55451367121499, 6.7082547893471745, 6.979460215881341, 7.263780995123767]\n",
      "Used combination: s_infant = 1.9, s_vax = 0.496\n"
     ]
    }
   ],
   "source": [
    "println(\"Dominant Eigenvalues: \", dominant_eigvals_phys)\n",
    "println(\"Used combination: s_infant = $(second_key[1]), s_vax = $(second_key[2])\")"
   ]
  },
  {
   "cell_type": "code",
   "execution_count": 33,
   "id": "b223fbfe-a828-4f75-b914-ddc4ddf568ac",
   "metadata": {},
   "outputs": [
    {
     "name": "stdout",
     "output_type": "stream",
     "text": [
      "Dominant Eigenvalues: Any[4.828027462331271, 4.997980633376489, 5.171462612239584, 5.403809772287082, 5.638393007418156]\n",
      "Used combination: s_infant = 1.5, s_vax = 0.45400000000000007\n"
     ]
    }
   ],
   "source": [
    "println(\"Dominant Eigenvalues: \", dominant_eigvals_home)\n",
    "println(\"Used combination: s_infant = $(third_key[1]), s_vax = $(third_key[2])\")"
   ]
  },
  {
   "cell_type": "code",
   "execution_count": 34,
   "id": "a419a09d-3353-4987-82e7-37b57c2f8cd9",
   "metadata": {},
   "outputs": [
    {
     "name": "stdout",
     "output_type": "stream",
     "text": [
      "Dominant Eigenvalues: Any[3.2660452698524147, 3.3779592944456556, 3.493996495911079, 3.6311252306022075, 3.77211453697737]\n",
      "Used combination: s_infant = 1.3, s_vax = 0.4610000000000001\n"
     ]
    }
   ],
   "source": [
    "println(\"Dominant Eigenvalues: \", dominant_eigvals_physhome)\n",
    "println(\"Used combination: s_infant = $(forth_key[1]), s_vax = $(forth_key[2])\")"
   ]
  },
  {
   "cell_type": "code",
   "execution_count": 35,
   "id": "88e71191-3bbd-4e8a-a806-ee64f7c74758",
   "metadata": {},
   "outputs": [
    {
     "name": "stdout",
     "output_type": "stream",
     "text": [
      "Weighted averages: Any[6.223063654350998, 6.396675714804495, 6.575045143377797, 6.857077191888113, 7.1476463640551176]\n"
     ]
    }
   ],
   "source": [
    "# R0 projection with community cotacts only\n",
    "# model weights\n",
    "w1 = 0.22\n",
    "w2 = 0.38\n",
    "w3 = 0.21\n",
    "w4 = 0.17\n",
    "\n",
    "# model averaging\n",
    "weighted_avg = []\n",
    "for i in 1:length(dominant_eigvals_all)\n",
    "    weighted_value = w1 * dominant_eigvals_all[i] + w2 * dominant_eigvals_phys[i] + w3 * dominant_eigvals_home[i] + w4 * dominant_eigvals_physhome[i]\n",
    "    push!(weighted_avg, weighted_value)\n",
    "end\n",
    "println(\"Weighted averages: \", weighted_avg)"
   ]
  },
  {
   "cell_type": "code",
   "execution_count": 36,
   "id": "60c49993-44f1-4179-b65b-45047f5dd035",
   "metadata": {},
   "outputs": [
    {
     "name": "stdout",
     "output_type": "stream",
     "text": [
      "R₀ (Burundi): [0.8591889667391498, 0.8831587628266768, 0.9077853862305043, 0.9467242172960488, 0.9868417286484946]\n",
      "β : 0.13806527049396772\n"
     ]
    }
   ],
   "source": [
    "R₀_burundi = [x * β for x in weighted_avg]\n",
    "println(\"R₀ (Burundi): \", R₀_burundi)\n",
    "println(\"β : \", β)"
   ]
  },
  {
   "cell_type": "code",
   "execution_count": 37,
   "id": "9ea458ec-4acc-424e-99f0-48e60816b413",
   "metadata": {},
   "outputs": [
    {
     "name": "stdout",
     "output_type": "stream",
     "text": [
      "Weighted averages (sexual_burundi): Any[6.271343928974311, 6.4466555211382595, 6.626759769500193, 7.297789485458641, 7.607068135804404]\n"
     ]
    }
   ],
   "source": [
    "# Burundi (community+sexual contact)\n",
    "s1 = 1 - 0.05\n",
    "s2 = 1 - 0.06\n",
    "s3 = 1 - 0.05\n",
    "s4 = 1 - 0.04\n",
    "\n",
    "weighted_avg_sexual_burundi = model_averaging_sexual(s1, s2, s3, s4, dominant_eigvals_all, dominant_eigvals_phys, dominant_eigvals_home, dominant_eigvals_physhome)\n",
    "\n",
    "println(\"Weighted averages (sexual_burundi): \", weighted_avg_sexual_burundi)"
   ]
  },
  {
   "cell_type": "code",
   "execution_count": 38,
   "id": "69e4f103-cd65-4b0d-84eb-6093f36fc409",
   "metadata": {},
   "outputs": [
    {
     "name": "stdout",
     "output_type": "stream",
     "text": [
      "sR₀: [0.8658547959145405, 0.8900592383073842, 0.9149253800745873, 1.0075712793178808, 1.0502719198358779]\n"
     ]
    }
   ],
   "source": [
    "sR₀_burundi = [x * β for x in weighted_avg_sexual_burundi]\n",
    "println(\"sR₀: \", sR₀_burundi)"
   ]
  },
  {
   "cell_type": "markdown",
   "id": "ec9bfce7-2f23-4597-810d-4e5fcdf8a0ae",
   "metadata": {},
   "source": [
    "### Plot"
   ]
  },
  {
   "cell_type": "code",
   "execution_count": 59,
   "id": "8184b0f8-8982-4641-9fca-a0ff28054723",
   "metadata": {},
   "outputs": [
    {
     "data": {
      "image/svg+xml": [
       "<?xml version=\"1.0\" encoding=\"utf-8\"?>\n",
       "<svg xmlns=\"http://www.w3.org/2000/svg\" xmlns:xlink=\"http://www.w3.org/1999/xlink\" width=\"600\" height=\"300\" viewBox=\"0 0 2400 1200\">\n",
       "<defs>\n",
       "  <clipPath id=\"clip910\">\n",
       "    <rect x=\"0\" y=\"0\" width=\"2400\" height=\"1200\"/>\n",
       "  </clipPath>\n",
       "</defs>\n",
       "<path clip-path=\"url(#clip910)\" d=\"M0 1200 L2400 1200 L2400 0 L0 0  Z\" fill=\"#ffffff\" fill-rule=\"evenodd\" fill-opacity=\"1\"/>\n",
       "<defs>\n",
       "  <clipPath id=\"clip911\">\n",
       "    <rect x=\"480\" y=\"0\" width=\"1681\" height=\"1200\"/>\n",
       "  </clipPath>\n",
       "</defs>\n",
       "<path clip-path=\"url(#clip910)\" d=\"M217.81 904.653 L2352.76 904.653 L2352.76 47.2441 L217.81 47.2441  Z\" fill=\"#ffffff\" fill-rule=\"evenodd\" fill-opacity=\"1\"/>\n",
       "<defs>\n",
       "  <clipPath id=\"clip912\">\n",
       "    <rect x=\"217\" y=\"47\" width=\"2136\" height=\"858\"/>\n",
       "  </clipPath>\n",
       "</defs>\n",
       "<polyline clip-path=\"url(#clip912)\" style=\"stroke:#000000; stroke-linecap:round; stroke-linejoin:round; stroke-width:2; stroke-opacity:0.1; fill:none\" points=\"278.233,904.653 278.233,47.2441 \"/>\n",
       "<polyline clip-path=\"url(#clip912)\" style=\"stroke:#000000; stroke-linecap:round; stroke-linejoin:round; stroke-width:2; stroke-opacity:0.1; fill:none\" points=\"781.758,904.653 781.758,47.2441 \"/>\n",
       "<polyline clip-path=\"url(#clip912)\" style=\"stroke:#000000; stroke-linecap:round; stroke-linejoin:round; stroke-width:2; stroke-opacity:0.1; fill:none\" points=\"1285.28,904.653 1285.28,47.2441 \"/>\n",
       "<polyline clip-path=\"url(#clip912)\" style=\"stroke:#000000; stroke-linecap:round; stroke-linejoin:round; stroke-width:2; stroke-opacity:0.1; fill:none\" points=\"1788.81,904.653 1788.81,47.2441 \"/>\n",
       "<polyline clip-path=\"url(#clip912)\" style=\"stroke:#000000; stroke-linecap:round; stroke-linejoin:round; stroke-width:2; stroke-opacity:0.1; fill:none\" points=\"2292.33,904.653 2292.33,47.2441 \"/>\n",
       "<polyline clip-path=\"url(#clip910)\" style=\"stroke:#000000; stroke-linecap:round; stroke-linejoin:round; stroke-width:4; stroke-opacity:1; fill:none\" points=\"217.81,904.653 2352.76,904.653 \"/>\n",
       "<polyline clip-path=\"url(#clip910)\" style=\"stroke:#000000; stroke-linecap:round; stroke-linejoin:round; stroke-width:4; stroke-opacity:1; fill:none\" points=\"278.233,904.653 278.233,923.551 \"/>\n",
       "<polyline clip-path=\"url(#clip910)\" style=\"stroke:#000000; stroke-linecap:round; stroke-linejoin:round; stroke-width:4; stroke-opacity:1; fill:none\" points=\"781.758,904.653 781.758,923.551 \"/>\n",
       "<polyline clip-path=\"url(#clip910)\" style=\"stroke:#000000; stroke-linecap:round; stroke-linejoin:round; stroke-width:4; stroke-opacity:1; fill:none\" points=\"1285.28,904.653 1285.28,923.551 \"/>\n",
       "<polyline clip-path=\"url(#clip910)\" style=\"stroke:#000000; stroke-linecap:round; stroke-linejoin:round; stroke-width:4; stroke-opacity:1; fill:none\" points=\"1788.81,904.653 1788.81,923.551 \"/>\n",
       "<polyline clip-path=\"url(#clip910)\" style=\"stroke:#000000; stroke-linecap:round; stroke-linejoin:round; stroke-width:4; stroke-opacity:1; fill:none\" points=\"2292.33,904.653 2292.33,923.551 \"/>\n",
       "<g clip-path=\"url(#clip910)\">\n",
       "<text style=\"fill:#000000; fill-opacity:1; font-family:Arial,Helvetica Neue,Helvetica,sans-serif; font-size:59px; text-anchor:middle;\" transform=\"rotate(0, 278.233, 986.39)\" x=\"278.233\" y=\"986.39\">2010</text>\n",
       "</g>\n",
       "<g clip-path=\"url(#clip910)\">\n",
       "<text style=\"fill:#000000; fill-opacity:1; font-family:Arial,Helvetica Neue,Helvetica,sans-serif; font-size:59px; text-anchor:middle;\" transform=\"rotate(0, 781.758, 986.39)\" x=\"781.758\" y=\"986.39\">2015</text>\n",
       "</g>\n",
       "<g clip-path=\"url(#clip910)\">\n",
       "<text style=\"fill:#000000; fill-opacity:1; font-family:Arial,Helvetica Neue,Helvetica,sans-serif; font-size:59px; text-anchor:middle;\" transform=\"rotate(0, 1285.28, 986.39)\" x=\"1285.28\" y=\"986.39\">2020</text>\n",
       "</g>\n",
       "<g clip-path=\"url(#clip910)\">\n",
       "<text style=\"fill:#000000; fill-opacity:1; font-family:Arial,Helvetica Neue,Helvetica,sans-serif; font-size:59px; text-anchor:middle;\" transform=\"rotate(0, 1788.81, 986.39)\" x=\"1788.81\" y=\"986.39\">2025</text>\n",
       "</g>\n",
       "<g clip-path=\"url(#clip910)\">\n",
       "<text style=\"fill:#000000; fill-opacity:1; font-family:Arial,Helvetica Neue,Helvetica,sans-serif; font-size:59px; text-anchor:middle;\" transform=\"rotate(0, 2292.33, 986.39)\" x=\"2292.33\" y=\"986.39\">2030</text>\n",
       "</g>\n",
       "<g clip-path=\"url(#clip910)\">\n",
       "<text style=\"fill:#000000; fill-opacity:1; font-family:Arial,Helvetica Neue,Helvetica,sans-serif; font-size:59px; text-anchor:middle;\" transform=\"rotate(0, 1285.28, 1057.8)\" x=\"1285.28\" y=\"1057.8\">year</text>\n",
       "</g>\n",
       "<polyline clip-path=\"url(#clip912)\" style=\"stroke:#000000; stroke-linecap:round; stroke-linejoin:round; stroke-width:2; stroke-opacity:0.1; fill:none\" points=\"217.81,904.653 2352.76,904.653 \"/>\n",
       "<polyline clip-path=\"url(#clip912)\" style=\"stroke:#000000; stroke-linecap:round; stroke-linejoin:round; stroke-width:2; stroke-opacity:0.1; fill:none\" points=\"217.81,652.474 2352.76,652.474 \"/>\n",
       "<polyline clip-path=\"url(#clip912)\" style=\"stroke:#000000; stroke-linecap:round; stroke-linejoin:round; stroke-width:2; stroke-opacity:0.1; fill:none\" points=\"217.81,400.295 2352.76,400.295 \"/>\n",
       "<polyline clip-path=\"url(#clip912)\" style=\"stroke:#000000; stroke-linecap:round; stroke-linejoin:round; stroke-width:2; stroke-opacity:0.1; fill:none\" points=\"217.81,148.116 2352.76,148.116 \"/>\n",
       "<polyline clip-path=\"url(#clip910)\" style=\"stroke:#000000; stroke-linecap:round; stroke-linejoin:round; stroke-width:4; stroke-opacity:1; fill:none\" points=\"217.81,904.653 217.81,47.2441 \"/>\n",
       "<polyline clip-path=\"url(#clip910)\" style=\"stroke:#000000; stroke-linecap:round; stroke-linejoin:round; stroke-width:4; stroke-opacity:1; fill:none\" points=\"217.81,904.653 198.912,904.653 \"/>\n",
       "<polyline clip-path=\"url(#clip910)\" style=\"stroke:#000000; stroke-linecap:round; stroke-linejoin:round; stroke-width:4; stroke-opacity:1; fill:none\" points=\"217.81,652.474 198.912,652.474 \"/>\n",
       "<polyline clip-path=\"url(#clip910)\" style=\"stroke:#000000; stroke-linecap:round; stroke-linejoin:round; stroke-width:4; stroke-opacity:1; fill:none\" points=\"217.81,400.295 198.912,400.295 \"/>\n",
       "<polyline clip-path=\"url(#clip910)\" style=\"stroke:#000000; stroke-linecap:round; stroke-linejoin:round; stroke-width:4; stroke-opacity:1; fill:none\" points=\"217.81,148.116 198.912,148.116 \"/>\n",
       "<g clip-path=\"url(#clip910)\">\n",
       "<text style=\"fill:#000000; fill-opacity:1; font-family:Arial,Helvetica Neue,Helvetica,sans-serif; font-size:59px; text-anchor:middle;\" transform=\"rotate(0, 121.994, 926.153)\" x=\"121.994\" y=\"926.153\">0.0</text>\n",
       "</g>\n",
       "<g clip-path=\"url(#clip910)\">\n",
       "<text style=\"fill:#000000; fill-opacity:1; font-family:Arial,Helvetica Neue,Helvetica,sans-serif; font-size:59px; text-anchor:middle;\" transform=\"rotate(0, 121.994, 673.974)\" x=\"121.994\" y=\"673.974\">0.5</text>\n",
       "</g>\n",
       "<g clip-path=\"url(#clip910)\">\n",
       "<text style=\"fill:#000000; fill-opacity:1; font-family:Arial,Helvetica Neue,Helvetica,sans-serif; font-size:59px; text-anchor:middle;\" transform=\"rotate(0, 121.994, 421.795)\" x=\"121.994\" y=\"421.795\">1.0</text>\n",
       "</g>\n",
       "<g clip-path=\"url(#clip910)\">\n",
       "<text style=\"fill:#000000; fill-opacity:1; font-family:Arial,Helvetica Neue,Helvetica,sans-serif; font-size:59px; text-anchor:middle;\" transform=\"rotate(0, 121.994, 169.616)\" x=\"121.994\" y=\"169.616\">1.5</text>\n",
       "</g>\n",
       "<g clip-path=\"url(#clip910)\">\n",
       "<text style=\"fill:#000000; fill-opacity:1; font-family:Arial,Helvetica Neue,Helvetica,sans-serif; font-size:59px; text-anchor:middle;\" transform=\"rotate(-90, 50.9028, 475.949)\" x=\"50.9028\" y=\"475.949\">reproduction number</text>\n",
       "</g>\n",
       "<polyline clip-path=\"url(#clip912)\" style=\"stroke:#000000; stroke-linecap:round; stroke-linejoin:round; stroke-width:4; stroke-opacity:1; fill:none\" points=\"781.758,506.21 781.758,475.949 \"/>\n",
       "<circle clip-path=\"url(#clip912)\" cx=\"781.758\" cy=\"491.079\" r=\"14.4\" fill=\"#000000\" fill-rule=\"evenodd\" fill-opacity=\"1\" stroke=\"none\"/>\n",
       "<polyline clip-path=\"url(#clip912)\" style=\"stroke:#000000; stroke-linecap:round; stroke-linejoin:round; stroke-width:4; stroke-opacity:1; fill:none\" points=\"580.348,491.079 983.168,491.079 \"/>\n",
       "<polyline clip-path=\"url(#clip912)\" style=\"stroke:#009af9; stroke-linecap:round; stroke-linejoin:round; stroke-width:4; stroke-opacity:1; fill:none\" points=\"278.233,506.969 781.758,491.079 1285.28,474.42 1688.1,447.31 2292.33,418.869 \"/>\n",
       "<polyline clip-path=\"url(#clip912)\" style=\"stroke:#4169e1; stroke-linecap:round; stroke-linejoin:round; stroke-width:4; stroke-opacity:1; fill:none\" points=\"1688.1,134.071 2292.33,86.1396 \"/>\n",
       "<polyline clip-path=\"url(#clip912)\" style=\"stroke:#e26f46; stroke-linecap:round; stroke-linejoin:round; stroke-width:4; stroke-opacity:1; fill:none\" points=\"278.233,471.314 781.758,459.225 1285.28,446.804 1688.1,427.165 2292.33,406.931 \"/>\n",
       "<polyline clip-path=\"url(#clip912)\" style=\"stroke:#b22222; stroke-linecap:round; stroke-linejoin:round; stroke-width:4; stroke-opacity:1; fill:none\" points=\"1688.1,396.476 2292.33,374.94 \"/>\n",
       "<polyline clip-path=\"url(#clip912)\" style=\"stroke:#007bc7; stroke-linecap:round; stroke-linejoin:round; stroke-width:4; stroke-opacity:1; fill:none\" points=\"1597.47,511.254 1597.47,435.6 \"/>\n",
       "<circle clip-path=\"url(#clip912)\" cx=\"1597.47\" cy=\"475.949\" r=\"14.4\" fill=\"#007bc7\" fill-rule=\"evenodd\" fill-opacity=\"1\" stroke=\"none\"/>\n",
       "<polyline clip-path=\"url(#clip912)\" style=\"stroke:#007bc7; stroke-linecap:round; stroke-linejoin:round; stroke-width:4; stroke-opacity:1; fill:none\" points=\"1617.61,521.341 1617.61,445.687 \"/>\n",
       "<circle clip-path=\"url(#clip912)\" cx=\"1617.61\" cy=\"486.036\" r=\"14.4\" fill=\"#ffffff\" fill-rule=\"evenodd\" fill-opacity=\"1\" stroke=\"#007bc7\" stroke-opacity=\"1\" stroke-width=\"2.4\"/>\n",
       "<polyline clip-path=\"url(#clip912)\" style=\"stroke:#3454b4; stroke-linecap:round; stroke-linejoin:round; stroke-width:4; stroke-opacity:1; fill:none\" points=\"1698.17,168.29 1698.17,122.898 \"/>\n",
       "<circle clip-path=\"url(#clip912)\" cx=\"1698.17\" cy=\"148.116\" r=\"14.4\" fill=\"#3454b4\" fill-rule=\"evenodd\" fill-opacity=\"1\" stroke=\"none\"/>\n",
       "<polyline clip-path=\"url(#clip912)\" style=\"stroke:#3454b4; stroke-linecap:round; stroke-linejoin:round; stroke-width:4; stroke-opacity:1; fill:none\" points=\"1718.31,233.857 1718.31,193.508 \"/>\n",
       "<circle clip-path=\"url(#clip912)\" cx=\"1718.31\" cy=\"213.682\" r=\"14.4\" fill=\"#ffffff\" fill-rule=\"evenodd\" fill-opacity=\"1\" stroke=\"#3454b4\" stroke-opacity=\"1\" stroke-width=\"2.4\"/>\n",
       "<polyline clip-path=\"url(#clip912)\" style=\"stroke:#7f7f7f; stroke-linecap:round; stroke-linejoin:round; stroke-width:4; stroke-opacity:0.5; fill:none\" stroke-dasharray=\"16, 10\" points=\"-1917.14,400.295 4487.7,400.295 \"/>\n",
       "<path clip-path=\"url(#clip910)\" d=\"M288.975 327.323 L882.34 327.323 L882.34 75.8244 L288.975 75.8244  Z\" fill=\"#000000\" fill-rule=\"evenodd\" fill-opacity=\"0\"/>\n",
       "<polyline clip-path=\"url(#clip910)\" style=\"stroke:#000000; stroke-linecap:round; stroke-linejoin:round; stroke-width:4; stroke-opacity:0; fill:none\" points=\"288.975,327.323 882.34,327.323 882.34,75.8244 288.975,75.8244 288.975,327.323 \"/>\n",
       "<polyline clip-path=\"url(#clip910)\" style=\"stroke:#009af9; stroke-linecap:round; stroke-linejoin:round; stroke-width:4; stroke-opacity:1; fill:none\" points=\"312.696,126.124 455.026,126.124 \"/>\n",
       "<g clip-path=\"url(#clip910)\">\n",
       "<text style=\"fill:#000000; fill-opacity:1; font-family:Arial,Helvetica Neue,Helvetica,sans-serif; font-size:48px; text-anchor:start;\" transform=\"rotate(0, 478.748, 143.624)\" x=\"478.748\" y=\"143.624\">clade Ia (DRC)</text>\n",
       "</g>\n",
       "<polyline clip-path=\"url(#clip910)\" style=\"stroke:#4169e1; stroke-linecap:round; stroke-linejoin:round; stroke-width:4; stroke-opacity:1; fill:none\" points=\"312.696,176.424 455.026,176.424 \"/>\n",
       "<g clip-path=\"url(#clip910)\">\n",
       "<text style=\"fill:#000000; fill-opacity:1; font-family:Arial,Helvetica Neue,Helvetica,sans-serif; font-size:48px; text-anchor:start;\" transform=\"rotate(0, 478.748, 193.924)\" x=\"478.748\" y=\"193.924\">clade Ib (DRC)</text>\n",
       "</g>\n",
       "<polyline clip-path=\"url(#clip910)\" style=\"stroke:#e26f46; stroke-linecap:round; stroke-linejoin:round; stroke-width:4; stroke-opacity:1; fill:none\" points=\"312.696,226.724 455.026,226.724 \"/>\n",
       "<g clip-path=\"url(#clip910)\">\n",
       "<text style=\"fill:#000000; fill-opacity:1; font-family:Arial,Helvetica Neue,Helvetica,sans-serif; font-size:48px; text-anchor:start;\" transform=\"rotate(0, 478.748, 244.224)\" x=\"478.748\" y=\"244.224\">clade Ia (Burundi)</text>\n",
       "</g>\n",
       "<polyline clip-path=\"url(#clip910)\" style=\"stroke:#b22222; stroke-linecap:round; stroke-linejoin:round; stroke-width:4; stroke-opacity:1; fill:none\" points=\"312.696,277.023 455.026,277.023 \"/>\n",
       "<g clip-path=\"url(#clip910)\">\n",
       "<text style=\"fill:#000000; fill-opacity:1; font-family:Arial,Helvetica Neue,Helvetica,sans-serif; font-size:48px; text-anchor:start;\" transform=\"rotate(0, 478.748, 294.523)\" x=\"478.748\" y=\"294.523\">clade Ib (Burundi)</text>\n",
       "</g>\n",
       "<g clip-path=\"url(#clip910)\">\n",
       "<text style=\"fill:#000000; fill-opacity:1; font-family:Arial,Helvetica Neue,Helvetica,sans-serif; font-size:41px; text-anchor:middle;\" transform=\"rotate(0, 781.758, 566.602)\" x=\"781.758\" y=\"566.602\">Tshuapa</text>\n",
       "</g>\n",
       "<g clip-path=\"url(#clip910)\">\n",
       "<text style=\"fill:#000000; fill-opacity:1; font-family:Arial,Helvetica Neue,Helvetica,sans-serif; font-size:41px; text-anchor:middle;\" transform=\"rotate(0, 1496.76, 501.036)\" x=\"1496.76\" y=\"501.036\">pre-Ib 1</text>\n",
       "</g>\n",
       "<g clip-path=\"url(#clip910)\">\n",
       "<text style=\"fill:#000000; fill-opacity:1; font-family:Arial,Helvetica Neue,Helvetica,sans-serif; font-size:41px; text-anchor:middle;\" transform=\"rotate(0, 1718.31, 511.123)\" x=\"1718.31\" y=\"511.123\">pre-Ib 2</text>\n",
       "</g>\n",
       "<g clip-path=\"url(#clip910)\">\n",
       "<text style=\"fill:#000000; fill-opacity:1; font-family:Arial,Helvetica Neue,Helvetica,sans-serif; font-size:41px; text-anchor:middle;\" transform=\"rotate(0, 1617.61, 163.116)\" x=\"1617.61\" y=\"163.116\">SK 1</text>\n",
       "</g>\n",
       "<g clip-path=\"url(#clip910)\">\n",
       "<text style=\"fill:#000000; fill-opacity:1; font-family:Arial,Helvetica Neue,Helvetica,sans-serif; font-size:41px; text-anchor:middle;\" transform=\"rotate(0, 1637.75, 228.682)\" x=\"1637.75\" y=\"228.682\">SK 2</text>\n",
       "</g>\n",
       "</svg>\n"
      ]
     },
     "execution_count": 59,
     "metadata": {},
     "output_type": "execute_result"
    }
   ],
   "source": [
    "using Colors\n",
    "default_color = palette(:auto)[1]\n",
    "colours = [:royalblue, 1, 2, :firebrick, RGBA(red(default_color) * 0.8, green(default_color) * 0.8, blue(default_color) * 0.8, 1.0), RGBA(65/255 * 0.8, 105/255 * 0.8, 225/255 * 0.8, 1.0)]  \n",
    "bottom_margin = 10 * Plots.PlotMeasures.mm\n",
    "\n",
    "plot([2015, 2015], [0.79, 0.85], color=:black, xlabel=\"year\", ylabel=\"reproduction number\", label=\"\", ylim=(0,1.7), title=\"\", size=(600,300), bottom_margin=bottom_margin)\n",
    "scatter!([2015], [0.82], color=:black, marker=:black, markersize=4, markerstrokewidth=0, label=nothing)\n",
    "plot!([2013, 2017], [0.82, 0.82], color=:black, label=nothing)\n",
    "annotate!(2015, 0.7, text(\"Tshuapa\", \"Helvetica\", :black, 7))\n",
    "\n",
    "plot!(years, R₀, color=colours[2], label=\"clade Ia (DRC)\")\n",
    "plot!([2024, 2030], [sR₀_kivu[4], sR₀_kivu[5]], label=\"clade Ib (DRC)\", color=colours[1])\n",
    "plot!(years, R₀_burundi, label=\"clade Ia (Burundi)\", color=colours[3])\n",
    "plot!([2024, 2030], [sR₀_burundi[4], sR₀_burundi[5]], label=\"clade Ib (Burundi)\", color=colours[4])\n",
    "\n",
    "plot!([2023.1, 2023.1], [0.78, 0.93], color=colours[5], label=nothing)\n",
    "scatter!([2023.1], [0.85], marker=:circle, color=colours[5], markersize=4, markerstrokewidth=0, label=nothing)\n",
    "plot!([2023.3, 2023.3], [0.76, 0.91], color=colours[5], label=nothing)\n",
    "scatter!([2023.3], [0.83], marker=:circle, markercolor=:white, markerstrokecolor= colours[5], markersize=4, markerstrokewidth=1, label=nothing)\n",
    "annotate!(2022.1, 0.83, text(\"pre-Ib 1\", \"Helvetica\", :black, 7), fontfamily=\"Helvetica\")\n",
    "annotate!(2024.3, 0.81, text(\"pre-Ib 2\", \"Helvetica\", :black, 7), fontfamily=\"Helvetica\")\n",
    "\n",
    "plot!([2024.1, 2024.1], [1.46, 1.55], color=colours[6], label=nothing)\n",
    "scatter!([2024.1], [1.50], color=colours[6], marker=:circle, markersize=4, markerstrokewidth=0, label=nothing)\n",
    "plot!([2024.3, 2024.3], [1.33, 1.41], color=colours[6], label=nothing)\n",
    "scatter!([2024.3], [1.37], marker=:circle, markersize=4, markercolor=:white, markerstrokewidth=1, markerstrokecolor=colours[6], label=nothing)\n",
    "annotate!(2023.3, 1.50, text(\"SK 1\", \"Helvetica\", :black, 7))\n",
    "annotate!(2023.5, 1.37, text(\"SK 2\", \"Helvetica\",:black, 7))\n",
    "\n",
    "hline!([1], color=RGBA(0.5, 0.5, 0.5, 0.5), linestyle=:dash, label=\"\")"
   ]
  }
 ],
 "metadata": {
  "jupytext": {
   "encoding": "# -*- coding: utf-8 -*-",
   "formats": "ipynb,jl:light"
  },
  "kernelspec": {
   "display_name": "Julia 1.8.3",
   "language": "julia",
   "name": "julia-1.8"
  },
  "language_info": {
   "file_extension": ".jl",
   "mimetype": "application/julia",
   "name": "julia",
   "version": "1.8.3"
  }
 },
 "nbformat": 4,
 "nbformat_minor": 5
}
