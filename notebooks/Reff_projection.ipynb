{
 "cells": [
  {
   "cell_type": "code",
   "execution_count": 1,
   "id": "0ec40385",
   "metadata": {},
   "outputs": [
    {
     "name": "stderr",
     "output_type": "stream",
     "text": [
      "\u001b[32m\u001b[1m  Activating\u001b[22m\u001b[39m project at `~/work`\n"
     ]
    }
   ],
   "source": [
    "using Pkg\n",
    "Pkg.activate(\"../\")"
   ]
  },
  {
   "cell_type": "code",
   "execution_count": 1,
   "id": "30a44804",
   "metadata": {
    "scrolled": true
   },
   "outputs": [],
   "source": [
    "#Pkg.instantiate()"
   ]
  },
  {
   "cell_type": "code",
   "execution_count": 2,
   "id": "e2aa3e63",
   "metadata": {
    "scrolled": true
   },
   "outputs": [
    {
     "name": "stderr",
     "output_type": "stream",
     "text": [
      "\u001b[33m\u001b[1m┌ \u001b[22m\u001b[39m\u001b[33m\u001b[1mWarning: \u001b[22m\u001b[39mRCall.jl: Warning in (function (pop, age.limits, pop.age.column = \"lower.age.limit\",  :\n",
      "\u001b[33m\u001b[1m│ \u001b[22m\u001b[39m  Not all age groups represented in population data (5-year age band).\n",
      "\u001b[33m\u001b[1m│ \u001b[22m\u001b[39m  Linearly estimating age group sizes from the 5-year bands.\n",
      "\u001b[33m\u001b[1m└ \u001b[22m\u001b[39m\u001b[90m@ RCall /opt/julia/packages/RCall/0ggIQ/src/io.jl:172\u001b[39m\n",
      "\u001b[33m\u001b[1m┌ \u001b[22m\u001b[39m\u001b[33m\u001b[1mWarning: \u001b[22m\u001b[39mRCall.jl: Warning in (function (pop, age.limits, pop.age.column = \"lower.age.limit\",  :\n",
      "\u001b[33m\u001b[1m│ \u001b[22m\u001b[39m  Not all age groups represented in population data (5-year age band).\n",
      "\u001b[33m\u001b[1m│ \u001b[22m\u001b[39m  Linearly estimating age group sizes from the 5-year bands.\n",
      "\u001b[33m\u001b[1m└ \u001b[22m\u001b[39m\u001b[90m@ RCall /opt/julia/packages/RCall/0ggIQ/src/io.jl:172\u001b[39m\n",
      "\u001b[33m\u001b[1m┌ \u001b[22m\u001b[39m\u001b[33m\u001b[1mWarning: \u001b[22m\u001b[39mRCall.jl: Warning in (function (pop, age.limits, pop.age.column = \"lower.age.limit\",  :\n",
      "\u001b[33m\u001b[1m│ \u001b[22m\u001b[39m  Not all age groups represented in population data (5-year age band).\n",
      "\u001b[33m\u001b[1m│ \u001b[22m\u001b[39m  Linearly estimating age group sizes from the 5-year bands.\n",
      "\u001b[33m\u001b[1m└ \u001b[22m\u001b[39m\u001b[90m@ RCall /opt/julia/packages/RCall/0ggIQ/src/io.jl:172\u001b[39m\n",
      "\u001b[33m\u001b[1m┌ \u001b[22m\u001b[39m\u001b[33m\u001b[1mWarning: \u001b[22m\u001b[39mRCall.jl: Warning in (function (pop, age.limits, pop.age.column = \"lower.age.limit\",  :\n",
      "\u001b[33m\u001b[1m│ \u001b[22m\u001b[39m  Not all age groups represented in population data (5-year age band).\n",
      "\u001b[33m\u001b[1m│ \u001b[22m\u001b[39m  Linearly estimating age group sizes from the 5-year bands.\n",
      "\u001b[33m\u001b[1m└ \u001b[22m\u001b[39m\u001b[90m@ RCall /opt/julia/packages/RCall/0ggIQ/src/io.jl:172\u001b[39m\n",
      "\u001b[33m\u001b[1m┌ \u001b[22m\u001b[39m\u001b[33m\u001b[1mWarning: \u001b[22m\u001b[39mRCall.jl: Warning in (function (pop, age.limits, pop.age.column = \"lower.age.limit\",  :\n",
      "\u001b[33m\u001b[1m│ \u001b[22m\u001b[39m  Not all age groups represented in population data (5-year age band).\n",
      "\u001b[33m\u001b[1m│ \u001b[22m\u001b[39m  Linearly estimating age group sizes from the 5-year bands.\n",
      "\u001b[33m\u001b[1m└ \u001b[22m\u001b[39m\u001b[90m@ RCall /opt/julia/packages/RCall/0ggIQ/src/io.jl:172\u001b[39m\n",
      "\u001b[33m\u001b[1m┌ \u001b[22m\u001b[39m\u001b[33m\u001b[1mWarning: \u001b[22m\u001b[39mRCall.jl: Loading required package: surveillance\n",
      "\u001b[33m\u001b[1m│ \u001b[22m\u001b[39mLoading required package: sp\n",
      "\u001b[33m\u001b[1m│ \u001b[22m\u001b[39mLoading required package: xtable\n",
      "\u001b[33m\u001b[1m│ \u001b[22m\u001b[39mThis is surveillance 1.24.1; see ‘package?surveillance’ or\n",
      "\u001b[33m\u001b[1m│ \u001b[22m\u001b[39mhttps://surveillance.R-Forge.R-project.org/ for an overview.\n",
      "\u001b[33m\u001b[1m└ \u001b[22m\u001b[39m\u001b[90m@ RCall /opt/julia/packages/RCall/0ggIQ/src/io.jl:172\u001b[39m\n",
      "\u001b[33m\u001b[1m┌ \u001b[22m\u001b[39m\u001b[33m\u001b[1mWarning: \u001b[22m\u001b[39mRCall.jl: Warning in (function (pop, age.limits, pop.age.column = \"lower.age.limit\",  :\n",
      "\u001b[33m\u001b[1m│ \u001b[22m\u001b[39m  Not all age groups represented in population data (5-year age band).\n",
      "\u001b[33m\u001b[1m│ \u001b[22m\u001b[39m  Linearly estimating age group sizes from the 5-year bands.\n",
      "\u001b[33m\u001b[1m└ \u001b[22m\u001b[39m\u001b[90m@ RCall /opt/julia/packages/RCall/0ggIQ/src/io.jl:172\u001b[39m\n"
     ]
    },
    {
     "data": {
      "text/plain": [
       "vaccineRmap (generic function with 1 method)"
      ]
     },
     "execution_count": 2,
     "metadata": {},
     "output_type": "execute_result"
    }
   ],
   "source": [
    "# load functions\n",
    "include(\"../src/eigen.jl\");\n",
    "include(\"../src/eigen_setup.jl\");\n",
    "include(\"../src/eigen_output.jl\")"
   ]
  },
  {
   "cell_type": "code",
   "execution_count": 3,
   "id": "cf02e62b",
   "metadata": {
    "scrolled": true
   },
   "outputs": [
    {
     "data": {
      "text/plain": [
       "Plots.GRBackend()"
      ]
     },
     "execution_count": 3,
     "metadata": {},
     "output_type": "execute_result"
    }
   ],
   "source": [
    "gr(fontfamily=\"Helvetica\",foreground_color_legend = nothing,background_color_legend = nothing, titlefontsize=11, tickfontsize=10, legendfontsize=8,labelfontsize=10,grid=true, tick_direction=:out,size=(400,300))"
   ]
  },
  {
   "cell_type": "code",
   "execution_count": 4,
   "id": "df7928ef",
   "metadata": {},
   "outputs": [
    {
     "name": "stdout",
     "output_type": "stream",
     "text": [
      "  1.361584 seconds (2.81 M allocations: 182.518 MiB, 8.57% gc time, 99.27% compilation time)\n",
      "  0.004844 seconds (23.18 k allocations: 4.532 MiB)\n",
      "  0.005056 seconds (21.81 k allocations: 4.260 MiB)\n",
      "  0.003967 seconds (21.12 k allocations: 4.124 MiB)\n",
      "  0.072189 seconds (150.91 k allocations: 12.856 MiB, 92.53% compilation time)\n",
      "  0.010406 seconds (25.34 k allocations: 4.994 MiB)\n"
     ]
    }
   ],
   "source": [
    "endemicplot = plot(plot(drc_endemic_ag),ylim=(0,0.35),xtickfontsize=9)\n",
    "tshuapaplot = plot(tshuapa_h2hag,color=:black)\n",
    "endemic2015_24_fit = output_fit(\n",
    "    [tshuapa_h2hag,drc_endemic_ag];\n",
    "    zmb_skeleton = [zmb2015,zmb2024],\n",
    "    drc_skeleton = [drc2015,drc2024],\n",
    "    dataplots = [tshuapaplot,endemicplot], bayesian=true\n",
    "    );\n",
    "\n",
    "zmb2015_24_fit = endemic2015_24_fit.zmb_fit\n",
    "drc2015_24_fit = endemic2015_24_fit.drc_fit;"
   ]
  },
  {
   "cell_type": "code",
   "execution_count": 5,
   "id": "f03d9179",
   "metadata": {},
   "outputs": [
    {
     "data": {
      "text/plain": [
       "bdi_matrices (generic function with 2 methods)"
      ]
     },
     "execution_count": 5,
     "metadata": {},
     "output_type": "execute_result"
    }
   ],
   "source": [
    "# functions to create contact matrices for a given year\n",
    "filters = [nothing, (phys_contact=1,),(cnt_home=1,),(phys_contact=1,cnt_home=1)]\n",
    "drc_matrices(year,filters=filters) = @suppress (;zip([:all, :phys, :home, :physhome] ,getfield.(contactmatrix.(:zimbabwe_survey, Ref(drc_endemic_ag), \"COD\", filters,year=year,refyear=2012,refcountrycode=\"MAN\"),:matrix).|>first)...)\n",
    "bdi_matrices(year,filters=filters) = @suppress (;zip([:all, :phys, :home, :physhome] ,getfield.(contactmatrix.(:zimbabwe_survey, Ref(drc_endemic_ag), \"BDI\", filters,year=year,refyear=2012,refcountrycode=\"MAN\"),:matrix).|>first)...)\n",
    "# note: For 2024 census data use \"BDIC\" instead of \"BDI\". year has to be 2024, otherwise it will throw an error"
   ]
  },
  {
   "cell_type": "code",
   "execution_count": 8,
   "id": "2a8610a4",
   "metadata": {},
   "outputs": [],
   "source": [
    "# update community contact matrix\n",
    "kivuCMs = loadfit[\"kivu2024_fit\"][1] # vector of ContactMatrix [all, phys, home, physhome]\n",
    "for (cm, mat) in zip(kivuCMs, drc_matrices(2025))\n",
    "    # replace community contact elements of cm with mat.\n",
    "    # replacing [1,2] only will work ([1,4] is a shallow copy)\n",
    "    cm.matrix[1,2].=mat./2 # /2 because sex-specific\n",
    "end\n",
    "\n",
    "burundiCMs = loadfit[\"burundi2024_fit\"][1] # vector of ContactMatrix [all, phys, home, physhome]\n",
    "for (cm, mat) in zip(burundiCMs, bdi_matrices(2025))\n",
    "    # replace community contact elements of cm with mat.\n",
    "    # replacing [1,2] only will work ([1,4] is a shallow copy)\n",
    "    cm.matrix[1,2].=mat./2 # /2 because sex-specific\n",
    "end"
   ]
  },
  {
   "cell_type": "code",
   "execution_count": 8,
   "id": "20ec4ef6",
   "metadata": {},
   "outputs": [
    {
     "data": {
      "text/plain": [
       "4-element Vector{Vector{Float64}}:\n",
       " [12.200450806134144, 12.483842998839924, 12.562526384426675, 12.051398822117834, 12.797356806818295, 13.17030595440268, 11.979567587925496, 12.868770226965804, 12.895615045675733, 12.913114961515994  …  12.349913320017958, 12.82784330354122, 12.889181875299712, 12.51290769103417, 12.977159466072777, 12.679885256217238, 12.513118471711193, 12.941365233050494, 12.741976352322636, 12.585680847272048]\n",
       " [7.853849169065551, 7.821588589702614, 7.843064040575253, 7.908730533853231, 7.790556584155879, 8.01689253168097, 8.14236553038803, 7.693766506135208, 7.752234743662709, 7.698968101640018  …  7.7438222466894, 7.698633924748869, 7.572415658219899, 7.691929626261967, 7.712479518898675, 7.852310303143601, 8.257310733713465, 7.886992193792019, 7.954248240729209, 7.661943047531171]\n",
       " [6.1094563758274925, 6.193861272220938, 6.1097627729661195, 6.027109468956575, 5.948265394334302, 5.868655193204824, 5.963916750553004, 5.818535093255807, 6.107058238967066, 6.011122112937951  …  6.154838648624695, 6.005654752613948, 6.036287572470105, 6.069232637614812, 6.129236687864449, 6.065621584650582, 5.886298315097836, 6.106302288460039, 6.0499399120892745, 6.072178631252509]\n",
       " [3.790987888151267, 4.0772838935703, 4.070998931963729, 3.91669080516844, 4.066784498634487, 3.9245204244535454, 4.141790089099961, 4.010453917164795, 3.934531357917519, 3.959733074265426  …  4.004860855575974, 4.145410031050502, 4.003592380224494, 3.896540612390235, 4.080500769481117, 4.215757625542606, 4.002466436833068, 4.033309212329026, 4.114774392858544, 4.108186691944934]"
      ]
     },
     "execution_count": 8,
     "metadata": {},
     "output_type": "execute_result"
    }
   ],
   "source": [
    "kivu_eigvals = MCMCiterate.(Ref(dominanteigval), kivuCMs|>collect)\n",
    "burundi_eigvals = MCMCiterate.(Ref(dominanteigval), burundiCMs|>collect)"
   ]
  },
  {
   "cell_type": "code",
   "execution_count": 9,
   "id": "ee75817c",
   "metadata": {},
   "outputs": [
    {
     "data": {
      "text/plain": [
       "dominanteigval_nosexual (generic function with 1 method)"
      ]
     },
     "execution_count": 9,
     "metadata": {},
     "output_type": "execute_result"
    }
   ],
   "source": [
    "kivuCMs_nosexual = deepcopy(zmb2015_24_fit)\n",
    "for (cm, mat) in zip(kivuCMs_nosexual, drc_matrices(2025))\n",
    "    # replace community contact elements of cm with mat.\n",
    "    cm[2].matrix[1].=mat\n",
    "end\n",
    "burundiCMs_nosexual = deepcopy(zmb2015_24_fit)\n",
    "for (cm, mat) in zip(burundiCMs_nosexual, bdi_matrices(2025))\n",
    "    # replace community contact elements of cm with mat.\n",
    "    cm[2].matrix[1].=mat\n",
    "end\n",
    "function dominanteigval_nosexual(cm)\n",
    "    cm.addmat.=zero(cm.addmat)\n",
    "    dominanteigval(cm)\n",
    "end"
   ]
  },
  {
   "cell_type": "markdown",
   "id": "cd7d3657-1c0f-4cc3-8ff7-d07bf4e052fc",
   "metadata": {},
   "source": [
    "### Analysis"
   ]
  },
  {
   "cell_type": "code",
   "execution_count": 6,
   "id": "8cfb80bf-2b98-4db9-9cbd-98974bdee659",
   "metadata": {
    "scrolled": true
   },
   "outputs": [
    {
     "data": {
      "text/plain": [
       "4-element Vector{ContactMatrix}:\n",
       " ContactMatrix([[1.1392286446615998 1.047832991652372 … 0.520385586404576 0.5919359371767211; 1.2577926736537455 2.973874127066551 … 0.5644259772697625 0.7875529755694282; … ; 1.2349977221780613 1.1159144435737889 … 1.3627726689781874 1.3642167974198731; 1.557781951351351 1.7266119594107041 … 1.5127754064431822 2.7448258889559476];;], [0, 5, 10, 15, 20, 30, 40, 50], [[fill(1.8654573410325797), fill(1.0), fill(1.0), fill(1.0), fill(1.0), fill(1.0), fill(0.6747078693629743), fill(0.2685993947361713)]], Dict(:s_infant => fill(1.8654573410325797), :s_vax => fill(0.2685993947361713), :s_baseline => fill(1.0), :s_partvax => fill(0.6747078693629743)), [[0.0 0.0 … 0.0 0.0; 0.0 0.0 … 0.0 0.0; … ; 0.0 0.0 … 0.0 0.0; 0.0 0.0 … 0.0 0.0];;], Dict{Symbol, Any}(:partcov => 0.4447523399569614, :opt => (med = [1.8654573410325797, 0.2685993947361713], ld = [-36.68541987382036, -36.20943608066845, -35.97235936660286, -36.88182496725485, -35.73426740501496, -36.58321663497356, -35.766502941210064, -36.82628823934081, -36.80745138952214, -37.90878841313149  …  -35.70304238419793, -39.002602028386946, -36.275546932417335, -36.47337062213246, -36.305937643051166, -36.34678667014121, -36.747942939466796, -36.562109583495534, -36.481458321103005, -36.177807551435166], chain = MCMC chain (2000×2×1 Array{Float64, 3}), nll = NLLs{Pyramid{Vector{Vector{Int64}}, Symbol, String}, ContactMatrix}(Pyramid{Vector{Vector{Int64}}, Symbol, String}[Pyramid{Vector{Vector{Int64}}, Symbol, String}([[66, 52, 75, 51, 20, 15]], :maleh2hfemaleh2h, [0, 5, 10, 20, 30, 40], \"Observed cases (confirmed)\", Dict{Symbol, Any}()), Pyramid{Vector{Vector{Int64}}, Symbol, String}([[100, 64, 56, 56, 94, 65, 36, 11]], :malefemale, [0, 5, 10, 15, 20, 30, 40, 50], \"Observed cases (confirmed)\", Dict{Symbol, Any}())], ContactMatrix[ContactMatrix([[1.1675330003512827 1.009057756162624 … 0.9088059943160973 1.1409011167553027; 1.2685322023030055 2.87720054451714 … 0.8951279986862782 1.4181832224580169; … ; 1.3633024853661075 1.068121639442514 … 2.2995984287972044 2.811018059389811; 1.4297852292767304 1.4137404123841935 … 2.348363886626397 3.781862579559743];;], [0, 5, 10, 20, 30, 40], [[fill(1.8654573410325797), fill(1.0), fill(1.0), fill(1.0), fill(0.589096197868579), fill(0.2685993947361713)]], Dict(:s_infant => fill(1.8654573410325797), :s_vax => fill(0.2685993947361713), :s_baseline => fill(1.0), :s_partvax => fill(0.589096197868579)), [[0.0 0.0 … 0.0 0.0; 0.0 0.0 … 0.0 0.0; … ; 0.0 0.0 … 0.0 0.0; 0.0 0.0 … 0.0 0.0];;], Dict{Symbol, Any}(:partcov => 0.5618040225482189, :opt => (med = [1.8654573410325797, 0.2685993947361713], ld = [-36.68541987382036, -36.20943608066845, -35.97235936660286, -36.88182496725485, -35.73426740501496, -36.58321663497356, -35.766502941210064, -36.82628823934081, -36.80745138952214, -37.90878841313149  …  -35.70304238419793, -39.002602028386946, -36.275546932417335, -36.47337062213246, -36.305937643051166, -36.34678667014121, -36.747942939466796, -36.562109583495534, -36.481458321103005, -36.177807551435166], chain = MCMC chain (2000×2×1 Array{Float64, 3}), nll = NLLs{Pyramid{Vector{Vector{Int64}}, Symbol, String}, ContactMatrix}(#= circular reference @-4 =#)), :issynthetic => false)), ContactMatrix(#= circular reference @-4 =#)], [fill(1.8654573410325797), fill(0.2685993947361713)], voidmodifier, 10000.0, [:s_infant, :s_vax, :s_partvax])), :issynthetic => false))\n",
       " ContactMatrix([[0.7381107621294102 0.7576819194573744 … 0.3564980543128181 0.37681326496158174; 0.9095025398566199 2.112740272582987 … 0.36148991260855423 0.4372816712786926; … ; 0.8460539579490738 0.7146939207819537 … 0.9561399506667905 0.9064051029833435; 0.9916493767663934 0.9586856842423688 … 1.005109562249279 1.8419303966989256];;], [0, 5, 10, 15, 20, 30, 40, 50], [[fill(1.647722762362485), fill(1.0), fill(1.0), fill(1.0), fill(1.0), fill(1.0), fill(0.687391037146977), fill(0.2971167664159472)]], Dict(:s_infant => fill(1.647722762362485), :s_vax => fill(0.2971167664159472), :s_baseline => fill(1.0), :s_partvax => fill(0.687391037146977)), [[0.0 0.0 … 0.0 0.0; 0.0 0.0 … 0.0 0.0; … ; 0.0 0.0 … 0.0 0.0; 0.0 0.0 … 0.0 0.0];;], Dict{Symbol, Any}(:partcov => 0.4447523399569614, :opt => (med = [1.647722762362485, 0.2971167664159472], ld = [-36.10930558241658, -36.16307624797574, -41.764875232411825, -36.85360047583148, -37.51550711150515, -36.114909147631835, -37.889822820001946, -35.76143156989206, -35.67234938125298, -36.36413284863067  …  -35.642276706976496, -38.85724967441784, -37.777945669148856, -37.4180521541018, -36.19268675940388, -36.010623006891315, -36.06023850828551, -37.5984999491143, -35.87387037585614, -35.616385131554246], chain = MCMC chain (2000×2×1 Array{Float64, 3}), nll = NLLs{Pyramid{Vector{Vector{Int64}}, Symbol, String}, ContactMatrix}(Pyramid{Vector{Vector{Int64}}, Symbol, String}[Pyramid{Vector{Vector{Int64}}, Symbol, String}([[66, 52, 75, 51, 20, 15]], :maleh2hfemaleh2h, [0, 5, 10, 20, 30, 40], \"Observed cases (confirmed)\", Dict{Symbol, Any}()), Pyramid{Vector{Vector{Int64}}, Symbol, String}([[100, 64, 56, 56, 94, 65, 36, 11]], :malefemale, [0, 5, 10, 15, 20, 30, 40, 50], \"Observed cases (confirmed)\", Dict{Symbol, Any}())], ContactMatrix[ContactMatrix([[0.7564492665618542 0.7423261727147014 … 0.6239260869458503 0.7678007157521543; 0.9332118493217139 2.0589810398360604 … 0.5243091349410143 0.8370210713853414; … ; 0.9359533171412772 0.6256378234283774 … 1.3358510792990086 1.6206121702859164; 0.9622132069890705 0.8343988956403006 … 1.3538821218931618 2.5109980277597863];;], [0, 5, 10, 20, 30, 40], [[fill(1.647722762362485), fill(1.0), fill(1.0), fill(1.0), fill(0.6051173719907798), fill(0.2971167664159472)]], Dict(:s_infant => fill(1.647722762362485), :s_vax => fill(0.2971167664159472), :s_baseline => fill(1.0), :s_partvax => fill(0.6051173719907798)), [[0.0 0.0 … 0.0 0.0; 0.0 0.0 … 0.0 0.0; … ; 0.0 0.0 … 0.0 0.0; 0.0 0.0 … 0.0 0.0];;], Dict{Symbol, Any}(:partcov => 0.5618040225482189, :opt => (med = [1.647722762362485, 0.2971167664159472], ld = [-36.10930558241658, -36.16307624797574, -41.764875232411825, -36.85360047583148, -37.51550711150515, -36.114909147631835, -37.889822820001946, -35.76143156989206, -35.67234938125298, -36.36413284863067  …  -35.642276706976496, -38.85724967441784, -37.777945669148856, -37.4180521541018, -36.19268675940388, -36.010623006891315, -36.06023850828551, -37.5984999491143, -35.87387037585614, -35.616385131554246], chain = MCMC chain (2000×2×1 Array{Float64, 3}), nll = NLLs{Pyramid{Vector{Vector{Int64}}, Symbol, String}, ContactMatrix}(#= circular reference @-4 =#)), :issynthetic => false)), ContactMatrix(#= circular reference @-4 =#)], [fill(1.647722762362485), fill(0.2971167664159472)], voidmodifier, 10000.0, [:s_infant, :s_vax, :s_partvax])), :issynthetic => false))\n",
       " ContactMatrix([[0.589116490283122 0.7088145684050297 … 0.32947608563649805 0.38165666398234305; 0.8508433865142745 0.7923921362346114 … 0.35739602949295624 0.5073792548541226; … ; 0.7819244535279481 0.7065999926443844 … 0.663016754112008 0.5536263959500938; 1.0043956202428768 1.1123659189460964 … 0.6139144436097358 1.0532895518608525];;], [0, 5, 10, 15, 20, 30, 40, 50], [[fill(1.310200510480942), fill(1.0), fill(1.0), fill(1.0), fill(1.0), fill(1.0), fill(0.6550774882024064), fill(0.22446161423013145)]], Dict(:s_infant => fill(1.310200510480942), :s_vax => fill(0.22446161423013145), :s_baseline => fill(1.0), :s_partvax => fill(0.6550774882024064)), [[0.0 0.0 … 0.0 0.0; 0.0 0.0 … 0.0 0.0; … ; 0.0 0.0 … 0.0 0.0; 0.0 0.0 … 0.0 0.0];;], Dict{Symbol, Any}(:partcov => 0.4447523399569614, :opt => (med = [1.310200510480942, 0.22446161423013145], ld = [-36.93523429204789, -37.391407825375666, -38.73101714970288, -36.74678721089005, -37.4025927039307, -36.75988355575189, -38.97201327805072, -37.40254875280671, -38.74189698147785, -37.04751522302484  …  -37.65787681934457, -37.094286553328104, -37.40630667905083, -36.677239075819614, -37.57664895664996, -36.9459045899396, -36.732238231057, -36.531680148688245, -37.57725428383428, -36.68541129402954], chain = MCMC chain (2000×2×1 Array{Float64, 3}), nll = NLLs{Pyramid{Vector{Vector{Int64}}, Symbol, String}, ContactMatrix}(Pyramid{Vector{Vector{Int64}}, Symbol, String}[Pyramid{Vector{Vector{Int64}}, Symbol, String}([[66, 52, 75, 51, 20, 15]], :maleh2hfemaleh2h, [0, 5, 10, 20, 30, 40], \"Observed cases (confirmed)\", Dict{Symbol, Any}()), Pyramid{Vector{Vector{Int64}}, Symbol, String}([[100, 64, 56, 56, 94, 65, 36, 11]], :malefemale, [0, 5, 10, 15, 20, 30, 40, 50], \"Observed cases (confirmed)\", Dict{Symbol, Any}())], ContactMatrix[ContactMatrix([[0.603753203257087 0.696249946402376 … 0.6219023866632302 0.7543946573570475; 0.8752873385780833 0.809120774423786 … 0.6342628387939733 0.9263354882911734; … ; 0.9329175585281221 0.7568413279490314 … 0.99197360476925 1.2213656024704531; 0.9454126411953776 0.9234335130217247 … 1.0203459432174224 1.5515365236038163];;], [0, 5, 10, 20, 30, 40], [[fill(1.310200510480942), fill(1.0), fill(1.0), fill(1.0), fill(0.5642994152339355), fill(0.22446161423013145)]], Dict(:s_infant => fill(1.310200510480942), :s_vax => fill(0.22446161423013145), :s_baseline => fill(1.0), :s_partvax => fill(0.5642994152339355)), [[0.0 0.0 … 0.0 0.0; 0.0 0.0 … 0.0 0.0; … ; 0.0 0.0 … 0.0 0.0; 0.0 0.0 … 0.0 0.0];;], Dict{Symbol, Any}(:partcov => 0.5618040225482189, :opt => (med = [1.310200510480942, 0.22446161423013145], ld = [-36.93523429204789, -37.391407825375666, -38.73101714970288, -36.74678721089005, -37.4025927039307, -36.75988355575189, -38.97201327805072, -37.40254875280671, -38.74189698147785, -37.04751522302484  …  -37.65787681934457, -37.094286553328104, -37.40630667905083, -36.677239075819614, -37.57664895664996, -36.9459045899396, -36.732238231057, -36.531680148688245, -37.57725428383428, -36.68541129402954], chain = MCMC chain (2000×2×1 Array{Float64, 3}), nll = NLLs{Pyramid{Vector{Vector{Int64}}, Symbol, String}, ContactMatrix}(#= circular reference @-4 =#)), :issynthetic => false)), ContactMatrix(#= circular reference @-4 =#)], [fill(1.310200510480942), fill(0.22446161423013145)], voidmodifier, 10000.0, [:s_infant, :s_vax, :s_partvax])), :issynthetic => false))\n",
       " ContactMatrix([[0.42737683427538686 0.5662164307259648 … 0.24957454529588097 0.2676694148621284; 0.6796721270881352 0.5568957319017278 … 0.2601352546167951 0.33078612657188455; … ; 0.5922992546423227 0.5143078093496144 … 0.46394150534846673 0.3862015733421247; 0.7044184297878086 0.7252074461825317 … 0.4282576223856707 0.772148355687467];;], [0, 5, 10, 15, 20, 30, 40, 50], [[fill(1.1585406881007763), fill(1.0), fill(1.0), fill(1.0), fill(1.0), fill(1.0), fill(0.6652086042599621), fill(0.24724084470823554)]], Dict(:s_infant => fill(1.1585406881007763), :s_vax => fill(0.24724084470823554), :s_baseline => fill(1.0), :s_partvax => fill(0.6652086042599621)), [[0.0 0.0 … 0.0 0.0; 0.0 0.0 … 0.0 0.0; … ; 0.0 0.0 … 0.0 0.0; 0.0 0.0 … 0.0 0.0];;], Dict{Symbol, Any}(:partcov => 0.4447523399569614, :opt => (med = [1.1585406881007763, 0.24724084470823554], ld = [-38.14544104879187, -38.88108741386499, -41.5705114341681, -41.36004180024007, -37.56623099786484, -38.83424650887971, -37.773886377277385, -37.78287926366678, -41.2440804035688, -38.36037176935796  …  -37.63459921542488, -38.61052889005059, -38.99463702733259, -39.35828829536117, -38.606541015265165, -37.865097261759836, -38.22325723457159, -38.6090407871581, -39.86285979936799, -38.472251488512434], chain = MCMC chain (2000×2×1 Array{Float64, 3}), nll = NLLs{Pyramid{Vector{Vector{Int64}}, Symbol, String}, ContactMatrix}(Pyramid{Vector{Vector{Int64}}, Symbol, String}[Pyramid{Vector{Vector{Int64}}, Symbol, String}([[66, 52, 75, 51, 20, 15]], :maleh2hfemaleh2h, [0, 5, 10, 20, 30, 40], \"Observed cases (confirmed)\", Dict{Symbol, Any}()), Pyramid{Vector{Vector{Int64}}, Symbol, String}([[100, 64, 56, 56, 94, 65, 36, 11]], :malefemale, [0, 5, 10, 15, 20, 30, 40, 50], \"Observed cases (confirmed)\", Dict{Symbol, Any}())], ContactMatrix[ContactMatrix([[0.437995094259935 0.5453464087578216 … 0.468999828360479 0.5318133000765201; 0.6855796674616736 0.556137453341612 … 0.3959945736738886 0.607119553617898; … ; 0.7035479911433434 0.47252501749879305 … 0.7484566187609142 0.7509990609195938; 0.6664721333123262 0.605217601298822 … 0.6273951416508301 1.1542024525447567];;], [0, 5, 10, 20, 30, 40], [[fill(1.1585406881007763), fill(1.0), fill(1.0), fill(1.0), fill(0.5770968785470874), fill(0.24724084470823554)]], Dict(:s_infant => fill(1.1585406881007763), :s_vax => fill(0.24724084470823554), :s_baseline => fill(1.0), :s_partvax => fill(0.5770968785470874)), [[0.0 0.0 … 0.0 0.0; 0.0 0.0 … 0.0 0.0; … ; 0.0 0.0 … 0.0 0.0; 0.0 0.0 … 0.0 0.0];;], Dict{Symbol, Any}(:partcov => 0.5618040225482189, :opt => (med = [1.1585406881007763, 0.24724084470823554], ld = [-38.14544104879187, -38.88108741386499, -41.5705114341681, -41.36004180024007, -37.56623099786484, -38.83424650887971, -37.773886377277385, -37.78287926366678, -41.2440804035688, -38.36037176935796  …  -37.63459921542488, -38.61052889005059, -38.99463702733259, -39.35828829536117, -38.606541015265165, -37.865097261759836, -38.22325723457159, -38.6090407871581, -39.86285979936799, -38.472251488512434], chain = MCMC chain (2000×2×1 Array{Float64, 3}), nll = NLLs{Pyramid{Vector{Vector{Int64}}, Symbol, String}, ContactMatrix}(#= circular reference @-4 =#)), :issynthetic => false)), ContactMatrix(#= circular reference @-4 =#)], [fill(1.1585406881007763), fill(0.24724084470823554)], voidmodifier, 10000.0, [:s_infant, :s_vax, :s_partvax])), :issynthetic => false))"
      ]
     },
     "execution_count": 6,
     "metadata": {},
     "output_type": "execute_result"
    }
   ],
   "source": [
    "loadfit = load(\"../outputs/sexualfit_main.jld2\")\n",
    "kivu_chain_sex = collect(values(loadfit[\"kivu2024_fit\"][1]))\n",
    "burundi_chain_sex = collect(values(loadfit[\"burundi2024_fit\"][1]))\n",
    "zmb_fit = zmb2015_24_fit\n",
    "kivu_chain_nosex = [zmb_fit.all[2], zmb_fit.phys[2], zmb_fit.home[2], zmb_fit.physhome[2]]\n",
    "burundi_chain_nosex = deepcopy(kivu_chain_nosex)"
   ]
  },
  {
   "cell_type": "code",
   "execution_count": 7,
   "id": "b52a7ea8-357a-49d3-824f-6d8218b8606e",
   "metadata": {},
   "outputs": [
    {
     "name": "stdout",
     "output_type": "stream",
     "text": [
      "\n",
      "β  = 0.1414 (2015 non-sexual Kivu Reff = 0.82)\n",
      "\n",
      "--- Kivu non-sexual Reff (Ia) ---\n",
      "2010 : 0.768 (95% CrI 0.747–0.792)\n",
      "2015 : 0.820 (95% CrI 0.801–0.841)\n",
      "2020 : 0.866 (95% CrI 0.849–0.885)\n",
      "2024 : 0.900 (95% CrI 0.884–0.917)\n",
      "2030 : 0.932 (95% CrI 0.918–0.948)\n",
      "\n",
      "--- Kivu total Reff (Ib) ---\n",
      "2010 : 1.105 (95% CrI 1.062–1.151)\n",
      "2015 : 1.264 (95% CrI 1.215–1.317)\n",
      "2020 : 1.392 (95% CrI 1.338–1.450)\n",
      "2024 : 1.497 (95% CrI 1.440–1.560)\n",
      "2030 : 1.583 (95% CrI 1.522–1.649)\n",
      "\n",
      "--- Burundi non-sexual Reff (Ia) ---\n",
      "2010 : 0.786 (95% CrI 0.765–0.808)\n",
      "2015 : 0.833 (95% CrI 0.814–0.854)\n",
      "2020 : 0.885 (95% CrI 0.870–0.903)\n",
      "2024 : 0.920 (95% CrI 0.906–0.935)\n",
      "2030 : 0.949 (95% CrI 0.937–0.963)\n",
      "\n",
      "--- Burundi total Reff (Ib) ---\n",
      "2010 : 0.833 (95% CrI 0.821–0.848)\n",
      "2015 : 0.927 (95% CrI 0.906–0.951)\n",
      "2020 : 1.009 (95% CrI 0.982–1.038)\n",
      "2024 : 1.082 (95% CrI 1.053–1.112)\n",
      "2030 : 1.137 (95% CrI 1.106–1.168)\n"
     ]
    }
   ],
   "source": [
    "include(\"../src/Reff_projection_utils.jl\");\n",
    "\n",
    "# compute eigenvalue\n",
    "nonsex_kivu = compute_reff(kivu_chain_nosex, drc_matrices; sexual=false)\n",
    "total_kivu = compute_reff(kivu_chain_sex, drc_matrices; sexual=true)\n",
    "nonsex_buri = compute_reff(burundi_chain_nosex, bdi_matrices; sexual=false)\n",
    "total_buri = compute_reff(burundi_chain_sex, bdi_matrices; sexual=true)\n",
    "\n",
    "# beta\n",
    "med2015 = quantile(nonsex_kivu[2015], 0.5)\n",
    "β = 0.82 / med2015\n",
    "@printf(\"\\nβ  = %.4f (2015 non-sexual Kivu Reff = 0.82)\\n\", β)\n",
    "\n",
    "# compute reff \n",
    "scaled_nonsex_kivu = Dict(yr => nonsex_kivu[yr] .* β for yr in keys(nonsex_kivu))\n",
    "scaled_total_kivu  = Dict(yr => total_kivu[yr]  .* β for yr in keys(total_kivu))\n",
    "scaled_nonsex_buri = Dict(yr => nonsex_buri[yr] .* β for yr in keys(nonsex_buri))\n",
    "scaled_total_buri  = Dict(yr => total_buri[yr]  .* β for yr in keys(total_buri))\n",
    "\n",
    "# output\n",
    "summarize(scaled_nonsex_kivu; name=\"Kivu non-sexual Reff (Ia)\")\n",
    "summarize(scaled_total_kivu;  name=\"Kivu total Reff (Ib)\")\n",
    "summarize(scaled_nonsex_buri; name=\"Burundi non-sexual Reff (Ia)\")\n",
    "summarize(scaled_total_buri;  name=\"Burundi total Reff (Ib)\")"
   ]
  },
  {
   "cell_type": "code",
   "execution_count": 10,
   "id": "a532b9ef-3864-47c4-92ac-e730013e2ba8",
   "metadata": {},
   "outputs": [
    {
     "data": {
      "image/png": "[encoded data removed]",
      "image/svg+xml": [
       "<?xml version=\"1.0\" encoding=\"utf-8\"?>\n",
       "<svg xmlns=\"http://www.w3.org/2000/svg\" xmlns:xlink=\"http://www.w3.org/1999/xlink\" width=\"600\" height=\"300\" viewBox=\"0 0 2400 1200\">\n",
       "<defs>\n",
       "  <clipPath id=\"clip730\">\n",
       "    <rect x=\"0\" y=\"0\" width=\"2400\" height=\"1200\"/>\n",
       "  </clipPath>\n",
       "</defs>\n",
       "<path clip-path=\"url(#clip730)\" d=\"M0 1200 L2400 1200 L2400 0 L0 0  Z\" fill=\"#ffffff\" fill-rule=\"evenodd\" fill-opacity=\"1\"/>\n",
       "<defs>\n",
       "  <clipPath id=\"clip731\">\n",
       "    <rect x=\"480\" y=\"0\" width=\"1681\" height=\"1200\"/>\n",
       "  </clipPath>\n",
       "</defs>\n",
       "<path clip-path=\"url(#clip730)\" d=\"M217.81 904.653 L2352.76 904.653 L2352.76 47.2441 L217.81 47.2441  Z\" fill=\"#ffffff\" fill-rule=\"evenodd\" fill-opacity=\"1\"/>\n",
       "<defs>\n",
       "  <clipPath id=\"clip732\">\n",
       "    <rect x=\"217\" y=\"47\" width=\"2136\" height=\"858\"/>\n",
       "  </clipPath>\n",
       "</defs>\n",
       "<polyline clip-path=\"url(#clip732)\" style=\"stroke:#000000; stroke-linecap:round; stroke-linejoin:round; stroke-width:2; stroke-opacity:0.1; fill:none\" points=\"278.233,904.653 278.233,47.2441 \"/>\n",
       "<polyline clip-path=\"url(#clip732)\" style=\"stroke:#000000; stroke-linecap:round; stroke-linejoin:round; stroke-width:2; stroke-opacity:0.1; fill:none\" points=\"781.758,904.653 781.758,47.2441 \"/>\n",
       "<polyline clip-path=\"url(#clip732)\" style=\"stroke:#000000; stroke-linecap:round; stroke-linejoin:round; stroke-width:2; stroke-opacity:0.1; fill:none\" points=\"1285.28,904.653 1285.28,47.2441 \"/>\n",
       "<polyline clip-path=\"url(#clip732)\" style=\"stroke:#000000; stroke-linecap:round; stroke-linejoin:round; stroke-width:2; stroke-opacity:0.1; fill:none\" points=\"1788.81,904.653 1788.81,47.2441 \"/>\n",
       "<polyline clip-path=\"url(#clip732)\" style=\"stroke:#000000; stroke-linecap:round; stroke-linejoin:round; stroke-width:2; stroke-opacity:0.1; fill:none\" points=\"2292.33,904.653 2292.33,47.2441 \"/>\n",
       "<polyline clip-path=\"url(#clip732)\" style=\"stroke:#000000; stroke-linecap:round; stroke-linejoin:round; stroke-width:2; stroke-opacity:0.1; fill:none\" points=\"217.81,904.653 2352.76,904.653 \"/>\n",
       "<polyline clip-path=\"url(#clip732)\" style=\"stroke:#000000; stroke-linecap:round; stroke-linejoin:round; stroke-width:2; stroke-opacity:0.1; fill:none\" points=\"217.81,652.474 2352.76,652.474 \"/>\n",
       "<polyline clip-path=\"url(#clip732)\" style=\"stroke:#000000; stroke-linecap:round; stroke-linejoin:round; stroke-width:2; stroke-opacity:0.1; fill:none\" points=\"217.81,400.295 2352.76,400.295 \"/>\n",
       "<polyline clip-path=\"url(#clip732)\" style=\"stroke:#000000; stroke-linecap:round; stroke-linejoin:round; stroke-width:2; stroke-opacity:0.1; fill:none\" points=\"217.81,148.116 2352.76,148.116 \"/>\n",
       "<polyline clip-path=\"url(#clip730)\" style=\"stroke:#000000; stroke-linecap:round; stroke-linejoin:round; stroke-width:4; stroke-opacity:1; fill:none\" points=\"217.81,904.653 2352.76,904.653 \"/>\n",
       "<polyline clip-path=\"url(#clip730)\" style=\"stroke:#000000; stroke-linecap:round; stroke-linejoin:round; stroke-width:4; stroke-opacity:1; fill:none\" points=\"278.233,904.653 278.233,923.551 \"/>\n",
       "<polyline clip-path=\"url(#clip730)\" style=\"stroke:#000000; stroke-linecap:round; stroke-linejoin:round; stroke-width:4; stroke-opacity:1; fill:none\" points=\"781.758,904.653 781.758,923.551 \"/>\n",
       "<polyline clip-path=\"url(#clip730)\" style=\"stroke:#000000; stroke-linecap:round; stroke-linejoin:round; stroke-width:4; stroke-opacity:1; fill:none\" points=\"1285.28,904.653 1285.28,923.551 \"/>\n",
       "<polyline clip-path=\"url(#clip730)\" style=\"stroke:#000000; stroke-linecap:round; stroke-linejoin:round; stroke-width:4; stroke-opacity:1; fill:none\" points=\"1788.81,904.653 1788.81,923.551 \"/>\n",
       "<polyline clip-path=\"url(#clip730)\" style=\"stroke:#000000; stroke-linecap:round; stroke-linejoin:round; stroke-width:4; stroke-opacity:1; fill:none\" points=\"2292.33,904.653 2292.33,923.551 \"/>\n",
       "<g clip-path=\"url(#clip730)\">\n",
       "<text style=\"fill:#000000; fill-opacity:1; font-family:Arial,Helvetica Neue,Helvetica,sans-serif; font-size:59px; text-anchor:middle;\" transform=\"rotate(0, 278.233, 986.39)\" x=\"278.233\" y=\"986.39\">2010</text>\n",
       "</g>\n",
       "<g clip-path=\"url(#clip730)\">\n",
       "<text style=\"fill:#000000; fill-opacity:1; font-family:Arial,Helvetica Neue,Helvetica,sans-serif; font-size:59px; text-anchor:middle;\" transform=\"rotate(0, 781.758, 986.39)\" x=\"781.758\" y=\"986.39\">2015</text>\n",
       "</g>\n",
       "<g clip-path=\"url(#clip730)\">\n",
       "<text style=\"fill:#000000; fill-opacity:1; font-family:Arial,Helvetica Neue,Helvetica,sans-serif; font-size:59px; text-anchor:middle;\" transform=\"rotate(0, 1285.28, 986.39)\" x=\"1285.28\" y=\"986.39\">2020</text>\n",
       "</g>\n",
       "<g clip-path=\"url(#clip730)\">\n",
       "<text style=\"fill:#000000; fill-opacity:1; font-family:Arial,Helvetica Neue,Helvetica,sans-serif; font-size:59px; text-anchor:middle;\" transform=\"rotate(0, 1788.81, 986.39)\" x=\"1788.81\" y=\"986.39\">2025</text>\n",
       "</g>\n",
       "<g clip-path=\"url(#clip730)\">\n",
       "<text style=\"fill:#000000; fill-opacity:1; font-family:Arial,Helvetica Neue,Helvetica,sans-serif; font-size:59px; text-anchor:middle;\" transform=\"rotate(0, 2292.33, 986.39)\" x=\"2292.33\" y=\"986.39\">2030</text>\n",
       "</g>\n",
       "<g clip-path=\"url(#clip730)\">\n",
       "<text style=\"fill:#000000; fill-opacity:1; font-family:Arial,Helvetica Neue,Helvetica,sans-serif; font-size:59px; text-anchor:middle;\" transform=\"rotate(0, 1285.28, 1057.8)\" x=\"1285.28\" y=\"1057.8\">year</text>\n",
       "</g>\n",
       "<polyline clip-path=\"url(#clip730)\" style=\"stroke:#000000; stroke-linecap:round; stroke-linejoin:round; stroke-width:4; stroke-opacity:1; fill:none\" points=\"217.81,904.653 217.81,47.2441 \"/>\n",
       "<polyline clip-path=\"url(#clip730)\" style=\"stroke:#000000; stroke-linecap:round; stroke-linejoin:round; stroke-width:4; stroke-opacity:1; fill:none\" points=\"217.81,904.653 198.912,904.653 \"/>\n",
       "<polyline clip-path=\"url(#clip730)\" style=\"stroke:#000000; stroke-linecap:round; stroke-linejoin:round; stroke-width:4; stroke-opacity:1; fill:none\" points=\"217.81,652.474 198.912,652.474 \"/>\n",
       "<polyline clip-path=\"url(#clip730)\" style=\"stroke:#000000; stroke-linecap:round; stroke-linejoin:round; stroke-width:4; stroke-opacity:1; fill:none\" points=\"217.81,400.295 198.912,400.295 \"/>\n",
       "<polyline clip-path=\"url(#clip730)\" style=\"stroke:#000000; stroke-linecap:round; stroke-linejoin:round; stroke-width:4; stroke-opacity:1; fill:none\" points=\"217.81,148.116 198.912,148.116 \"/>\n",
       "<g clip-path=\"url(#clip730)\">\n",
       "<text style=\"fill:#000000; fill-opacity:1; font-family:Arial,Helvetica Neue,Helvetica,sans-serif; font-size:59px; text-anchor:middle;\" transform=\"rotate(0, 121.994, 926.153)\" x=\"121.994\" y=\"926.153\">0.0</text>\n",
       "</g>\n",
       "<g clip-path=\"url(#clip730)\">\n",
       "<text style=\"fill:#000000; fill-opacity:1; font-family:Arial,Helvetica Neue,Helvetica,sans-serif; font-size:59px; text-anchor:middle;\" transform=\"rotate(0, 121.994, 673.974)\" x=\"121.994\" y=\"673.974\">0.5</text>\n",
       "</g>\n",
       "<g clip-path=\"url(#clip730)\">\n",
       "<text style=\"fill:#000000; fill-opacity:1; font-family:Arial,Helvetica Neue,Helvetica,sans-serif; font-size:59px; text-anchor:middle;\" transform=\"rotate(0, 121.994, 421.795)\" x=\"121.994\" y=\"421.795\">1.0</text>\n",
       "</g>\n",
       "<g clip-path=\"url(#clip730)\">\n",
       "<text style=\"fill:#000000; fill-opacity:1; font-family:Arial,Helvetica Neue,Helvetica,sans-serif; font-size:59px; text-anchor:middle;\" transform=\"rotate(0, 121.994, 169.616)\" x=\"121.994\" y=\"169.616\">1.5</text>\n",
       "</g>\n",
       "<g clip-path=\"url(#clip730)\">\n",
       "<text style=\"fill:#000000; fill-opacity:1; font-family:Arial,Helvetica Neue,Helvetica,sans-serif; font-size:59px; text-anchor:middle;\" transform=\"rotate(-90, 50.9028, 475.949)\" x=\"50.9028\" y=\"475.949\">reproduction number</text>\n",
       "</g>\n",
       "<polyline clip-path=\"url(#clip732)\" style=\"stroke:#000000; stroke-linecap:round; stroke-linejoin:round; stroke-width:4; stroke-opacity:1; fill:none\" points=\"781.758,506.21 781.758,475.949 \"/>\n",
       "<path clip-path=\"url(#clip732)\" d=\"M278.233 527.499 L781.758 500.919 L1285.28 476.635 L1688.1 458.3 L2292.33 440.95 L2292.33 426.332 L1688.1 441.881 L1285.28 458.515 L781.758 480.844 L278.233 505.931  Z\" fill=\"#009af9\" fill-rule=\"evenodd\" fill-opacity=\"0.15\"/>\n",
       "<polyline clip-path=\"url(#clip732)\" style=\"stroke:#009af9; stroke-linecap:round; stroke-linejoin:round; stroke-width:4; stroke-opacity:1; fill:none\" points=\"278.233,516.854 781.758,491.079 1285.28,467.887 1688.1,450.354 2292.33,433.904 \"/>\n",
       "<path clip-path=\"url(#clip732)\" d=\"M278.233 517.855 L781.758 494.145 L1285.28 465.951 L1688.1 447.971 L2292.33 430.439 L2292.33 417.786 L1688.1 433.613 L1285.28 449.61 L781.758 474.277 L278.233 496.353  Z\" fill=\"#e26f46\" fill-rule=\"evenodd\" fill-opacity=\"0.15\"/>\n",
       "<polyline clip-path=\"url(#clip732)\" style=\"stroke:#e26f46; stroke-linecap:round; stroke-linejoin:round; stroke-width:4; stroke-opacity:1; fill:none\" points=\"278.233,507.278 781.758,484.557 1285.28,458.021 1688.1,441.029 2292.33,424.332 \"/>\n",
       "<path clip-path=\"url(#clip732)\" d=\"M1688.1 179.113 L2292.33 137.606 L2292.33 73.6629 L1688.1 118.34  Z\" fill=\"#4169e1\" fill-rule=\"evenodd\" fill-opacity=\"0.15\"/>\n",
       "<polyline clip-path=\"url(#clip732)\" style=\"stroke:#4169e1; stroke-linecap:round; stroke-linejoin:round; stroke-width:4; stroke-opacity:1; fill:none\" points=\"1688.1,149.971 2292.33,106.701 \"/>\n",
       "<path clip-path=\"url(#clip732)\" d=\"M1688.1 374.497 L2292.33 347.808 L2292.33 316.361 L1688.1 344.346  Z\" fill=\"#b22222\" fill-rule=\"evenodd\" fill-opacity=\"0.15\"/>\n",
       "<polyline clip-path=\"url(#clip732)\" style=\"stroke:#b22222; stroke-linecap:round; stroke-linejoin:round; stroke-width:4; stroke-opacity:1; fill:none\" points=\"1688.1,359.707 2292.33,332.212 \"/>\n",
       "<polyline clip-path=\"url(#clip732)\" style=\"stroke:#7f7f7f; stroke-linecap:round; stroke-linejoin:round; stroke-width:4; stroke-opacity:0.5; fill:none\" stroke-dasharray=\"16, 10\" points=\"-1917.14,400.295 4487.7,400.295 \"/>\n",
       "<circle clip-path=\"url(#clip732)\" cx=\"781.758\" cy=\"491.079\" r=\"14.4\" fill=\"#000000\" fill-rule=\"evenodd\" fill-opacity=\"1\" stroke=\"none\"/>\n",
       "<polyline clip-path=\"url(#clip732)\" style=\"stroke:#000000; stroke-linecap:round; stroke-linejoin:round; stroke-width:4; stroke-opacity:1; fill:none\" points=\"580.348,491.079 983.168,491.079 \"/>\n",
       "<polyline clip-path=\"url(#clip732)\" style=\"stroke:#007bc7; stroke-linecap:round; stroke-linejoin:round; stroke-width:4; stroke-opacity:1; fill:none\" points=\"1597.47,521.341 1597.47,440.643 \"/>\n",
       "<circle clip-path=\"url(#clip732)\" cx=\"1597.47\" cy=\"480.992\" r=\"14.4\" fill=\"#007bc7\" fill-rule=\"evenodd\" fill-opacity=\"1\" stroke=\"none\"/>\n",
       "<polyline clip-path=\"url(#clip732)\" style=\"stroke:#007bc7; stroke-linecap:round; stroke-linejoin:round; stroke-width:4; stroke-opacity:1; fill:none\" points=\"1617.61,516.297 1617.61,435.6 \"/>\n",
       "<circle clip-path=\"url(#clip732)\" cx=\"1617.61\" cy=\"475.949\" r=\"14.4\" fill=\"#ffffff\" fill-rule=\"evenodd\" fill-opacity=\"1\" stroke=\"#007bc7\" stroke-opacity=\"1\" stroke-width=\"2.4\"/>\n",
       "<polyline clip-path=\"url(#clip732)\" style=\"stroke:#3454b4; stroke-linecap:round; stroke-linejoin:round; stroke-width:4; stroke-opacity:1; fill:none\" points=\"1698.17,168.29 1698.17,122.898 \"/>\n",
       "<circle clip-path=\"url(#clip732)\" cx=\"1698.17\" cy=\"148.116\" r=\"14.4\" fill=\"#3454b4\" fill-rule=\"evenodd\" fill-opacity=\"1\" stroke=\"none\"/>\n",
       "<polyline clip-path=\"url(#clip732)\" style=\"stroke:#3454b4; stroke-linecap:round; stroke-linejoin:round; stroke-width:4; stroke-opacity:1; fill:none\" points=\"1718.31,233.857 1718.31,193.508 \"/>\n",
       "<circle clip-path=\"url(#clip732)\" cx=\"1718.31\" cy=\"213.682\" r=\"14.4\" fill=\"#ffffff\" fill-rule=\"evenodd\" fill-opacity=\"1\" stroke=\"#3454b4\" stroke-opacity=\"1\" stroke-width=\"2.4\"/>\n",
       "<path clip-path=\"url(#clip730)\" d=\"M288.975 327.323 L882.34 327.323 L882.34 75.8244 L288.975 75.8244  Z\" fill=\"#000000\" fill-rule=\"evenodd\" fill-opacity=\"0\"/>\n",
       "<polyline clip-path=\"url(#clip730)\" style=\"stroke:#000000; stroke-linecap:round; stroke-linejoin:round; stroke-width:4; stroke-opacity:0; fill:none\" points=\"288.975,327.323 882.34,327.323 882.34,75.8244 288.975,75.8244 288.975,327.323 \"/>\n",
       "<polyline clip-path=\"url(#clip730)\" style=\"stroke:#009af9; stroke-linecap:round; stroke-linejoin:round; stroke-width:4; stroke-opacity:1; fill:none\" points=\"312.696,126.124 455.026,126.124 \"/>\n",
       "<g clip-path=\"url(#clip730)\">\n",
       "<text style=\"fill:#000000; fill-opacity:1; font-family:Arial,Helvetica Neue,Helvetica,sans-serif; font-size:48px; text-anchor:start;\" transform=\"rotate(0, 478.748, 143.624)\" x=\"478.748\" y=\"143.624\">clade Ia (DRC)</text>\n",
       "</g>\n",
       "<polyline clip-path=\"url(#clip730)\" style=\"stroke:#e26f46; stroke-linecap:round; stroke-linejoin:round; stroke-width:4; stroke-opacity:1; fill:none\" points=\"312.696,176.424 455.026,176.424 \"/>\n",
       "<g clip-path=\"url(#clip730)\">\n",
       "<text style=\"fill:#000000; fill-opacity:1; font-family:Arial,Helvetica Neue,Helvetica,sans-serif; font-size:48px; text-anchor:start;\" transform=\"rotate(0, 478.748, 193.924)\" x=\"478.748\" y=\"193.924\">clade Ia (Burundi)</text>\n",
       "</g>\n",
       "<polyline clip-path=\"url(#clip730)\" style=\"stroke:#4169e1; stroke-linecap:round; stroke-linejoin:round; stroke-width:4; stroke-opacity:1; fill:none\" points=\"312.696,226.724 455.026,226.724 \"/>\n",
       "<g clip-path=\"url(#clip730)\">\n",
       "<text style=\"fill:#000000; fill-opacity:1; font-family:Arial,Helvetica Neue,Helvetica,sans-serif; font-size:48px; text-anchor:start;\" transform=\"rotate(0, 478.748, 244.224)\" x=\"478.748\" y=\"244.224\">clade Ib (DRC)</text>\n",
       "</g>\n",
       "<polyline clip-path=\"url(#clip730)\" style=\"stroke:#b22222; stroke-linecap:round; stroke-linejoin:round; stroke-width:4; stroke-opacity:1; fill:none\" points=\"312.696,277.023 455.026,277.023 \"/>\n",
       "<g clip-path=\"url(#clip730)\">\n",
       "<text style=\"fill:#000000; fill-opacity:1; font-family:Arial,Helvetica Neue,Helvetica,sans-serif; font-size:48px; text-anchor:start;\" transform=\"rotate(0, 478.748, 294.523)\" x=\"478.748\" y=\"294.523\">clade Ib (Burundi)</text>\n",
       "</g>\n",
       "<g clip-path=\"url(#clip730)\">\n",
       "<text style=\"fill:#000000; fill-opacity:1; font-family:Arial,Helvetica Neue,Helvetica,sans-serif; font-size:41px; text-anchor:middle;\" transform=\"rotate(0, 781.758, 566.602)\" x=\"781.758\" y=\"566.602\">Tshuapa</text>\n",
       "</g>\n",
       "<g clip-path=\"url(#clip730)\">\n",
       "<text style=\"fill:#000000; fill-opacity:1; font-family:Arial,Helvetica Neue,Helvetica,sans-serif; font-size:41px; text-anchor:middle;\" transform=\"rotate(0, 1496.76, 495.992)\" x=\"1496.76\" y=\"495.992\">pre-Ib 1</text>\n",
       "</g>\n",
       "<g clip-path=\"url(#clip730)\">\n",
       "<text style=\"fill:#000000; fill-opacity:1; font-family:Arial,Helvetica Neue,Helvetica,sans-serif; font-size:41px; text-anchor:middle;\" transform=\"rotate(0, 1718.31, 490.949)\" x=\"1718.31\" y=\"490.949\">pre-Ib 2</text>\n",
       "</g>\n",
       "<g clip-path=\"url(#clip730)\">\n",
       "<text style=\"fill:#000000; fill-opacity:1; font-family:Arial,Helvetica Neue,Helvetica,sans-serif; font-size:41px; text-anchor:middle;\" transform=\"rotate(0, 1617.61, 163.116)\" x=\"1617.61\" y=\"163.116\">SK 1</text>\n",
       "</g>\n",
       "<g clip-path=\"url(#clip730)\">\n",
       "<text style=\"fill:#000000; fill-opacity:1; font-family:Arial,Helvetica Neue,Helvetica,sans-serif; font-size:41px; text-anchor:middle;\" transform=\"rotate(0, 1637.75, 228.682)\" x=\"1637.75\" y=\"228.682\">SK 2</text>\n",
       "</g>\n",
       "</svg>\n"
      ],
      "text/html": [
       "<?xml version=\"1.0\" encoding=\"utf-8\"?>\n",
       "<svg xmlns=\"http://www.w3.org/2000/svg\" xmlns:xlink=\"http://www.w3.org/1999/xlink\" width=\"600\" height=\"300\" viewBox=\"0 0 2400 1200\">\n",
       "<defs>\n",
       "  <clipPath id=\"clip780\">\n",
       "    <rect x=\"0\" y=\"0\" width=\"2400\" height=\"1200\"/>\n",
       "  </clipPath>\n",
       "</defs>\n",
       "<path clip-path=\"url(#clip780)\" d=\"M0 1200 L2400 1200 L2400 0 L0 0  Z\" fill=\"#ffffff\" fill-rule=\"evenodd\" fill-opacity=\"1\"/>\n",
       "<defs>\n",
       "  <clipPath id=\"clip781\">\n",
       "    <rect x=\"480\" y=\"0\" width=\"1681\" height=\"1200\"/>\n",
       "  </clipPath>\n",
       "</defs>\n",
       "<path clip-path=\"url(#clip780)\" d=\"M217.81 904.653 L2352.76 904.653 L2352.76 47.2441 L217.81 47.2441  Z\" fill=\"#ffffff\" fill-rule=\"evenodd\" fill-opacity=\"1\"/>\n",
       "<defs>\n",
       "  <clipPath id=\"clip782\">\n",
       "    <rect x=\"217\" y=\"47\" width=\"2136\" height=\"858\"/>\n",
       "  </clipPath>\n",
       "</defs>\n",
       "<polyline clip-path=\"url(#clip782)\" style=\"stroke:#000000; stroke-linecap:round; stroke-linejoin:round; stroke-width:2; stroke-opacity:0.1; fill:none\" points=\"278.233,904.653 278.233,47.2441 \"/>\n",
       "<polyline clip-path=\"url(#clip782)\" style=\"stroke:#000000; stroke-linecap:round; stroke-linejoin:round; stroke-width:2; stroke-opacity:0.1; fill:none\" points=\"781.758,904.653 781.758,47.2441 \"/>\n",
       "<polyline clip-path=\"url(#clip782)\" style=\"stroke:#000000; stroke-linecap:round; stroke-linejoin:round; stroke-width:2; stroke-opacity:0.1; fill:none\" points=\"1285.28,904.653 1285.28,47.2441 \"/>\n",
       "<polyline clip-path=\"url(#clip782)\" style=\"stroke:#000000; stroke-linecap:round; stroke-linejoin:round; stroke-width:2; stroke-opacity:0.1; fill:none\" points=\"1788.81,904.653 1788.81,47.2441 \"/>\n",
       "<polyline clip-path=\"url(#clip782)\" style=\"stroke:#000000; stroke-linecap:round; stroke-linejoin:round; stroke-width:2; stroke-opacity:0.1; fill:none\" points=\"2292.33,904.653 2292.33,47.2441 \"/>\n",
       "<polyline clip-path=\"url(#clip782)\" style=\"stroke:#000000; stroke-linecap:round; stroke-linejoin:round; stroke-width:2; stroke-opacity:0.1; fill:none\" points=\"217.81,904.653 2352.76,904.653 \"/>\n",
       "<polyline clip-path=\"url(#clip782)\" style=\"stroke:#000000; stroke-linecap:round; stroke-linejoin:round; stroke-width:2; stroke-opacity:0.1; fill:none\" points=\"217.81,652.474 2352.76,652.474 \"/>\n",
       "<polyline clip-path=\"url(#clip782)\" style=\"stroke:#000000; stroke-linecap:round; stroke-linejoin:round; stroke-width:2; stroke-opacity:0.1; fill:none\" points=\"217.81,400.295 2352.76,400.295 \"/>\n",
       "<polyline clip-path=\"url(#clip782)\" style=\"stroke:#000000; stroke-linecap:round; stroke-linejoin:round; stroke-width:2; stroke-opacity:0.1; fill:none\" points=\"217.81,148.116 2352.76,148.116 \"/>\n",
       "<polyline clip-path=\"url(#clip780)\" style=\"stroke:#000000; stroke-linecap:round; stroke-linejoin:round; stroke-width:4; stroke-opacity:1; fill:none\" points=\"217.81,904.653 2352.76,904.653 \"/>\n",
       "<polyline clip-path=\"url(#clip780)\" style=\"stroke:#000000; stroke-linecap:round; stroke-linejoin:round; stroke-width:4; stroke-opacity:1; fill:none\" points=\"278.233,904.653 278.233,923.551 \"/>\n",
       "<polyline clip-path=\"url(#clip780)\" style=\"stroke:#000000; stroke-linecap:round; stroke-linejoin:round; stroke-width:4; stroke-opacity:1; fill:none\" points=\"781.758,904.653 781.758,923.551 \"/>\n",
       "<polyline clip-path=\"url(#clip780)\" style=\"stroke:#000000; stroke-linecap:round; stroke-linejoin:round; stroke-width:4; stroke-opacity:1; fill:none\" points=\"1285.28,904.653 1285.28,923.551 \"/>\n",
       "<polyline clip-path=\"url(#clip780)\" style=\"stroke:#000000; stroke-linecap:round; stroke-linejoin:round; stroke-width:4; stroke-opacity:1; fill:none\" points=\"1788.81,904.653 1788.81,923.551 \"/>\n",
       "<polyline clip-path=\"url(#clip780)\" style=\"stroke:#000000; stroke-linecap:round; stroke-linejoin:round; stroke-width:4; stroke-opacity:1; fill:none\" points=\"2292.33,904.653 2292.33,923.551 \"/>\n",
       "<g clip-path=\"url(#clip780)\">\n",
       "<text style=\"fill:#000000; fill-opacity:1; font-family:Arial,Helvetica Neue,Helvetica,sans-serif; font-size:59px; text-anchor:middle;\" transform=\"rotate(0, 278.233, 986.39)\" x=\"278.233\" y=\"986.39\">2010</text>\n",
       "</g>\n",
       "<g clip-path=\"url(#clip780)\">\n",
       "<text style=\"fill:#000000; fill-opacity:1; font-family:Arial,Helvetica Neue,Helvetica,sans-serif; font-size:59px; text-anchor:middle;\" transform=\"rotate(0, 781.758, 986.39)\" x=\"781.758\" y=\"986.39\">2015</text>\n",
       "</g>\n",
       "<g clip-path=\"url(#clip780)\">\n",
       "<text style=\"fill:#000000; fill-opacity:1; font-family:Arial,Helvetica Neue,Helvetica,sans-serif; font-size:59px; text-anchor:middle;\" transform=\"rotate(0, 1285.28, 986.39)\" x=\"1285.28\" y=\"986.39\">2020</text>\n",
       "</g>\n",
       "<g clip-path=\"url(#clip780)\">\n",
       "<text style=\"fill:#000000; fill-opacity:1; font-family:Arial,Helvetica Neue,Helvetica,sans-serif; font-size:59px; text-anchor:middle;\" transform=\"rotate(0, 1788.81, 986.39)\" x=\"1788.81\" y=\"986.39\">2025</text>\n",
       "</g>\n",
       "<g clip-path=\"url(#clip780)\">\n",
       "<text style=\"fill:#000000; fill-opacity:1; font-family:Arial,Helvetica Neue,Helvetica,sans-serif; font-size:59px; text-anchor:middle;\" transform=\"rotate(0, 2292.33, 986.39)\" x=\"2292.33\" y=\"986.39\">2030</text>\n",
       "</g>\n",
       "<g clip-path=\"url(#clip780)\">\n",
       "<text style=\"fill:#000000; fill-opacity:1; font-family:Arial,Helvetica Neue,Helvetica,sans-serif; font-size:59px; text-anchor:middle;\" transform=\"rotate(0, 1285.28, 1057.8)\" x=\"1285.28\" y=\"1057.8\">year</text>\n",
       "</g>\n",
       "<polyline clip-path=\"url(#clip780)\" style=\"stroke:#000000; stroke-linecap:round; stroke-linejoin:round; stroke-width:4; stroke-opacity:1; fill:none\" points=\"217.81,904.653 217.81,47.2441 \"/>\n",
       "<polyline clip-path=\"url(#clip780)\" style=\"stroke:#000000; stroke-linecap:round; stroke-linejoin:round; stroke-width:4; stroke-opacity:1; fill:none\" points=\"217.81,904.653 198.912,904.653 \"/>\n",
       "<polyline clip-path=\"url(#clip780)\" style=\"stroke:#000000; stroke-linecap:round; stroke-linejoin:round; stroke-width:4; stroke-opacity:1; fill:none\" points=\"217.81,652.474 198.912,652.474 \"/>\n",
       "<polyline clip-path=\"url(#clip780)\" style=\"stroke:#000000; stroke-linecap:round; stroke-linejoin:round; stroke-width:4; stroke-opacity:1; fill:none\" points=\"217.81,400.295 198.912,400.295 \"/>\n",
       "<polyline clip-path=\"url(#clip780)\" style=\"stroke:#000000; stroke-linecap:round; stroke-linejoin:round; stroke-width:4; stroke-opacity:1; fill:none\" points=\"217.81,148.116 198.912,148.116 \"/>\n",
       "<g clip-path=\"url(#clip780)\">\n",
       "<text style=\"fill:#000000; fill-opacity:1; font-family:Arial,Helvetica Neue,Helvetica,sans-serif; font-size:59px; text-anchor:middle;\" transform=\"rotate(0, 121.994, 926.153)\" x=\"121.994\" y=\"926.153\">0.0</text>\n",
       "</g>\n",
       "<g clip-path=\"url(#clip780)\">\n",
       "<text style=\"fill:#000000; fill-opacity:1; font-family:Arial,Helvetica Neue,Helvetica,sans-serif; font-size:59px; text-anchor:middle;\" transform=\"rotate(0, 121.994, 673.974)\" x=\"121.994\" y=\"673.974\">0.5</text>\n",
       "</g>\n",
       "<g clip-path=\"url(#clip780)\">\n",
       "<text style=\"fill:#000000; fill-opacity:1; font-family:Arial,Helvetica Neue,Helvetica,sans-serif; font-size:59px; text-anchor:middle;\" transform=\"rotate(0, 121.994, 421.795)\" x=\"121.994\" y=\"421.795\">1.0</text>\n",
       "</g>\n",
       "<g clip-path=\"url(#clip780)\">\n",
       "<text style=\"fill:#000000; fill-opacity:1; font-family:Arial,Helvetica Neue,Helvetica,sans-serif; font-size:59px; text-anchor:middle;\" transform=\"rotate(0, 121.994, 169.616)\" x=\"121.994\" y=\"169.616\">1.5</text>\n",
       "</g>\n",
       "<g clip-path=\"url(#clip780)\">\n",
       "<text style=\"fill:#000000; fill-opacity:1; font-family:Arial,Helvetica Neue,Helvetica,sans-serif; font-size:59px; text-anchor:middle;\" transform=\"rotate(-90, 50.9028, 475.949)\" x=\"50.9028\" y=\"475.949\">reproduction number</text>\n",
       "</g>\n",
       "<polyline clip-path=\"url(#clip782)\" style=\"stroke:#000000; stroke-linecap:round; stroke-linejoin:round; stroke-width:4; stroke-opacity:1; fill:none\" points=\"781.758,506.21 781.758,475.949 \"/>\n",
       "<path clip-path=\"url(#clip782)\" d=\"M278.233 527.499 L781.758 500.919 L1285.28 476.635 L1688.1 458.3 L2292.33 440.95 L2292.33 426.332 L1688.1 441.881 L1285.28 458.515 L781.758 480.844 L278.233 505.931  Z\" fill=\"#009af9\" fill-rule=\"evenodd\" fill-opacity=\"0.15\"/>\n",
       "<polyline clip-path=\"url(#clip782)\" style=\"stroke:#009af9; stroke-linecap:round; stroke-linejoin:round; stroke-width:4; stroke-opacity:1; fill:none\" points=\"278.233,516.854 781.758,491.079 1285.28,467.887 1688.1,450.354 2292.33,433.904 \"/>\n",
       "<path clip-path=\"url(#clip782)\" d=\"M278.233 517.855 L781.758 494.145 L1285.28 465.951 L1688.1 447.971 L2292.33 430.439 L2292.33 417.786 L1688.1 433.613 L1285.28 449.61 L781.758 474.277 L278.233 496.353  Z\" fill=\"#e26f46\" fill-rule=\"evenodd\" fill-opacity=\"0.15\"/>\n",
       "<polyline clip-path=\"url(#clip782)\" style=\"stroke:#e26f46; stroke-linecap:round; stroke-linejoin:round; stroke-width:4; stroke-opacity:1; fill:none\" points=\"278.233,507.278 781.758,484.557 1285.28,458.021 1688.1,441.029 2292.33,424.332 \"/>\n",
       "<path clip-path=\"url(#clip782)\" d=\"M1688.1 179.113 L2292.33 137.606 L2292.33 73.6629 L1688.1 118.34  Z\" fill=\"#4169e1\" fill-rule=\"evenodd\" fill-opacity=\"0.15\"/>\n",
       "<polyline clip-path=\"url(#clip782)\" style=\"stroke:#4169e1; stroke-linecap:round; stroke-linejoin:round; stroke-width:4; stroke-opacity:1; fill:none\" points=\"1688.1,149.971 2292.33,106.701 \"/>\n",
       "<path clip-path=\"url(#clip782)\" d=\"M1688.1 374.497 L2292.33 347.808 L2292.33 316.361 L1688.1 344.346  Z\" fill=\"#b22222\" fill-rule=\"evenodd\" fill-opacity=\"0.15\"/>\n",
       "<polyline clip-path=\"url(#clip782)\" style=\"stroke:#b22222; stroke-linecap:round; stroke-linejoin:round; stroke-width:4; stroke-opacity:1; fill:none\" points=\"1688.1,359.707 2292.33,332.212 \"/>\n",
       "<polyline clip-path=\"url(#clip782)\" style=\"stroke:#7f7f7f; stroke-linecap:round; stroke-linejoin:round; stroke-width:4; stroke-opacity:0.5; fill:none\" stroke-dasharray=\"16, 10\" points=\"-1917.14,400.295 4487.7,400.295 \"/>\n",
       "<circle clip-path=\"url(#clip782)\" cx=\"781.758\" cy=\"491.079\" r=\"14.4\" fill=\"#000000\" fill-rule=\"evenodd\" fill-opacity=\"1\" stroke=\"none\"/>\n",
       "<polyline clip-path=\"url(#clip782)\" style=\"stroke:#000000; stroke-linecap:round; stroke-linejoin:round; stroke-width:4; stroke-opacity:1; fill:none\" points=\"580.348,491.079 983.168,491.079 \"/>\n",
       "<polyline clip-path=\"url(#clip782)\" style=\"stroke:#007bc7; stroke-linecap:round; stroke-linejoin:round; stroke-width:4; stroke-opacity:1; fill:none\" points=\"1597.47,521.341 1597.47,440.643 \"/>\n",
       "<circle clip-path=\"url(#clip782)\" cx=\"1597.47\" cy=\"480.992\" r=\"14.4\" fill=\"#007bc7\" fill-rule=\"evenodd\" fill-opacity=\"1\" stroke=\"none\"/>\n",
       "<polyline clip-path=\"url(#clip782)\" style=\"stroke:#007bc7; stroke-linecap:round; stroke-linejoin:round; stroke-width:4; stroke-opacity:1; fill:none\" points=\"1617.61,516.297 1617.61,435.6 \"/>\n",
       "<circle clip-path=\"url(#clip782)\" cx=\"1617.61\" cy=\"475.949\" r=\"14.4\" fill=\"#ffffff\" fill-rule=\"evenodd\" fill-opacity=\"1\" stroke=\"#007bc7\" stroke-opacity=\"1\" stroke-width=\"2.4\"/>\n",
       "<polyline clip-path=\"url(#clip782)\" style=\"stroke:#3454b4; stroke-linecap:round; stroke-linejoin:round; stroke-width:4; stroke-opacity:1; fill:none\" points=\"1698.17,168.29 1698.17,122.898 \"/>\n",
       "<circle clip-path=\"url(#clip782)\" cx=\"1698.17\" cy=\"148.116\" r=\"14.4\" fill=\"#3454b4\" fill-rule=\"evenodd\" fill-opacity=\"1\" stroke=\"none\"/>\n",
       "<polyline clip-path=\"url(#clip782)\" style=\"stroke:#3454b4; stroke-linecap:round; stroke-linejoin:round; stroke-width:4; stroke-opacity:1; fill:none\" points=\"1718.31,233.857 1718.31,193.508 \"/>\n",
       "<circle clip-path=\"url(#clip782)\" cx=\"1718.31\" cy=\"213.682\" r=\"14.4\" fill=\"#ffffff\" fill-rule=\"evenodd\" fill-opacity=\"1\" stroke=\"#3454b4\" stroke-opacity=\"1\" stroke-width=\"2.4\"/>\n",
       "<path clip-path=\"url(#clip780)\" d=\"M288.975 327.323 L882.34 327.323 L882.34 75.8244 L288.975 75.8244  Z\" fill=\"#000000\" fill-rule=\"evenodd\" fill-opacity=\"0\"/>\n",
       "<polyline clip-path=\"url(#clip780)\" style=\"stroke:#000000; stroke-linecap:round; stroke-linejoin:round; stroke-width:4; stroke-opacity:0; fill:none\" points=\"288.975,327.323 882.34,327.323 882.34,75.8244 288.975,75.8244 288.975,327.323 \"/>\n",
       "<polyline clip-path=\"url(#clip780)\" style=\"stroke:#009af9; stroke-linecap:round; stroke-linejoin:round; stroke-width:4; stroke-opacity:1; fill:none\" points=\"312.696,126.124 455.026,126.124 \"/>\n",
       "<g clip-path=\"url(#clip780)\">\n",
       "<text style=\"fill:#000000; fill-opacity:1; font-family:Arial,Helvetica Neue,Helvetica,sans-serif; font-size:48px; text-anchor:start;\" transform=\"rotate(0, 478.748, 143.624)\" x=\"478.748\" y=\"143.624\">clade Ia (DRC)</text>\n",
       "</g>\n",
       "<polyline clip-path=\"url(#clip780)\" style=\"stroke:#e26f46; stroke-linecap:round; stroke-linejoin:round; stroke-width:4; stroke-opacity:1; fill:none\" points=\"312.696,176.424 455.026,176.424 \"/>\n",
       "<g clip-path=\"url(#clip780)\">\n",
       "<text style=\"fill:#000000; fill-opacity:1; font-family:Arial,Helvetica Neue,Helvetica,sans-serif; font-size:48px; text-anchor:start;\" transform=\"rotate(0, 478.748, 193.924)\" x=\"478.748\" y=\"193.924\">clade Ia (Burundi)</text>\n",
       "</g>\n",
       "<polyline clip-path=\"url(#clip780)\" style=\"stroke:#4169e1; stroke-linecap:round; stroke-linejoin:round; stroke-width:4; stroke-opacity:1; fill:none\" points=\"312.696,226.724 455.026,226.724 \"/>\n",
       "<g clip-path=\"url(#clip780)\">\n",
       "<text style=\"fill:#000000; fill-opacity:1; font-family:Arial,Helvetica Neue,Helvetica,sans-serif; font-size:48px; text-anchor:start;\" transform=\"rotate(0, 478.748, 244.224)\" x=\"478.748\" y=\"244.224\">clade Ib (DRC)</text>\n",
       "</g>\n",
       "<polyline clip-path=\"url(#clip780)\" style=\"stroke:#b22222; stroke-linecap:round; stroke-linejoin:round; stroke-width:4; stroke-opacity:1; fill:none\" points=\"312.696,277.023 455.026,277.023 \"/>\n",
       "<g clip-path=\"url(#clip780)\">\n",
       "<text style=\"fill:#000000; fill-opacity:1; font-family:Arial,Helvetica Neue,Helvetica,sans-serif; font-size:48px; text-anchor:start;\" transform=\"rotate(0, 478.748, 294.523)\" x=\"478.748\" y=\"294.523\">clade Ib (Burundi)</text>\n",
       "</g>\n",
       "<g clip-path=\"url(#clip780)\">\n",
       "<text style=\"fill:#000000; fill-opacity:1; font-family:Arial,Helvetica Neue,Helvetica,sans-serif; font-size:41px; text-anchor:middle;\" transform=\"rotate(0, 781.758, 566.602)\" x=\"781.758\" y=\"566.602\">Tshuapa</text>\n",
       "</g>\n",
       "<g clip-path=\"url(#clip780)\">\n",
       "<text style=\"fill:#000000; fill-opacity:1; font-family:Arial,Helvetica Neue,Helvetica,sans-serif; font-size:41px; text-anchor:middle;\" transform=\"rotate(0, 1496.76, 495.992)\" x=\"1496.76\" y=\"495.992\">pre-Ib 1</text>\n",
       "</g>\n",
       "<g clip-path=\"url(#clip780)\">\n",
       "<text style=\"fill:#000000; fill-opacity:1; font-family:Arial,Helvetica Neue,Helvetica,sans-serif; font-size:41px; text-anchor:middle;\" transform=\"rotate(0, 1718.31, 490.949)\" x=\"1718.31\" y=\"490.949\">pre-Ib 2</text>\n",
       "</g>\n",
       "<g clip-path=\"url(#clip780)\">\n",
       "<text style=\"fill:#000000; fill-opacity:1; font-family:Arial,Helvetica Neue,Helvetica,sans-serif; font-size:41px; text-anchor:middle;\" transform=\"rotate(0, 1617.61, 163.116)\" x=\"1617.61\" y=\"163.116\">SK 1</text>\n",
       "</g>\n",
       "<g clip-path=\"url(#clip780)\">\n",
       "<text style=\"fill:#000000; fill-opacity:1; font-family:Arial,Helvetica Neue,Helvetica,sans-serif; font-size:41px; text-anchor:middle;\" transform=\"rotate(0, 1637.75, 228.682)\" x=\"1637.75\" y=\"228.682\">SK 2</text>\n",
       "</g>\n",
       "</svg>\n"
      ]
     },
     "metadata": {},
     "output_type": "display_data"
    }
   ],
   "source": [
    "# plot\n",
    "years_vec = [2010, 2015, 2020, 2024, 2030]\n",
    "\n",
    "R0_drc = [quantile(scaled_nonsex_kivu[y], 0.5)   for y in years_vec]\n",
    "R0_drc_low = [quantile(scaled_nonsex_kivu[y], 0.025) for y in years_vec]\n",
    "R0_drc_up = [quantile(scaled_nonsex_kivu[y], 0.975) for y in years_vec]\n",
    "\n",
    "R0_bdi = [quantile(scaled_nonsex_buri[y], 0.5)   for y in years_vec]\n",
    "R0_bdi_low = [quantile(scaled_nonsex_buri[y], 0.025) for y in years_vec]\n",
    "R0_bdi_up = [quantile(scaled_nonsex_buri[y], 0.975) for y in years_vec]\n",
    "\n",
    "R0_drc_Ib = [quantile(scaled_total_kivu[y], 0.5)    for y in years_vec]\n",
    "R0_drc_Ib_low = [quantile(scaled_total_kivu[y], 0.025)  for y in years_vec]\n",
    "R0_drc_Ib_up = [quantile(scaled_total_kivu[y], 0.975)  for y in years_vec]\n",
    "\n",
    "R0_bdi_Ib = [quantile(scaled_total_buri[y], 0.5)    for y in years_vec]\n",
    "R0_bdi_Ib_low = [quantile(scaled_total_buri[y], 0.025)  for y in years_vec]\n",
    "R0_bdi_Ib_up = [quantile(scaled_total_buri[y], 0.975)  for y in years_vec]\n",
    "\n",
    "drc_halfwidth = (R0_drc .- R0_drc_low, R0_drc_up .- R0_drc)\n",
    "bdi_halfwidth = (R0_bdi .- R0_bdi_low, R0_bdi_up .- R0_bdi)\n",
    "drc_Ib_halfwidth = (R0_drc_Ib .- R0_drc_Ib_low, R0_drc_Ib_up .- R0_drc_Ib)\n",
    "bdi_Ib_halfwidth = (R0_bdi_Ib .- R0_bdi_Ib_low, R0_bdi_Ib_up .- R0_bdi_Ib)\n",
    "\n",
    "default_color = palette(:auto)[1]\n",
    "colours = [:royalblue, 1, 2, :firebrick,\n",
    "           RGBA(default_color*0.8,1.0),\n",
    "           RGBA(65/255*0.8,105/255*0.8,225/255*0.8,1.0)]\n",
    "bottom_margin = 10Plots.PlotMeasures.mm\n",
    "\n",
    "sel = findall(x->x in (2024,2030), years_vec)\n",
    "\n",
    "plt = plot([2015,2015], [0.79,0.85],\n",
    "           color=:black, xlabel=\"year\", ylabel=\"reproduction number\",\n",
    "           label=\"\", ylim=(0,1.7), size=(600,300),\n",
    "           bottom_margin=bottom_margin)\n",
    "\n",
    "# clade Ia (DRC)\n",
    "plot!(plt, years_vec, R0_drc,\n",
    "      ribbon=drc_halfwidth, fillalpha=0.15,\n",
    "      color=colours[2], label=\"clade Ia (DRC)\")\n",
    "\n",
    "# clade Ia (Burundi)\n",
    "plot!(plt, years_vec, R0_bdi,\n",
    "      ribbon=bdi_halfwidth, fillalpha=0.15,\n",
    "      color=colours[3], label=\"clade Ia (Burundi)\")\n",
    "\n",
    "# clade Ib (DRC)\n",
    "plot!(plt, years_vec[sel], R0_drc_Ib[sel],\n",
    "      ribbon=(drc_Ib_halfwidth[1][sel], drc_Ib_halfwidth[2][sel]),\n",
    "      fillalpha=0.15, color=colours[1], label=\"clade Ib (DRC)\")\n",
    "\n",
    "# clade Ib (Burundi)\n",
    "plot!(plt, years_vec[sel], R0_bdi_Ib[sel],\n",
    "      ribbon=(bdi_Ib_halfwidth[1][sel], bdi_Ib_halfwidth[2][sel]),\n",
    "      fillalpha=0.15, color=colours[4], label=\"clade Ib (Burundi)\")\n",
    "\n",
    "hline!(plt, [1], color=RGBA(0.5,0.5,0.5,0.5),\n",
    "       linestyle=:dash, label=\"\")\n",
    "\n",
    "scatter!(plt, [2015],[0.82], color=:black,\n",
    "         marker=:circle, markersize=4, markerstrokewidth=0,\n",
    "         label=nothing)\n",
    "plot!(plt, [2013,2017],[0.82,0.82], color=:black, label=nothing)\n",
    "annotate!(plt, 2015,0.7, text(\"Tshuapa\",\"Helvetica\",:black,7))\n",
    "\n",
    "plot!(plt, [2023.1,2023.1], [0.76,0.92], color=colours[5], label=nothing)\n",
    "scatter!(plt, [2023.1],[0.84], marker=:circle, color=colours[5],\n",
    "         markersize=4, markerstrokewidth=0, label=nothing)\n",
    "plot!(plt, [2023.3,2023.3], [0.77,0.93], color=colours[5], label=nothing)\n",
    "scatter!(plt, [2023.3],[0.85],\n",
    "         marker=:circle, markercolor=:white,\n",
    "         markerstrokecolor=colours[5],\n",
    "         markersize=4, markerstrokewidth=1, label=nothing)\n",
    "annotate!(2022.1, 0.84, text(\"pre-Ib 1\", \"Helvetica\", :black, 7), fontfamily=\"Helvetica\")\n",
    "annotate!(2024.3, 0.85, text(\"pre-Ib 2\", \"Helvetica\", :black, 7), fontfamily=\"Helvetica\")\n",
    "\n",
    "plot!(plt, [2024.1,2024.1], [1.46,1.55], color=colours[6], label=nothing)\n",
    "scatter!(plt, [2024.1],[1.50], marker=:circle, color=colours[6],\n",
    "         markersize=4, markerstrokewidth=0, label=nothing)\n",
    "plot!(plt, [2024.3,2024.3], [1.33,1.41], color=colours[6], label=nothing)\n",
    "scatter!(plt, [2024.3],[1.37],\n",
    "         marker=:circle, markercolor=:white,\n",
    "         markerstrokecolor=colours[6],\n",
    "         markersize=4, markerstrokewidth=1, label=nothing)\n",
    "annotate!(plt, 2023.3,1.50, text(\"SK 1\",\"Helvetica\",:black,7))\n",
    "annotate!(plt, 2023.5,1.37, text(\"SK 2\",\"Helvetica\",:black,7))\n",
    "\n",
    "#savefig(plt, \"fig_2b.svg\")\n",
    "display(plt)"
   ]
  }
 ],
 "metadata": {
  "jupytext": {
   "encoding": "# -*- coding: utf-8 -*-",
   "formats": "ipynb,jl:light"
  },
  "kernelspec": {
   "display_name": "Julia 1.9.3",
   "language": "julia",
   "name": "julia-1.9"
  },
  "language_info": {
   "file_extension": ".jl",
   "mimetype": "application/julia",
   "name": "julia",
   "version": "1.9.3"
  }
 },
 "nbformat": 4,
 "nbformat_minor": 5
}
